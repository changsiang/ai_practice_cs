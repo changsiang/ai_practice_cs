{
 "cells": [
  {
   "cell_type": "markdown",
   "metadata": {},
   "source": [
    "# [Workshop] Knowledge Discoervy by Decision Tree"
   ]
  },
  {
   "cell_type": "markdown",
   "metadata": {},
   "source": [
    "# 0. Installation (one time job)"
   ]
  },
  {
   "cell_type": "code",
   "execution_count": null,
   "metadata": {},
   "outputs": [],
   "source": [
    "# !pip install scikit-learn==0.23.1"
   ]
  },
  {
   "cell_type": "code",
   "execution_count": null,
   "metadata": {},
   "outputs": [],
   "source": [
    "# !pip install pandas"
   ]
  },
  {
   "cell_type": "code",
   "execution_count": null,
   "metadata": {},
   "outputs": [],
   "source": [
    "# !pip install matplotlib"
   ]
  },
  {
   "cell_type": "markdown",
   "metadata": {},
   "source": [
    "# 1. Import Library"
   ]
  },
  {
   "cell_type": "code",
   "execution_count": null,
   "metadata": {},
   "outputs": [],
   "source": [
    "import numpy as np\n",
    "import pandas as pd\n",
    "import matplotlib.pyplot as plt\n",
    "from sklearn.model_selection import train_test_split\n",
    "from sklearn.preprocessing import StandardScaler\n",
    "from sklearn.tree import DecisionTreeClassifier\n",
    "from sklearn.tree import DecisionTreeRegressor\n",
    "from sklearn.tree import plot_tree, export_graphviz # Visualize Tree / Rules"
   ]
  },
  {
   "cell_type": "markdown",
   "metadata": {},
   "source": [
    "# 2. Import ASD Data"
   ]
  },
  {
   "cell_type": "code",
   "execution_count": null,
   "metadata": {},
   "outputs": [],
   "source": [
    "# Loading the dataset\n",
    "# ASD_data = pd.read_csv('./data.csv')\n",
    "ASD_data = pd.read_csv('./Toddler Autism dataset.csv')\n",
    "\n",
    "# Print the first 5 rows of the dataframe.\n",
    "print(ASD_data.head())"
   ]
  },
  {
   "cell_type": "code",
   "execution_count": null,
   "metadata": {},
   "outputs": [],
   "source": [
    "# Replace special \n",
    "ASD_data.columns=ASD_data.columns.str.replace('-','_')\n",
    "ASD_data.columns=ASD_data.columns.str.replace('/','_')\n",
    "ASD_data.columns=ASD_data.columns.str.replace(' ','_')\n",
    "print(ASD_data.head())"
   ]
  },
  {
   "cell_type": "code",
   "execution_count": null,
   "metadata": {},
   "outputs": [],
   "source": [
    "# observing the shape of the data\n",
    "print(ASD_data.shape)"
   ]
  },
  {
   "cell_type": "code",
   "execution_count": null,
   "metadata": {},
   "outputs": [],
   "source": [
    "pd.Categorical(ASD_data['Ethnicity'])"
   ]
  },
  {
   "cell_type": "markdown",
   "metadata": {},
   "source": [
    "# 3. Data Preprocessing"
   ]
  },
  {
   "cell_type": "markdown",
   "metadata": {},
   "source": [
    "## 3.1. Choose appropriate features "
   ]
  },
  {
   "cell_type": "code",
   "execution_count": null,
   "metadata": {},
   "outputs": [],
   "source": [
    "Sex = pd.Categorical(pd.Categorical(ASD_data['Sex']).codes)\n",
    "Ethnicity = pd.Categorical(pd.Categorical(ASD_data['Ethnicity']).codes)\n",
    "Jaundice = pd.Categorical(pd.Categorical(ASD_data['Jaundice']).codes)\n",
    "Family_mem_with_ASD = pd.Categorical(pd.Categorical(ASD_data['Family_mem_with_ASD']).codes)\n",
    "Class_ASD_Traits_ = pd.Categorical(pd.Categorical(ASD_data['Class_ASD_Traits_']).codes)\n",
    "\n",
    "ASD_data['Sex'] = Sex\n",
    "ASD_data['Ethnicity'] = Ethnicity\n",
    "ASD_data['Jaundice'] = Jaundice\n",
    "ASD_data['Family_mem_with_ASD'] = Family_mem_with_ASD\n",
    "ASD_data['Class_ASD_Traits_'] = Class_ASD_Traits_\n",
    "\n",
    "# Check the data and think why we drop these variables?\n",
    "# X = ASD_data.drop(['Case_No', 'Who_completed_the_test', 'Score', 'ASD_Traits', 'A1', 'A2', 'A3', 'A4', 'A5', 'A6', 'A7', 'A8', 'A9', 'A10'], axis=1)\n",
    "X = ASD_data.drop(['Case_No', 'Who_completed_the_test', 'Qchat_10_Score', 'Class_ASD_Traits_'], axis=1)\n"
   ]
  },
  {
   "cell_type": "code",
   "execution_count": null,
   "metadata": {},
   "outputs": [],
   "source": [
    "X.columns"
   ]
  },
  {
   "cell_type": "markdown",
   "metadata": {},
   "source": [
    "## 3.2 Choose target"
   ]
  },
  {
   "cell_type": "code",
   "execution_count": null,
   "metadata": {},
   "outputs": [],
   "source": [
    "Y_classification = ASD_data.Class_ASD_Traits_\n",
    "Y_regression = ASD_data.Qchat_10_Score"
   ]
  },
  {
   "cell_type": "markdown",
   "metadata": {},
   "source": [
    "# 4. Build Classification Tree"
   ]
  },
  {
   "cell_type": "markdown",
   "metadata": {},
   "source": [
    "## 4.1 Split the dataset into training set and test set"
   ]
  },
  {
   "cell_type": "code",
   "execution_count": null,
   "metadata": {},
   "outputs": [],
   "source": [
    "X_train, X_test, y_train, y_test = train_test_split(X, Y_classification, test_size=1 / 3, random_state=1,\n",
    "                                                    stratify=Y_classification)\n",
    "print(X_train.shape)\n",
    "print(X_test.shape)"
   ]
  },
  {
   "cell_type": "code",
   "execution_count": null,
   "metadata": {},
   "outputs": [],
   "source": [
    "X_train.head()"
   ]
  },
  {
   "cell_type": "code",
   "execution_count": null,
   "metadata": {},
   "outputs": [],
   "source": [
    "y_train.head()"
   ]
  },
  {
   "cell_type": "markdown",
   "metadata": {},
   "source": [
    "## 4.2 Build classification tree"
   ]
  },
  {
   "cell_type": "code",
   "execution_count": null,
   "metadata": {},
   "outputs": [],
   "source": [
    "dt = DecisionTreeClassifier(criterion='gini',random_state=0)\n",
    "dt.fit(X_train, y_train)\n",
    "\n",
    "print(\"Accuracy on training set: {:.3f}\".format(dt.score(X_train, y_train)))\n",
    "print(\"Accuracy on test set: {:.3f}\".format(dt.score(X_test, y_test)))\n",
    "dt"
   ]
  },
  {
   "cell_type": "markdown",
   "metadata": {},
   "source": [
    "## 4.3. Use grid search to optimize the parameters"
   ]
  },
  {
   "cell_type": "code",
   "execution_count": null,
   "metadata": {},
   "outputs": [],
   "source": [
    "\n",
    "best_para = {'max_depth':0, 'min_samples':0}\n",
    "best_test_acc = 0\n",
    "\n",
    "# grid serach\n",
    "for max_depth in range(1, 10):\n",
    "    for min_samples in range(2,100):\n",
    "        dt = DecisionTreeClassifier(criterion='gini',max_depth=max_depth, min_samples_split = min_samples, random_state=0)\n",
    "        dt.fit(X_train, y_train)\n",
    "        if dt.score(X_test, y_test) > best_test_acc:\n",
    "            best_test_acc = dt.score(X_test, y_test)\n",
    "            best_para['max_depth'] = max_depth\n",
    "            best_para['min_samples'] = min_samples\n",
    "\n",
    "dt = DecisionTreeClassifier(criterion='gini',max_depth=best_para['max_depth'], min_samples_split = best_para['min_samples'], random_state=0)\n",
    "dt.fit(X_train, y_train)\n",
    "print(\"Best accuracy on training set: {:.3f}\".format(dt.score(X_train, y_train)))\n",
    "print(\"Best accuracy on test set: {:.3f}\".format(dt.score(X_test, y_test)))\n",
    "print(\"Best decision tree with parameter max_depth of {0} and min_samples_split of {1}\".format(best_para['max_depth'], best_para['min_samples']))"
   ]
  },
  {
   "cell_type": "markdown",
   "metadata": {},
   "source": [
    "# 5. Build Regression Tree"
   ]
  },
  {
   "cell_type": "markdown",
   "metadata": {},
   "source": [
    "## 5.1 Split the dataset into training set and test set"
   ]
  },
  {
   "cell_type": "code",
   "execution_count": null,
   "metadata": {},
   "outputs": [],
   "source": [
    "X_train, X_test, y_train, y_test = train_test_split(X, Y_regression, test_size=1 / 3, random_state=42)\n",
    "print(X_train.shape)\n",
    "print(X_test.shape)"
   ]
  },
  {
   "cell_type": "markdown",
   "metadata": {},
   "source": [
    "## 5.2 Build regreesion tree"
   ]
  },
  {
   "cell_type": "code",
   "execution_count": null,
   "metadata": {},
   "outputs": [],
   "source": [
    "dt = DecisionTreeRegressor(criterion='mse',random_state=0)\n",
    "dt.fit(X_train, y_train)\n",
    "\n",
    "\n",
    "print(\"Score on training set: {:.3f}\".format(dt.score(X_train, y_train)))\n",
    "print(\"Score on test set: {:.3f}\".format(dt.score(X_test, y_test)))"
   ]
  },
  {
   "cell_type": "markdown",
   "metadata": {},
   "source": [
    "## 5.3. Use grid search to optimize the parameters"
   ]
  },
  {
   "cell_type": "code",
   "execution_count": null,
   "metadata": {},
   "outputs": [],
   "source": [
    "best_para = {'max_depth':0, 'min_samples':0}\n",
    "best_test_acc = 0\n",
    "# grid serach\n",
    "for max_depth in range(1, 20):\n",
    "    for min_samples in range(2,50):\n",
    "        dt = DecisionTreeRegressor(criterion='mse',max_depth=max_depth, min_samples_split = min_samples, random_state=0)\n",
    "        dt.fit(X_train, y_train)\n",
    "        if dt.score(X_test, y_test) > best_test_acc:\n",
    "            best_test_acc = dt.score(X_test, y_test)\n",
    "            best_para['max_depth'] = max_depth\n",
    "            best_para['min_samples'] = min_samples\n",
    "\n",
    "dt = DecisionTreeRegressor(criterion='mse',max_depth=best_para['max_depth'], min_samples_split = best_para['min_samples'], random_state=0)\n",
    "dt.fit(X_train, y_train)\n",
    "print(\"Best score on training set: {:.3f}\".format(dt.score(X_train, y_train)))\n",
    "print(\"Best score on test set: {:.3f}\".format(dt.score(X_test, y_test)))\n",
    "print(\"Best regression tree with parameter max_depth of {0} and min_samples_split of {1}\".format(best_para['max_depth'], best_para['min_samples']))\n"
   ]
  },
  {
   "cell_type": "markdown",
   "metadata": {},
   "source": [
    "# 6. Extract all the rules (Decsion Tree's level = 8) from the classification tree"
   ]
  },
  {
   "cell_type": "markdown",
   "metadata": {},
   "source": [
    "Reference: https://scikit-learn.org/stable/modules/generated/sklearn.tree.plot_tree.html"
   ]
  },
  {
   "cell_type": "code",
   "execution_count": null,
   "metadata": {},
   "outputs": [],
   "source": [
    "###################################################################\n",
    "# Extract all the rules from the classification tree\n",
    "###################################################################\n",
    "#\n",
    "#\n",
    "#\n",
    "#\n",
    "#\n",
    "#\n",
    "#\n",
    "#\n",
    "#\n",
    "X_train, X_test, y_train, y_test = train_test_split(X, Y_classification, test_size=1 / 3, random_state=1,\n",
    "                                                    stratify=Y_classification)\n",
    "dt = DecisionTreeClassifier(criterion='gini',max_depth=best_para['max_depth'], min_samples_split = best_para['min_samples'], random_state=0)\n",
    "dt.fit(X_train, y_train)\n",
    "print(\"Accuracy on training set: {:.3f}\".format(dt.score(X_train, y_train)))\n",
    "print(\"Accuracy on test set: {:.3f}\".format(dt.score(X_test, y_test)))\n",
    "\n",
    "plt.figure(figsize=(68,12))\n",
    "plot_tree(dt, feature_names=X.columns, class_names=['Not ASD', 'ASD'], fontsize=10, filled=True)\n",
    "plt.show()"
   ]
  },
  {
   "cell_type": "markdown",
   "metadata": {},
   "source": [
    "### Useful Tips:"
   ]
  },
  {
   "cell_type": "code",
   "execution_count": null,
   "metadata": {},
   "outputs": [],
   "source": [
    "X_train, X_test, y_train, y_test = train_test_split(X, Y_classification, test_size=1 / 3, random_state=1,\n",
    "                                                    stratify=Y_classification)\n",
    "print(X_train.shape)\n",
    "print(X_test.shape)\n",
    "\n",
    "dt = DecisionTreeClassifier(criterion='gini',random_state=0, max_depth=3)\n",
    "dt.fit(X_train, y_train)\n",
    "\n",
    "print(\"Accuracy on training set: {:.3f}\".format(dt.score(X_train, y_train)))\n",
    "print(\"Accuracy on test set: {:.3f}\".format(dt.score(X_test, y_test)))\n",
    "dt"
   ]
  },
  {
   "cell_type": "code",
   "execution_count": null,
   "metadata": {
    "scrolled": false
   },
   "outputs": [],
   "source": [
    "# plt.rcParams['figure.figsize'] = [24, 12] # Optionally adjust inline graph size"
   ]
  },
  {
   "cell_type": "markdown",
   "metadata": {},
   "source": [
    "### install graphviz"
   ]
  },
  {
   "cell_type": "code",
   "execution_count": null,
   "metadata": {},
   "outputs": [],
   "source": [
    "# !pip install graphviz"
   ]
  },
  {
   "cell_type": "markdown",
   "metadata": {},
   "source": [
    "Also in Linux terminal: sudo apt install graphviz"
   ]
  },
  {
   "cell_type": "code",
   "execution_count": null,
   "metadata": {},
   "outputs": [],
   "source": [
    "import graphviz\n",
    "from sklearn.tree import export_graphviz\n",
    "\n",
    "dot_data = export_graphviz(dt, out_file=None, \n",
    "                      feature_names=X.columns,  \n",
    "                      class_names=['Not ASD', 'ASD'], # \"0\": Not ASD ; \"1\": ASD\n",
    "                      filled=True, rounded=True,  \n",
    "                      special_characters=True)  \n",
    "graph = graphviz.Source(dot_data)  \n",
    "# graph\n",
    "graph.render(\"tree_rules_image\", view=True)\n",
    "f = open(\"tree_rules.txt\",\"w+\")\n",
    "f.write(dot_data)\n",
    "f.close()\n"
   ]
  },
  {
   "cell_type": "markdown",
   "metadata": {},
   "source": [
    "---\n",
    "`The end is called new start.` --- ISS **I** **S**(elf) **S**(tudy)"
   ]
  }
 ],
 "metadata": {
  "kernelspec": {
   "display_name": "Python 3 (ipykernel)",
   "language": "python",
   "name": "python3"
  },
  "language_info": {
   "codemirror_mode": {
    "name": "ipython",
    "version": 3
   },
   "file_extension": ".py",
   "mimetype": "text/x-python",
   "name": "python",
   "nbconvert_exporter": "python",
   "pygments_lexer": "ipython3",
   "version": "3.9.7"
  }
 },
 "nbformat": 4,
 "nbformat_minor": 4
}
