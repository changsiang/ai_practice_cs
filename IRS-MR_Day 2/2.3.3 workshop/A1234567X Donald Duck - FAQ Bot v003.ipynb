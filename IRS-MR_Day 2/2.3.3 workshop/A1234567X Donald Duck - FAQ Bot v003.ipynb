{
 "cells": [
  {
   "cell_type": "markdown",
   "metadata": {},
   "source": [
    "# 0. Installation (one time job)"
   ]
  },
  {
   "cell_type": "code",
   "execution_count": 1,
   "metadata": {
    "scrolled": true
   },
   "outputs": [],
   "source": [
    "# !pip install chatterbot\n",
    "# !python -m spacy download en\n",
    "# !pip install pyyaml # Re-start Jupyter Notebook after installing pyyaml"
   ]
  },
  {
   "cell_type": "markdown",
   "metadata": {},
   "source": [
    "# 1. Import Library"
   ]
  },
  {
   "cell_type": "code",
   "execution_count": 2,
   "metadata": {},
   "outputs": [],
   "source": [
    "from chatterbot import ChatBot\n",
    "from chatterbot.trainers import ChatterBotCorpusTrainer\n",
    "from chatterbot.trainers import ListTrainer\n",
    "import pandas as pd"
   ]
  },
  {
   "cell_type": "markdown",
   "metadata": {},
   "source": [
    "# 2. Basic Usage"
   ]
  },
  {
   "cell_type": "markdown",
   "metadata": {},
   "source": [
    "# 2.1. Create a chatter bot called chatbot"
   ]
  },
  {
   "cell_type": "markdown",
   "metadata": {},
   "source": [
    "Fix to potential conflict to spacy 3.0 package:\n",
    "\n",
    "https://stackoverflow.com/questions/66087475/chatterbot-error-oserror-e941-cant-find-model-en\n",
    "\n",
    "/home/ai-user/anaconda3/envs/py36/lib/python3.6/site-packages/chatterbot/tagging.py\n"
   ]
  },
  {
   "cell_type": "raw",
   "metadata": {},
   "source": [
    "# 2021 APR 27 - GU Zhan (Sam)\n",
    "# https://stackoverflow.com/questions/66087475/chatterbot-error-oserror-e941-cant-find-model-en\n",
    "#        self.nlp = spacy.load(self.language.ISO_639_1.lower())\n",
    "        if self.language.ISO_639_1.lower() == 'en':\n",
    "            self.nlp = spacy.load('en_core_web_sm')\n",
    "        else:\n",
    "            self.nlp = spacy.load(self.language.ISO_639_1.lower())"
   ]
  },
  {
   "cell_type": "code",
   "execution_count": 3,
   "metadata": {
    "scrolled": true
   },
   "outputs": [],
   "source": [
    "chatbot = ChatBot('chatbot')"
   ]
  },
  {
   "cell_type": "markdown",
   "metadata": {},
   "source": [
    "# 2.2. Build chatterbot trainer"
   ]
  },
  {
   "cell_type": "code",
   "execution_count": 4,
   "metadata": {},
   "outputs": [],
   "source": [
    "# Since chatbot has no knowledge now, we create a new trainer for chatbot\n",
    "# There are several ways to train the chatbot. You can explore them in 'chatterbot.trainers'\n",
    "# ChatterBotCorpusTrainer is one of the trainer classes\n",
    "trainer = ChatterBotCorpusTrainer(chatbot)"
   ]
  },
  {
   "cell_type": "markdown",
   "metadata": {},
   "source": [
    "https://github.com/gunthercox/chatterbot-corpus"
   ]
  },
  {
   "cell_type": "code",
   "execution_count": 5,
   "metadata": {},
   "outputs": [
    {
     "name": "stdout",
     "output_type": "stream",
     "text": [
      "Training greetings.yml: [####################] 100%\n"
     ]
    }
   ],
   "source": [
    "# Train the chatbot based on the english corpus.\n",
    "# The corpus is given by the Chatterbot package.\n",
    "# You can also create your own corpus.\n",
    "# Once you train the chatbot with this corpus, annotate the below line with '#' preventing from duplicate training\n",
    "trainer.train(\"chatterbot.corpus.english.greetings\")"
   ]
  },
  {
   "cell_type": "markdown",
   "metadata": {},
   "source": [
    "# 2.3. Simple example"
   ]
  },
  {
   "cell_type": "code",
   "execution_count": 6,
   "metadata": {},
   "outputs": [
    {
     "name": "stdout",
     "output_type": "stream",
     "text": [
      "Hello\n"
     ]
    }
   ],
   "source": [
    "# Get a response to an input statement\n",
    "# If you try to present same questions with several times, you may get different answers. How can it get that?\n",
    "response = chatbot.get_response(\"Hi\")\n",
    "print(response)"
   ]
  },
  {
   "cell_type": "markdown",
   "metadata": {},
   "source": [
    "# 3. Create New Conversation for Chatterbot"
   ]
  },
  {
   "cell_type": "code",
   "execution_count": 7,
   "metadata": {},
   "outputs": [
    {
     "name": "stdout",
     "output_type": "stream",
     "text": [
      "Certainly Yes!\n"
     ]
    }
   ],
   "source": [
    "# Let's see what happens when you ask the chatbot -- Is Sam a good guy?\n",
    "response = chatbot.get_response(\"Is Sam a good guy?\")\n",
    "print(response)"
   ]
  },
  {
   "cell_type": "code",
   "execution_count": 8,
   "metadata": {},
   "outputs": [
    {
     "name": "stdout",
     "output_type": "stream",
     "text": [
      "List Trainer: [####################] 100%\n"
     ]
    }
   ],
   "source": [
    "# It seemly gives a irrelevant answer for the question. Could you figure out why?\n",
    "# That's because in the greeting corpus, no any conversation about if Sam is a good guy.\n",
    "# So we need to train the chatbot again!\n",
    "# This time we use the ListTrainer to train one conversation\n",
    "\n",
    "trainer = ListTrainer(chatbot)\n",
    "train_list = [\n",
    "    \"Is Sam a good guy?\",\n",
    "    \"Certainly Yes!\",\n",
    "    \"Does Sam wear glasses?\",\n",
    "    \"Yes\"\n",
    "]\n",
    "trainer.train(train_list)"
   ]
  },
  {
   "cell_type": "code",
   "execution_count": 9,
   "metadata": {},
   "outputs": [
    {
     "name": "stdout",
     "output_type": "stream",
     "text": [
      "Certainly Yes!\n"
     ]
    }
   ],
   "source": [
    "# Let's see what happens this time\n",
    "response = chatbot.get_response(\"Is Sam a good guy?\")\n",
    "print(response)"
   ]
  },
  {
   "cell_type": "markdown",
   "metadata": {},
   "source": [
    "# 4. Solve a Math Problem by Chatterbot"
   ]
  },
  {
   "cell_type": "markdown",
   "metadata": {},
   "source": [
    "# 4.1. Add the math logic_adapters into the attribute 'logic_adapters'"
   ]
  },
  {
   "cell_type": "code",
   "execution_count": 10,
   "metadata": {},
   "outputs": [],
   "source": [
    "chatbot = ChatBot('chatbot',\n",
    "                  logic_adapters=[\n",
    "                      'chatterbot.logic.BestMatch',\n",
    "                      'chatterbot.logic.MathematicalEvaluation'\n",
    "                  ])"
   ]
  },
  {
   "cell_type": "markdown",
   "metadata": {},
   "source": [
    "# 4.2. Ask a math question"
   ]
  },
  {
   "cell_type": "code",
   "execution_count": 11,
   "metadata": {},
   "outputs": [
    {
     "name": "stdout",
     "output_type": "stream",
     "text": [
      "1 * 1 + 2 - 3 / 5 = 2.4\n"
     ]
    }
   ],
   "source": [
    "# There are several logic_adapters in the chatterbot.logic package. Try explore for more.\n",
    "response = chatbot.get_response(\"1 * 1 + 2 - 3 / 5?\")\n",
    "print(response)"
   ]
  },
  {
   "cell_type": "markdown",
   "metadata": {},
   "source": [
    "# 5. Train an ASD FAQ Bot based on Q&A conversation pairs in ASD FAQ KB v001.xlsx"
   ]
  },
  {
   "cell_type": "markdown",
   "metadata": {},
   "source": [
    "# 5.1. Create a ListTrainer for training"
   ]
  },
  {
   "cell_type": "code",
   "execution_count": 12,
   "metadata": {},
   "outputs": [],
   "source": [
    "trainer = ListTrainer(chatbot)"
   ]
  },
  {
   "cell_type": "markdown",
   "metadata": {},
   "source": [
    "# 5.2. Load dataset"
   ]
  },
  {
   "cell_type": "code",
   "execution_count": 13,
   "metadata": {},
   "outputs": [
    {
     "name": "stdout",
     "output_type": "stream",
     "text": [
      "Number of Q&A Pairs is : 226\n"
     ]
    }
   ],
   "source": [
    "data = pd.read_excel('./ASD FAQ KB v001.xlsx', sheet_name='FAQ', engine='openpyxl')\n",
    "question = data.get('Question')\n",
    "answer = data.get('Long_Answer')\n",
    "print(\"Number of Q&A Pairs is :\", len(data))"
   ]
  },
  {
   "cell_type": "code",
   "execution_count": 14,
   "metadata": {},
   "outputs": [
    {
     "data": {
      "text/plain": [
       "0              What are Autism Spectrum Disorders (ASD)?\n",
       "1                                  How common is autism?\n",
       "2                   What causes autism? Can it be cured?\n",
       "3      Why doesn’t intervention center refer to its s...\n",
       "4       What are the types of Autism Spectrum Disorders?\n",
       "                             ...                        \n",
       "221    Do people with an autism spectrum disorder alw...\n",
       "222    How early can an autism spectrum disorder be r...\n",
       "223    What can parents do to help their child with a...\n",
       "224               What causes autism spectrum disorders?\n",
       "225    Are childhood vaccines responsible for autism ...\n",
       "Name: Question, Length: 226, dtype: object"
      ]
     },
     "execution_count": 14,
     "metadata": {},
     "output_type": "execute_result"
    }
   ],
   "source": [
    "question"
   ]
  },
  {
   "cell_type": "code",
   "execution_count": 15,
   "metadata": {},
   "outputs": [
    {
     "data": {
      "text/plain": [
       "0      ASD refers to a wide spectrum of neurodevelopm...\n",
       "1      According to a 2020 report commissioned by the...\n",
       "2      The causes of this complex disorder remain unc...\n",
       "3      Our students are children or youth who are cha...\n",
       "4      Autistic Disorder; Asperger Syndrome; Pervasiv...\n",
       "                             ...                        \n",
       "221    The level of intellectual functioning is extre...\n",
       "222    Identifying an autism spectrum disorder is dif...\n",
       "223    Parents have an essential role in providing su...\n",
       "224    Scientific evidence suggests that various fact...\n",
       "225    Available epidemiological data show that there...\n",
       "Name: Long_Answer, Length: 226, dtype: object"
      ]
     },
     "execution_count": 15,
     "metadata": {},
     "output_type": "execute_result"
    }
   ],
   "source": [
    "answer"
   ]
  },
  {
   "cell_type": "code",
   "execution_count": 16,
   "metadata": {},
   "outputs": [
    {
     "name": "stdout",
     "output_type": "stream",
     "text": [
      "[Q] What are Autism Spectrum Disorders (ASD)? \n",
      "[A] ASD refers to a wide spectrum of neurodevelopmental disorders that affect communication, behavior, and social interaction. Children with ASD have delayed or absent communication skills and may demonstrate repetitive or idiosyncratic use of language. They often have underdeveloped play skills and may engage in repetitive behaviors or adhere to rigid routines. For more information about the warning signs for autism, visit the U.S. Centers for Disease Control and Prevention website at www.cdc.gov/actearly. \n",
      "\n",
      "\n",
      "[Q] How common is autism? \n",
      "[A] According to a 2020 report commissioned by the U.S. Centers for Disease Control and Prevention, approximately one in 54 American children has been diagnosed with autism or a closely related neurodevelopmental disorder—a dramatic increase over the past decade. \n",
      "\n",
      "\n",
      "[Q] What causes autism? Can it be cured? \n",
      "[A] The causes of this complex disorder remain uncertain. Instructional methods such as Applied Behavior Analysis have proven effective in helping individuals with autism learn to overcome many of the challenges that autism presents. These interventions have proven particularly effective when started during the first several years of a child’s life. \n",
      "\n",
      "\n"
     ]
    }
   ],
   "source": [
    "# Display first few Q&A:\n",
    "for i in range(0, 3):\n",
    "    print('[Q]', question[i], '\\n[A]', answer[i], '\\n\\n')"
   ]
  },
  {
   "cell_type": "markdown",
   "metadata": {},
   "source": [
    "# 5.3. Iteratively learning/storing the question and answer (into Sqlite DB)"
   ]
  },
  {
   "cell_type": "markdown",
   "metadata": {},
   "source": [
    "### Prepare training Q&A pairs as python list:"
   ]
  },
  {
   "cell_type": "code",
   "execution_count": 17,
   "metadata": {},
   "outputs": [],
   "source": [
    "train_list = []"
   ]
  },
  {
   "cell_type": "code",
   "execution_count": 18,
   "metadata": {},
   "outputs": [
    {
     "data": {
      "text/plain": [
       "[]"
      ]
     },
     "execution_count": 18,
     "metadata": {},
     "output_type": "execute_result"
    }
   ],
   "source": [
    "train_list"
   ]
  },
  {
   "cell_type": "code",
   "execution_count": 19,
   "metadata": {},
   "outputs": [
    {
     "data": {
      "text/plain": [
       "['What are Autism Spectrum Disorders (ASD)?',\n",
       " 'ASD refers to a wide spectrum of neurodevelopmental disorders that affect communication, behavior, and social interaction. Children with ASD have delayed or absent communication skills and may demonstrate repetitive or idiosyncratic use of language. They often have underdeveloped play skills and may engage in repetitive behaviors or adhere to rigid routines. For more information about the warning signs for autism, visit the U.S. Centers for Disease Control and Prevention website at www.cdc.gov/actearly.',\n",
       " 'How common is autism?',\n",
       " 'According to a 2020 report commissioned by the U.S. Centers for Disease Control and Prevention, approximately one in 54 American children has been diagnosed with autism or a closely related neurodevelopmental disorder—a dramatic increase over the past decade.',\n",
       " 'What causes autism? Can it be cured?',\n",
       " 'The causes of this complex disorder remain uncertain. Instructional methods such as Applied Behavior Analysis have proven effective in helping individuals with autism learn to overcome many of the challenges that autism presents. These interventions have proven particularly effective when started during the first several years of a child’s life.']"
      ]
     },
     "execution_count": 19,
     "metadata": {},
     "output_type": "execute_result"
    }
   ],
   "source": [
    "train_list = []\n",
    "for i in range(len(question)):\n",
    "    train_list.append(question[i])\n",
    "    train_list.append(answer[i])\n",
    "\n",
    "train_list[0:6] # Display first few Q&A in list form:"
   ]
  },
  {
   "cell_type": "code",
   "execution_count": 20,
   "metadata": {
    "scrolled": true
   },
   "outputs": [
    {
     "data": {
      "text/plain": [
       "['What are Autism Spectrum Disorders (ASD)?',\n",
       " 'ASD refers to a wide spectrum of neurodevelopmental disorders that affect communication, behavior, and social interaction. Children with ASD have delayed or absent communication skills and may demonstrate repetitive or idiosyncratic use of language. They often have underdeveloped play skills and may engage in repetitive behaviors or adhere to rigid routines. For more information about the warning signs for autism, visit the U.S. Centers for Disease Control and Prevention website at www.cdc.gov/actearly.',\n",
       " 'How common is autism?',\n",
       " 'According to a 2020 report commissioned by the U.S. Centers for Disease Control and Prevention, approximately one in 54 American children has been diagnosed with autism or a closely related neurodevelopmental disorder—a dramatic increase over the past decade.',\n",
       " 'What causes autism? Can it be cured?',\n",
       " 'The causes of this complex disorder remain uncertain. Instructional methods such as Applied Behavior Analysis have proven effective in helping individuals with autism learn to overcome many of the challenges that autism presents. These interventions have proven particularly effective when started during the first several years of a child’s life.',\n",
       " 'Why doesn’t intervention center refer to its students as “autistic”?',\n",
       " 'Our students are children or youth who are challenged by autism—but not defined by it. “Oh, he’s autistic!” is quite different than “Oh, that’s Charlie; he has autism.” That’s why we encourage everyone to refer to our students as “children and youth with autism.”',\n",
       " 'What are the types of Autism Spectrum Disorders?',\n",
       " 'Autistic Disorder; Asperger Syndrome; Pervasive Developmental Disorder – Not Otherwise Specified;. There are three types of autism spectrum disorders: Autistic Disorder: This is sometimes called “classic” autism. It is what most people think of when hearing the word “autism”. People with autistic disorder usually have significant language delays, social and communication challenges, and unusual behaviors and interests. Many people with autistic disorder also have intellectual disability. Asperger Syndrome: People with Asperger syndrome usually have milder symptoms of autistic disorder. They might have social challenges and unusual behaviors and interests. However, they typically do not have problems with language or intellectual disability. Pervasive Developmental Disorder – Not Otherwise Specified: This is sometimes called “atypical autism,” or PDD-NOS. People who meet some of the criteria for autistic disorder or Asperger syndrome, but not all, may be diagnosed with atypical autism. These people usually have fewer and milder symptoms than those with autistic disorder. The symptoms might cause only social and communication challenges.',\n",
       " 'What are the autistic spectrum disorders (ASD)?',\n",
       " 'Autism spectrum disorders, or ASD, are also called pervasive developmental disorders (PDD) because they involve delay in many areas of development. PDD or ASD is a category that includes five different disorders of development, each with differing severities and patterns: [] Autistic Disorder [] Pervasive Developmental Disorder-Not Otherwise Specified (PDD-NOS) [] Asperger Syndrome [] Childhood Disintegrative Disorder (CDD) [] Rett Syndrome For more information on ASD and PDD: [] ',\n",
       " 'What are Pervasive Developmental Disorders (PDD)?',\n",
       " 'This fact sheet provides a brief overview and resource list. [] From the Center for Disease Control and Prevention (CDC): Frequently asked questions—general information about ASDs. ',\n",
       " 'What is autism or autistic disorder?',\n",
       " \"Autism is the most common autism spectrum disorder. People with autism have differences in the development of their thinking, language, behavior and social skills. The differences appear before age three, and can be diagnosed by 18 months. For a diagnosis of autism, a child must have a specified number of symptoms in these areas: [] social interaction [] communication (including language delay) [] restricted range of behaviors, activities and interests (often called stereotypic behaviors) If you think your child may have these traits, talk to your health care provider and find out how to have your child evaluated. [] The National Institute of Neurological Disorders and Stroke (NINDS) has an autism information page. (It's also in Spanish.) [] For teens: Autism [] For kids: Autism \",\n",
       " 'What is Pervasive Developmental Disorder-Not Otherwise Specified (PDD-NOS)?',\n",
       " 'PDD-NOS, also called atypical autism or mild autism, means having differences in some of the same areas as in autism, only not to such a great extent. A child with PDD-NOS does not meet the criteria for any other specific PDD/ASD. ',\n",
       " 'What is Rett Syndrome?',\n",
       " 'Rett syndrome is a genetic syndrome that causes autism-like symptoms in girls usually starting between six months and three years of age.  Up until that time, the girls have normal development.',\n",
       " 'What is Asperger syndrome?',\n",
       " 'People with Asperger syndrome have normal intelligence and language development, but also have some autistic-like traits. They may have trouble with social skills, sensory input, and making transitions, and may need rigid routines. Their interests can focus on one area to the point that it is like an obsession. Some experts believe AS is like a \"high-functioning autism,\" and/or that it is like a non-verbal learning disability (NLD).  See also Your Child:  Non-verbal Learning Disabilities.',\n",
       " 'What is Childhood Disintegrative Disorder (CDD)?',\n",
       " 'See these resources: [] MedlinePlus: Childhood Disintegrative Disorder has basic information. [] NICHCY Connections to Childhood Disintegrative Disorder includes links to information on the disorder (also in Spanish), research and organizations. [] Yale Child Study Center Childhood Disintegrative Disorder. ',\n",
       " 'How common are the autism spectrum disorders?',\n",
       " 'The Center for Disease Control and Prevention’s (CDC) Autism and Developmental Disabilities Monitoring (ADDM) Network released data in 2007 that found about 1 in 150 8-year-old children in the areas of the United States they monitor had an ASD1 For more on the numbers: Prevalence of ASDs, from the CDC. Autism occurs throughout the world in families of all racial, ethnic and social backgrounds. Boys are four times more likely to have autism than girls2. The MIND Institute in California found that the number of cases of autism is on the rise. This is probably a national trend. ',\n",
       " 'What causes autism?',\n",
       " 'Current research suggests that differences in the development of the brain and central nervous system cause autism. What causes these differences in brain development is not known for sure. However, a variety of factors are being investigated. These include infectious, metabolic, genetic, and environmental factors. A 1995 National Institutes of Health (NIH) working group reached a consensus that autism probably results from a genetic susceptibility that involves multiple genes. To date, genetic causes for one disorder commonly accompanied by autism (Fragile X) and one autism-spectrum disorder (Rett syndrome) have been identified and genetic \"hotspots\" for autism have been found. NIH research on possible genetic, infectious, immunological, and environmental causes and mechanisms of autism continues. [] Find out more about the NIH autism research. ',\n",
       " 'Do vaccines cause autism?',\n",
       " 'Research continues on vaccines and autism, and so far does not point to a connection between them. Here are some helpful resources from the American Academy of Pediatrics: [] The MIND Institute at the University of California Davis has issued a statement on Vaccines, Thimerosal and Other Potential Environmental Causes of Autism [] What Parents Should Know About Measles-Mumps-Rubella (MMR) Vaccine and Autism [] What Parents Should Know About Thimerosal [] MMR and autism resources [] Video: An interview with Jim Campbell, MD about vaccines, from the University of Maryland Medical Center. Dr. Campbell talks about vaccine safety at about 17:30 in the video. ',\n",
       " 'How are autism spectrum disorders diagnosed?',\n",
       " 'Until recently, general pediatricians sometimes hesitated to screen for autism before age three. Parents often suspect a problem as early as 12 to 18 months. Go with your gut feeling, even if your pediatrician recommends you “wait and see.” Language and “hearing” concerns are the most usual first signs. [] If you have concerns about your child, please read this information from First Signs, especially the Red Flags. If your child is not developing language or is losing language, seems not to “hear you\" most of the time, or does not share interest in activities or objects with you, you should have your child evaluated by a specialist. Specialists can diagnose most children with ASDs by 18 months old - and the earlier the diagnosis, the sooner you can start treatment. Take your child to a developmental and behavioral pediatrician, pediatric psychiatrist, pediatric neurologist or pediatric psychologist. They are experts in diagnosing autism, and can help you figure out the best treatment plan. An alternative to seeing a specialist is to go to your school system. Ask your state’s early intervention system or school system in writing for an evaluation of your child. They are required to provide it, at no cost to you. The purpose of an evaluation is to find out why your child is not meeting their developmental milestones. A team of professionals will work with you to evaluate your child. If they do not find a problem, and you continue to believe there is a problem, you can ask the school system to pay for an Independent Educational Evaluation (IEE). There are strict rules about this, and they may not agree with your request. You can also choose to have your child tested again privately, and pay for it yourself. But check with your school district first to make sure they will accept the private test results. By law, the school system must consider the results of the second evaluation when deciding if your child qualifies for special services. [] Tips for your child\\'s developmental assessment, from Zero to Three, is a guide for parents who are concerned about their baby\\'s, toddler\\'s or preschooler\\'s development and learning. It will help you prepare for an evaluation, and know what to expect. [] Basics for Parents: Your Child’s Evaluation explains what parents of school-aged kids need to know about the evaluation process. ',\n",
       " 'What treatments are there for autism?',\n",
       " 'There is no single best treatment for all children with ASD. The most important point is to start treatment as early and intensively as possible! If you are concerned about your child\\'s development, check out First Signs, a website with information and resources for early identification and intervention for children with developmental delays and disorders. There is no cure for autism, but early and intensive treatment can help children with autism improve their behavior, communication and social skills. Treatment may include support and facilitation, behavior modification, educational therapy, and medicine. Every state has an early intervention program and you will want to get your child enrolled as soon as possible. If you live in Michigan, your doctor may refer you to the Early On Program in your local school district. (Outside Michigan, you can find your state\\'s early intervention services through the NICHCY website.) Early On (and all states\\' early intervention programs) offer many different services and will help set up an individualized program for your family. It is called an Individual Family Service Plan (IFSB). [] Read all about finding help for babies, toddlers, and preschoolers. [\"Finding Help for Young Children with Disabilities (Birth-5)\"]. You can get this information in plain text, PDF, or in Spanish. It is most important to start treatment as early as possible, and make sure it involves intensive, one-on-one interaction with your child. The National Research Council\\'s Committee on Educational Interventions for Children with Autism has published Educating Children with Autism. It is a comprehensive report from a committee of experts from many different fields who reviewed current research and policy. They have created a \"map\" to guide the education of young children (birth to age eight) with autistic spectrum disorders. A section entitled \"Characteristics of Effective Interventions,\" on page 6 of the Executive Summary of the report, states3 \"The consensus across programs is generally strong concerning the need for: early entry into an intervention program; active engagement in intensive instructional programming for the equivalent of a full school day, including services that may be offered in different sites, for a minimum of 5 days a week with full-year programming; use of planned teaching opportunities, organized around relatively brief periods of time for the youngest children (e.g. 15- to 20-minute intervals); sufficient amounts of adult attention in one-to-one or very small group instruction to meet individualized goals. Overall, effective programs are more similar than different in terms of levels of organization, staffing, ongoing monitoring, and the use of certain techniques, such as discrete trial, incidental learning, and structured teaching periods. However, there are real differences in philosophy and practice that provide a range of alternatives for parents and school systems.\" You can go online to read the full report from the National Academy Commission on Behavioral and Social Sciences and Education, Educating Children with Autism. Before you make decisions regarding your child’s treatment, gather information and learn as much as you can about treatment programs in your area. Base your decision upon your child’s needs. The National Institute of Mental Health offers a list of questions parents can ask when making these important decisions.',\n",
       " 'What kinds of intensive, interaction-based therapies are available?',\n",
       " 'While we do not endorse any particular interaction-based treatment program, we want you to be aware of some of the options. Some of the treatment programs that focus on working intensively and one-on-one with children are: [] Applied Behavior Analysis (ABA) ABA is a broad set of principles and guidelines that is often used as a framework for treating autism. ABA is a one-on-one, intensive, structured teaching program based on the ideas of behavior modification and involving reinforced practice of different skills. You may also hear it called Discrete Trial Therapy (or DTT). Other terms associated with ABA are: functional communication training, incidental teaching, script/script fading, self-management, shaping, behavior chaining, errorless learning, functional assessment, reinforcement systems and activity schedules. Each word in the name “Applied Behavior Analysis” is important: [] “Applied” means that you are trying cause positive change in socially significant behaviors. [] “Behavior” changes over time are observed and measured. [] “Analysis” refers to the way the evidence is collected and evaluated to show how an intervention caused a behavior change. [] Lovaas Therapy The Lovaas Model of Applied Behavior Analysis is a specific ABA treatment method developed by Ivar Lovaas. For more information, visit his website. [] Developmental, Individual-Difference, Relationship-Based (DIR) Therapy DIR—also called Floortime or the Greenspan Method—is based more on relationships than behavior modification. The Interdisciplinary Council on Developmental and Learning Disorders (founded by Stanley Greenspan) has information about the DIR/Floortime model. You can also visit The Floortime Foundation to learn more. [] Augmentative and Alternative Communication (AAC) This augmentative communication glossary will help you learn the terms. AAC can use strategies like the Picture Exchange Communication System (PECS) and sign language.',\n",
       " 'What about alternative treatments?',\n",
       " 'You may hear about new or alternative treatments that people are talking about. You may also read online about treatments that claim to “cure” autism. Before starting your child on one of these, talk about it with your child\\'s doctor or health care provider. Many \"treatments\" that are marketed to parents of children with autism are very expensive, may harm you child, and are not based on sound research. Beware of treatments that claim to have a miracle \"cure\" for autism. Do not let alternative or complementary treatments infringe in any way on intensive, behaviorally structured treatment programs, such as those described in the section above. We know beyond a doubt that intensive, active engagement in a therapeutic program helps young children on the autism spectrum develop skills. [] Take a look at these red flags and rules of thumb for evaluating treatments. [] Read the American Academy of Pediatrics Policy Statement on Auditory Integration Training (AIT) and Facilitated Communication (FC) [] The Association for Science in Autism Treatment offers brief research summaries for both widely-accepted and “alternative” therapies. ',\n",
       " 'What is special education?',\n",
       " 'Special education means “educational programming designed specifically for the individual.” If your school-aged child qualifies for special education, they will have an Individualized Education Program (IEP) designed just for them. [] Here is a helpful overview of the special education process. [] Find out all about the process on this comprehensive page from the US Department of Education. You can also download the information in Word or PDF format. [] Find out how to help create a useful IEP for your child. [] Help your child take part in making their own IEP with these two resources from NICHCY: A Student’s Guide to the IEP and Helping Students Develop Their IEP. [] Empower yourself to be a great advocate for your child at IEP meetings. Use this Pop-Up IEP from Hands and Voices, (a support group for families of children who are deaf or hard of hearing) to find out some of the common hurdles that may surface during the meeting and how to deal with them. Some of the pop-ups apply more to kids with deafness/hard-of-hearing, but most will be helpful. [] The team of people helping your child may include many different kinds of teachers, therapists and paraprofessionals. Here are descriptions of some of the different kinds of service providers who may work with your child. [] Pass this on to your child’s teacher: Teaching Students with Autism. ',\n",
       " 'What happens as my child grows up into an adult?',\n",
       " 'Transition planning is planning to prepare your child to lead a rewarding life as an adult. As your child gets closer to adulthood, they will need an IEP transition plan. Transition planning begins at age 14. It is part of the IEP every year after that. At age 16, planning will begin for how your child will transition from school into the community. The goal is for your child to become as independent as possible. Your child should take part in the planning, because their input will help make the plan more successful. For a thorough discussion (28 pages when printed) of the transition plan, see Transition Planning: A Team Effort , from NICHCY. For resources on youth with intellectual disabilities attending college, visit the ThinkCollege website. ',\n",
       " 'What do I need to know about the laws that have to do with early intervention and special education? What are our rights?',\n",
       " 'Find out your rights, as a parent, in the special education process. [] Questions and Answers about IDEA (the Individuals with Disabilities Education Act). This is also available in PDF, and Spanish. [] Internet Legal Resources about Special Education and Disabilities-from the University of Virginia. ',\n",
       " 'What are some tips for parenting kids with autism?',\n",
       " \"Pay attention to your child's environment and routine: [] Keep the environment predictable and familiar, and prepare your child for changes. For example, count down the time until a transition. [] Prime your child for new situations by explaining in advance what you expect will happen, and prepare them for the “what if’s.” For example, explain you are going to visit grandpa, but “what if” grandpa doesn’t answer the door. [] Provide consistent structure and routine. [] Many children respond well to visual supports, such as a daily schedule using pictures. Schedules help to give information about what is happening in the day and give a place for the child to check when needed (just like you might check your planner or shopping list). [] Pay attention to sensory input from the environment, like noise, temperature, smells, crowds, etc. When you talk to your child: [] Don’t assume that your child understands what you are saying. [] Communicate clearly. Be logical, organized, clear, concise and concrete. Avoid jargon, double meanings, sarcasm, nicknames, and teasing. [] Explain abstract concepts in concrete terms. [] Don't talk about your child in front of them, unless you include them in the conversation. [] Be sure to tell your child what you want him to do, rather than what you don’t want him to do. For example, say “put it on the table” rather than, “don’t throw it on the floor.” To help your child improve their behavior: [] Help your child learn to communicate using gestures, sign language, picture boards, communication devices, and/or speech. Work on communication early, and be consistent to help your child improve more. Better communication will help relieve frustration and may lead to better behavior. [] Teach your child to make choices. [] Be consistent in rewarding positive behavior. [] Replace the unwanted behavior with a favorite activity. In other words, use distraction. [] Choose rewards you know your child will like. Always remember to show love and caring for your child. My child was just diagnosed. \",\n",
       " 'Where do we start?',\n",
       " 'Get your child in an early intervention program right away. Every state has one. Start by calling your local school district. For help locating your state\\'s early intervention or special education program, visit NICHCY (National Information Center for Children and Youth with Disabilities), and go to your state\\'s list of resources or call them at 1-800-695-0285. [] Begin an intensive behavioral program right away. This could be an ABA or \"Floortime\" - type program. [] Make sure your child\\'s therapy includes teaching communication and social skills. [] Include occupational therapy as well, especially if your child has sensory integration (SI) issues. [] Your child\\'s specialist doctor may prescribe medication to help with certain behaviors/symptoms. [] Using diet and vitamins or other alternative therapies are not helpful in the majority of cases. Use your time and money on a proven treatment: intensive, one-on-one behavioral therapy. Other good starting points for parents of a newly diagnosed child: [] The Yale Child Study center has answers to frequently asked questions. [] Autism Speaks offers a comprehensive book called the First 100 Days Kit—a tool to assist families in getting the critical information they need in the first 100 days after an autism diagnosis. It has information about autism, how it will affect your family, getting services for your child, and different treatments. It also includes a week-by-week “map” of the first 100 days, including places for notes and important things to do and remember.',\n",
       " 'How can I get more information, help and support?',\n",
       " 'Related topics on YourChild: [] Asperger Syndrome [] Rett Syndrome [] Non-verbal Learning Disability [] Developmental Milestones [] Developmental Delay [] Siblings of Kids with Special Needs [] Special Feature-In the News: Autism Increase Additional Information: [] The National Institutes of Health has a pamphlet on autism. It also comes in Spanish. The pamphlet includes a list of resources at the end. [] Watch: 2008 Autism News Stories from ABC News [] Clinical Practice Guideline for Autism/Pervasive Developmental Disorders: Assessment and Intervention for Young Children (Age 0-3 Years) from the New York State Department of Health Early Intervention Program. [] The American Academy of Pediatrics (AAP) policy statement on The Pediatrician’s Role in the Diagnosis and Management of Autistic Spectrum Disorder in Children. [] AAP clinical report: Identification and Evaluation of Children with Autism Spectrum Disorders [] AAP clinical report: Management of Children with Autism Spectrum Disorders Books: [] Engaging Autism: Helping Children Relate, Communicate and Think with the DIR Floortime Approach, by Stanley Greenspan and Serena Weider. An introduction to DIR/Floortime with useful advice, examples and case studies, and good background information on autism spectrum disorders. [] Relationship Development Intervention with Young Children: Social and Emotional Development Activities for Asperger Syndrome, Autism, PDD and NLD by Steven Gutstein and Rachelle Sheely. An objectives-based program for parents, teachers, special educators and therapists to use with children ages two to eight. [] Super Skills: A Social Skills Group Program for Children with Asperger Syndrome, High-Functioning Autism and Related Challenges, by Judith Coucouvanis. “Thirty lessons grouped under four types of skills necessary for social success: fundamental skills, social initiation skills, getting along with others, and social response skills. Each lesson is highly structured and organized, making it easy for even inexperienced teachers and other group leaders to follow and implement successfully. A series of practical checklists and other instruments provide a solid foundation for assessing students\\' social skills levels and subsequent planning.” [] The Potty Journey: Guide to Toilet Training Children with Special Needs, Including Autism and Related Disorders, by Judith Coucouvanis. A no-nonsense, often humorous approach, with strategies that have produced results for parents of children with autism and related disorders nationwide. Promising no \"quick fixes,\" The Potty Journey systematically guides you through the entire toileting journey, step-by-step, to the ultimate destination - dry pants. [] 1001 Great Ideas for Teaching and Raising Children with Autism Spectrum Disorders, by Veronica Zysk and Ellen Notbohm. Includes chapters on sensory, communication, behavior, daily living skills, social skills, education and legal issues. Practical and immediate ideas, tips and activities you can use right away. [] Initiations and Interactions: Early Intervention Techniques for Children with Autism Spectrum Disorders, by Teresa A. Cardon [] Pivotal Response Treatments for Autism: Communication, social, and Academic Development, edited by Robert l. Koegel and Lynn Kern Koegel [] Teaching Young children with Autistic Spectrum Disorders to Learn: A Practical Guide for Parents and Staff in Mainstream Classrooms and Nurseries, by Liz Hannah [] Hopes and Dreams: An IEP Guide for Parents of Children with Autism Spectrum disorders, by Kirby Lentz [] Helping Children with Autism Learn: Treatment Approaches for Parents and Professionals, by Bryna Siegel [] Peer Play and the Autism Spectrum: The Art of Guiding Children’s Socialization and Imagination, by Pamela J. Wolfberg [] Do-Watch-Listen-Say: Social and Communication Intervention for Children with Autism, by Kathleen Ann Quill [] The Out-of-Sync Child: Recognizing and Coping with Sensory Processing disorder, Revised Edition, by Carol Stock Kranowitz [] Taking the Mystery Out of Medications in Autism/Asperger Syndromes, by Luke Tsai, M.D.',\n",
       " 'What causes autism?',\n",
       " 'We know that autism arises from differences in brain development. The causes are unknown, although there is some evidence that complex genetic factors play a part in some forms of autism but there is no single cause. There is an urgent need for more research into how people living with autism can realise their potential and lead fulfilling lives. We do know, however, that it is definitely not to do with emotional deprivation or the way a person is brought up. People living with autism and their families urgently need to be aware of what treatments and other approaches are available to them and worth considering integrating into their lives. They also need understanding, support and services. See Causes of autism.',\n",
       " 'Is autism on the increase?',\n",
       " 'There is some evidence to show that the numbers diagnosed with autism are increasing but there has been a broadening of the diagnostic criteria and diagnostic practices have improved and become more widely known. Autism has only relatively recently been properly recognized and diagnosed (since the 60s and 70s) and there are currently no accurate records of the numbers of people with autism with which we can compare. It is suspected that the number of adults living with the condition is vastly underestimated. As part of our work going forward, Research Autism is investing in a prevalence study that will try to identify exactly how many people in the UK are living with autism. The known costs of autism to the UK economy are certainly increasing: a recent study undertaken by The London School of Economics estimated the cost of autism on the UK economy to be just under £28 billion each year. See Prevalence of autism.',\n",
       " 'Is autism caused by MMR?',\n",
       " \"There is no evidence linking autism to MMR. We are very aware of the concerns of parents on this issue and we urge parents to discuss vaccinations and their individual children's needs with their GP. It is vital that health professionals listen to parents concerns and take them seriously as the experts on their own children. See Myths about autism.\",\n",
       " 'Is autism caused by TV/radiation/mercury/drinking during pregnancy etc?',\n",
       " 'Autism has been linked to a host of different possible causes and there is very little evidence to support most of these theories. The commonly held view is that autism may be the result of a number of genetic factors working together. These are complex and there may be other actors involved such as infections, trauma or the environment. While research into causes is ongoing, it is crucial that we invest funds into ensuring people with autism now can access the best interventional treatments and therapies now to ensure they have fulfilling lives. See Causes of autism.',\n",
       " 'Is autism linked to criminal behaviour?',\n",
       " 'There is no established link between autism and offending. Often however, people with autism are more vulnerable to being victims of crime because of the nature of their social difficulties, and they may be taken advantage of. A small number may however, as a result, of anxiety or impaired social understanding, get into trouble with the law. See Challenging and Disruptive Behaviour.',\n",
       " 'Can autism be cured?',\n",
       " 'Autism is a lifelong condition. Unless there is a specific medical condition causing autism symptoms the concept of cure is not appropriate as autism is a term used to describe a range of developmental conditions with no known cause. It is also the case that individuals with autism may have particular abilities that are of huge benefit to society and may have superior technical, analytical or creative abilities. Where autism represents a disability, appropriate education and support, can reduce or mitigate the adverse effects and children with autism can go on to fulfil their potential. It is important that the individuality and uniqueness of each individual is recognised in the assessment and intervention process See Outcomes and Interventions.',\n",
       " 'What treatments are there for autism?',\n",
       " \"Autism is a spectrum, so every individual's needs are very different and they will respond differently to different forms of therapy or intervention. There are no treatments known to be effetive for the core condition of autism unless this is related to an untreated medical condition such as PKU (Phenylketonuria)'. The main categories of intervention are: [] Psychotherapeutic or psychodynamic [] Psychodeducational, including behavioural [] Psychopharmacological (drugs) [] Biomedical [] Alternative or complementary [] Services Psychotherapeutic approaches have generally fallen out of favour although these may still be used in resolving some of the associated issues involved with acceptance of the child and relationships. Secondary,associated or comorbid problems can be approached through a variety of means, each with merits and potential difficulties. For example structured behavioural/communication-based approaches, the use of visual aids and structured teaching may help with adapation and functional communication and improve independent functioning. Some behavioural programmes are controversial and viewed by some as aversive or that the skills aquired are lacking in general application. Some parent training programmes are very expensive and as yet have not been independely evaluated. In a case where a child has additional physical problems these should be properly investigated and treated. In some cases where changes in diet or supplements have been instigated improvements have been reported by parents, although the research evidence on this is mixed at the present time. There are concerns about the nutritional intake of some children on special diets or nutitrional supplements. Other programmes related to detoxification or more invasive procedures are controversial and should only be considered if specifically recommended by a suitably qualiified and exprerienced physician. Medication may play a part in the treatment plan overall or in reducing anxiety or treating depression but there is no drug for autism and there are concerns about the longer term use of many medications. Service interventions might include adaptations to a building to make this more accessible for individuals with autism or the provision of particular programmes of advice and support. Some of the complementary or alternative approaches would seem to have no rational scientific basis but should still be properly evaluated if they appear promising and do no harm. Research Autism is the only charity in the UK whose sole focus is to improve the quality of life of those on the autistic spectrum - and their families - through the origination, sponsorship and funding of research into interventional treatments and therapies. It is important to remember that each person will have their own individual needs and so it is essential that they are given as much information on interventional approaches so that they can explore what suits them. See Interventions.\",\n",
       " \"I think I/my child may have autism but I'm not sure. How can I find out?\",\n",
       " \"The core features of autism are difficulties with social interaction and communication, and the presence of repetitive behaviors and restricted interests. However, the specific symptoms and the severity are highly variable among different individuals. If you have concerns about your child, you should speak with your pediatrician and ask that your child be screened for autism. The American Academy of Pediatrics recommends that all children be screened for autism between 18 and 24 months of age. If you or your child's pediatrician feel that further screening is required, your child should be referred to a specialized medical professional, such as a developmental pediatrician, child psychologist/psychiatrist, or neurologist, who can conduct autism-specific behavioral evaluations. If you are an adult and are concerned that you may have autism, seek out an adult autism clinic in your area. If one does not exist, you may seek the counsel of a psychologist or psychiatrist.\",\n",
       " 'How is autism diagnosed? Is there a test for it?',\n",
       " 'There is no blood test to diagnose autism spectrum disorder. A diagnosis is made based on behaviors. In order to be diagnosed with autism, an individual must display deficits in social communication and social interaction, and show restrictive and repetitive behaviors.',\n",
       " \"How can I find out what caused my child's autism?\",\n",
       " 'In most individuals it is currently not possible to identify the exact cause of autism. There are a few genetic syndromes associated with autism (for example, Rett syndrome and fragile X syndrome) in which the genetic cause is known. Scientists have also identified a number of rare genetic changes that are major contributors to autism. In about 25 percent of autism cases, a specific genetic cause can be identified. The remaining 75 percent of cases likely involve a complex combination of genetic factors and yet-to-be identified environmental influences. At this time, there is no evidence that specific chemicals in the environment, immunization practices or dietary differences cause autism.',\n",
       " \"How can I find out if my/my child's case is genetic? Can we tell which side of the family the autism came from?\",\n",
       " \"If your child has autism and you are interested in genetic testing, you can ask your child's doctor for a referral to a medical geneticist. After conducting a detailed family history and physical exam of your child, the doctor may recommend genetic testing, which usually is a blood test and sometimes a urine test. The medical geneticist and genetic counselor can help you determine which, if any, genetic tests are appropriate for your child based on your family history, your child's physical features and your child's medical and developmental history. They can also provide genetic counseling. Some genetic testing may require pre-authorization by your insurance company. If a genetic cause is found, you can determine if the mutation was inherited from one, both or neither parent.\",\n",
       " 'If there is no autism epidemic, why do the autism statistics just keep climbing?',\n",
       " 'Just days after my live TED talk, the Centers for Disease Control and Prevention reported that 1 in 68 children in the U.S. have autism spectrum disorder. This estimate is roughly 30 percent higher than the last estimate, reported in 2012, which found that 1 in 88 children have autism spectrum disorder. While the reasons for the increase are not fully understood, it is thought that better awareness in identifying and diagnosing children is the major contributing factor.',\n",
       " 'How can I be sure vaccines have nothing to do with autism?',\n",
       " 'Immunizations are a cornerstone of public health and protect people from many debilitating and deadly infectious diseases. Government agencies routinely conduct thorough analyses of the current medical and scientific evidence on vaccine safety and vaccine-related adverse events. While there is evidence of some rare adverse events related to vaccines, such as seizures, inflammation of the brain and fainting, the evidence shows that there are no links between immunization and autism.',\n",
       " 'How can I find the best treatments for myself or my child?',\n",
       " 'Research suggests that early intensive behavioral intervention, based on applied behavioral analysis, is effective at improving language, function and behavior in individuals with autism. There are two drugs, risperidone and aripiprazole, that can improve challenging behaviors such as emotional distress, aggression, hyperactivity and self-injury, but these drugs do not lead to improvements in social skills or communication. Interventions focused on parent training and cognitive behavioral therapy can improve social skills, communication, language use and management of challenging behaviors.',\n",
       " 'What progress has been made so far in autism research?',\n",
       " 'In the past five years, scientists have made significant progress in discovering the genes that contribute to autism. With this knowledge, there has also been much progress in understanding what might be different in the cells of the brain of a person with autism. Scientists in many fields are working toward a deep understanding of the mechanisms that lead to autism.',\n",
       " 'How can I help in the search for better treatments?',\n",
       " 'In order for autism research to advance, participation from individuals with autism and their families is sorely needed. If someone in your family has autism, you can visit IANresearch.org and join the autism research community now. Your family can participate in online studies and also receive notices about local, regional and national studies looking for families like yours.',\n",
       " 'What causes autism spectrum disorder?',\n",
       " 'There is strong data indicating that genetics are the major cause of autism. However, not all genetic risk is inherited; some genetic changes leading to autism occur as mutations in the egg or sperm.',\n",
       " 'Can vaccines cause autism?',\n",
       " 'There are several epidemiological studies that have disproven the connection between autism and vaccines.',\n",
       " 'What are the most common signs of autism?',\n",
       " 'In toddlers, obvious symptoms may not be present, so it is often the absence of expected behavior that indicates a developmental problem. Autism has two core symptom domains as defined by the Diagnostic and Statistical Manual of Mental Disorders, 5th Edition (DSM-5): The first is deficits in social communication and social interaction, and the second is repetitive and restricted behaviors and interests. The ways in which these symptoms manifest themselves vary from one child to the next. Common symptoms to look for include: fleeting eye contact, limited gesturing such as pointing or waving, limited pretend play, difficulty reading nonverbal cues, odd language such as scripted speech or echolalia (repeating another person’s words), repetitive motor movements, and difficulties with changes in environment or routine.',\n",
       " 'How is autism diagnosed?',\n",
       " 'While there is no medical test for autism, an autism spectrum diagnosis is made based on observed behavior, developmental history, and autism-specific assessment tools. The “gold standard” assessment includes the Autism Diagnostic Observation Schedule, Second Edition (ADOS-2) and the Autism Diagnostic Interview - Revised (ADI-R). These tools, along with clinical judgment, are used to make a DSM-5 diagnosis of autism spectrum disorder. Early diagnosis is important because it can lead to earlier treatment, which research has linked to more positive outcomes.',\n",
       " 'Can diet help children with autism spectrum disorder?',\n",
       " 'Families have reported improvements in behavior and language as a result of special diets, including elimination diets that remove gluten (a protein in wheat and related grains) and casein (a protein in milk). However, research results do not support the widespread use of elimination diets as a treatment for autism symptoms.',\n",
       " 'What autism research is being done?',\n",
       " 'Autism research is quickly developing across many areas, including genetics, neurobiology, educational interventions, and targeted medications. One promising area of research seeks to identify autism genes in order to develop new medications based on genetic findings.',\n",
       " 'What should I do if I think my child may have autism?',\n",
       " 'The first step is a conversation with your child’s pediatrician. The American Academy of Pediatrics recommends that all children be screened for autism at their 18-month and 24-month well-child checkups. If there are concerns, your pediatrician should refer you to a specialist (such as a child psychiatrist or psychologist, developmental pediatrician, or pediatric neurologist) for a more extensive evaluation. An evaluation conducted by a multidisciplinary team (including a speech therapist, occupational therapist, and physical therapist) may also be beneficial for treatment planning. In addition to an autism-specific evaluation, a hearing test and lead screening should be conducted.',\n",
       " 'What are the treatments for autism?',\n",
       " 'The primary and first-line treatments include intensive behavioral and educational therapies that promote the development of the unique social and communication deficits seen in individuals with autism. Specific interventions should be tailored to each individual’s needs and may include both behavioral and pharmacological interventions. Many children benefit from a multidisciplinary team that may include applied behavior analysis (ABA) therapists, speech and language pathologists, occupational therapists, physical therapists and other professionals. There is currently no cure for autism.',\n",
       " 'What is Autism?',\n",
       " 'Autism spectrum disorder is an umbrella term used for various brain development disorders. They are characterized and thus categorized by difficulties in social interaction, verbal and nonverbal communication, and repetitive behaviors. Autistic disorder, Rett Syndrome, childhood disintegrative disorder, PDD-NOS (pervasive developmental disorder-not otherwise specified) and Asperger Syndrome can be listed under this umbrella. There are many characteristics that define autism spectrum disorder (ASD) as mental inabilities, struggles with motor functions and other mental and health issues that come along. Besides these, some individuals with autism may show extraordinary skills in math, art, music. Autism is thought to take its roots from early brain development stages. Its symptoms generally occur between the age of 12 and 18 months. Some children may develop normally and don’t show the signs until they reach the age 2. They start to develop autism by losing skills, which is called “regression”. Early intervention and various therapy methods are important for a comfortable life.',\n",
       " 'What Causes Autism?',\n",
       " 'You may think that something you did or ate or were exposed causes autism. The cause of autism . However, thanks to new developments in technologies and researches, today we can shed some light as to what causes autism. Scientists found recently that a number of mutations can be associated with autism; researches show there are more than 100 hundred autism risk genes. Although in some cases a specific genetic cause of autism of a person can be identified, most cases have complex combination of genetic and environmental risk factors that eventually affect early brain development. This means that a number of environmental factors other than genetic predisposition also increases the risk of developing autism. Environmental factors that occur before and during birth were evidently found to create a risk. These events can include advanced parental age for both parents, maternal illness, extreme prematurity, difficulties during birth that involve oxygen deprivation to the baby’s brain, mother’s being exposed to air pollution. Not one specific factor was found to be the sole cause of autism. When combined with genetic mutation, they seem to create a higher risk. The cause of autism is still an investigated topic. Researches are now increasingly looking into the role of immune system in autism. In the meantime, it is important to raise awareness and keep up with current developments in order to stay on top of the issue.',\n",
       " 'How Common is Autism?',\n",
       " 'According to the U.S. Centers for Disease Control and Prevention (CDC) statistics show that 1 in 68 American children are considered to be on the autism spectrum. This rate increased ten times in the last 40 years. Researches show that improved diagnosis and awareness only explain a part of this increase. Also, in the United States, 1 out of 42 boys and 1 in 189 girls are diagnosed with autism; which means that autism is more common among boys than girls. In broader perspective, 2 million individuals in the United states and many more millions worldwide suffer from Autism Spectrum Disorder. Prevalence rates have been increasing day by day; according to government autism statistics, this rate have increased 10 to 17 percent annually in recent years. There are no other explanations to this ever continuous increase, besides improved diagnosis and environmental factors.',\n",
       " 'What is “the Spectrum”?',\n",
       " 'Autism is a term that is constantly redefined the more it’s studied and it is an umbrella term. Being “on the spectrum” means having some sort of autism. Subsets of autism ranges from mild to severe. We can say that every case in autism is unique. While some individuals on the autism spectrum have great art skills, around 40 percent have intellectual disability (meaning IQ less than 70), and many have above average intelligence. Most people on the spectrum can have a distinctive ability resulting from their peculiar way of viewing the world, while others suffering from autism are unable to live without aid. About 25 percent of individuals with ASD can develop communication skills by using other means than verbal. The way and quality of life can be greatly improved with effective treatment and education method, while raising the awareness on accepting, respecting, and supporting those in need.',\n",
       " 'Does My Child Have Autism?',\n",
       " 'Autism may not be diagnosed until 18 to 24 months of age, but children can sometimes show early symptoms around 8 to 12 months. Parents are the key to noticing first and early symptoms as they are the ones who spend the most time around their child. They should be on the look for symptoms like: [] Lack of sharing sounds, smiles, facial expressions by 9 months; [] Lack of babbling or hand gestures (pointing, reaching etc.) by 12 months; [] Lack of forming words by 16 months [] Lack of meaningful, two-word phrases by 24 months [] Loss of babbling, social or speaking skills at any age',\n",
       " 'Why My Child Has Autism?',\n",
       " 'Although mostly there is not one cause that can be determined, it is suggested that autism development can be traced to very early brain development. Researches were able to identify more tan 100 genes or mutations that cause or increase the risk of having autism, but they only explain 15 percent of ASD cases. Genetics alone cannot help us to determine why someone has autism and others do not. Gene combined with environmental factors seem to be creating a complex condition that lead up to autism. Environment here involves many factors other than genetic ones. There may be many explanations as to why your child developed autism. Researches and studies are still being done on what causes autism.',\n",
       " 'What to Do if I Suspect Autism?',\n",
       " 'Don’t wait, the sooner you act on it, the better. Consult your doctor or contact Early Intervention Services department about screening your child for autism. Early intervention is the best chance to improve the progress and outcomes of your child’s life. You can find more information on early intervention on your blog or on the web.',\n",
       " 'What if I Have Autism?',\n",
       " 'You should consider consulting your doctor for a referral to professionals qualified to make an adult autism diagnosis. Because some people don’t receive a diagnosis with some types of autism, for instance Asperger Syndrome, when they are child. Clinical psychologists, neurologists and psychologists can make an autism diagnosis.',\n",
       " 'What to Do After Diagnosis of Autism?',\n",
       " 'Whether the diagnosis is for you or for your child, it is important for you to not blame yourself. It can be a struggle in the first months to accept the condition. However, the best way to deal with this diagnosis is to educate yourself. For parents, the more they know, the more they are going to feel the power to help their children. There are a lot of resources that can help you to prepare you. It can be overwhelming at times; it is of importance to take breaks and take care of yourself in the process too. If you are feeling you cannot handle the emotional alteration, consider consulting a therapist or a counselor. You are not alone to deal with this. You can also find similar stories that other parents and individuals are going through and get an insight on how they are tackling with the situation. There are a lot of resources on our blog and on the web you can consult.',\n",
       " 'Can My Child with Autism Attend School?',\n",
       " 'Every child has the right to appropriate education. “According to the Individuals with Disabilities Act of 1990, your child deserves access to a ‘free and appropriate’ education funded by the government, whether it be in a mainstream or special education classroom.” Children with autism should get a training and they can attend school with inclusion programs. Be aware of your child’s legal rights on the topic.',\n",
       " 'What are the causes?',\n",
       " 'Currently, there is no single known cause for autism, however, recent research has identified strong genetic links (Autism Awareness Australia, 2018). We do know though that autism is NOT caused by an individual’s upbringing, their social or economic circumstances, nor is it caused by vaccines or bad parenting!',\n",
       " 'What are evidence-based therapies?',\n",
       " 'Evidence-based therapy means that there has been some conclusive research to prove the effects of a therapy on its potential users (Autism Awareness Australia, 2018). Whilst many treatments claim to have evidence proving they work, in many cases, there has actually been no extensive top level research done (Autism Awareness Australia, 2018). At Rockmelon, our content is completely evidence-based. All content has been developed with the help of a team of clinicians, parents and experts in the autism field from around the world.',\n",
       " 'How common is autism?',\n",
       " 'Recent studies have found that 1 in 59 children have an ASD diagnosis (Centers for Disease Control, 2018) Autism is around 4.5 times more common in boys than girls, however around 1 in 189 girls have an ASD diagnosis (Centers for Disease Control, 2018). About 150 children are diagnosed with ASD every hour (Centers for Disease Control, 2018). Recent studies have also shown that the number of children diagnosed with ASD has also increased over the years with no single known cause (Centers for Disease Control, 2018).',\n",
       " 'I suspect my child has autism, what should I do next?',\n",
       " 'If you suspect your child has autism and you do not have a diagnosis yet, don’t wait! Start early intervention. We at Rockmelon believe that as a parent, you know your child best. If you think your child may have a delay or you are in the process of getting a diagnosis there is no harm in getting started early. It is the ‘early’ in early intervention that makes all the difference. If it turns out that your child doesn’t have a developmental delay, many of the skills Rockmelon promotes are applicable to neurotypical children as well.',\n",
       " 'How is autism diagnosed?',\n",
       " '“Most people find the diagnosis process quite confronting. It’s not much fun having someone point out all the things that your child can’t do, things that typical children just pick up naturally. But think of this assessment as a benchmark, against which you can measure your child’s progress once they start in an intervention program.” – Seana Smith, mother of four and co-author, Australian autism handbook If you suspect that your child has a developmental delay it is vital to get a full assessment and diagnosis from a qualified and reliable professional or team of professionals using proper assessment tools (Autism Awareness Australia, 2018). While the diagnostic criteria for autism under the Fifth Edition of the Diagnostic and Statistical Manual of Mental Disorders (DSM-5) are consistent, the requirements of who can formally make a diagnosis can differ from country to country (Autism Awareness Australia, 2018). For instance, some countries require that a child be diagnosed by a multi-disciplinary panel, while other countries allow a single specialist (e.g. developmental paediatrician) to make the diagnosis on their own (Autism Awareness Australia, 2018). In each country, different states might also have different requirements.',\n",
       " 'What therapies are available for ASD?',\n",
       " 'There are a number of different therapies available to help assist a child with autism reach their fullest potential. If you are new to the world of autism, you might find yourself floating in a pool of different therapy terms – from occupational therapy to speech pathology, to speech and language therapy to cognitive behaviour therapy. You might also be thinking, which are the ones that your child will need? What if they don’t work? The other thing to note is that something that worked for another family, may not necessarily be of the same benefit for your child.',\n",
       " 'What are the early signs of autism?',\n",
       " 'Some of the common traits associated with autism are difficulties with communication, social interaction, restricted/repetitive interests and behaviours, behavioural challenges and sensory issues (Autism Awareness Australia, 2018). One child might display all of these, another might display one or two, and another might display none at all. Often, one of the first things parents report noticing is a lack of communication skills. These early signs can present differently in every single child. Remember, some children are just late to talk and it doesn’t immediately mean they have autism. If you are concerned that your child may have a developmental delay, the best thing you can do is get in contact with your family doctor or paediatrician. Don’t wait for a diagnosis to start working with your child to develop some of the skills they may need help with.',\n",
       " 'What age do children usually start to show signs of autism? ',\n",
       " 'The most common age for parents to first become concerned about autism is around 15-18 months, usually because their toddler’s speech isn’t developing. Children may have speech delay, however, and not have an autism spectrum disorder (ASD). It’s problems with nonverbal social communication that are the real pointers to autism. For example, young children with ASD don’t usually: Respond to a parent’s smile or other facial expressions. Follow a parent’s gaze or point. Point to objects to get a parent to look at them. Bring objects of personal interest to show to a parent. Respond to their name when it’s called. Some of these signs may be visible before twelve months of age, but if a child sits, crawls, and walks on time they can be easily missed by parents. There are children on the autism spectrum who are highly verbal and as pre-schoolers may even have precocious speech. In this situation it’s even easier for their autism to be missed. Their problems may not become obvious until they attend school and social difficulties — such as trouble making friends and acting out in class — start to affect their progress and self-esteem.',\n",
       " 'What age can a child be tested for autism?',\n",
       " 'There are scientifically validated tests, such as the M-CHAT, that can be used to screen for autism in children as young as 15-18 months. Screening tests, however, are not a diagnosis and will pick up some children who don’t go on to have ASD. What screening tests do is point to social problems that should be investigated by a health professional, such as a paediatrician or child psychologist. For some children with ASD, a diagnosis can be reliably made at the age of two years by an experienced professional, although a more common age for diagnosis is around 3-5 years. The earlier a child receives a diagnosis the better, as it means they can start on early intervention to help address their social and behavioural challenges.',\n",
       " 'Is early intervention necessary in mild cases of autism?',\n",
       " 'Early intervention is recommended for all children with an autism spectrum disorder. A ‘mild’ case of autism in early childhood can lead to major problems once a child reaches their school and teenage years. Symptoms such as inflexibility and ‘social blindness’ can lead to run ins with teachers and isolation and bullying from peers. Young people on the spectrum are much more likely than their classmates to suffer from anxiety and depression as a result. If a child’s challenges can be targeted early, we are offering them a better chance of negotiating their school years with success. In fact, research evidence shows that children with milder symptoms respond best to early intervention, with these benefits sustained in the long-term.',\n",
       " 'How early can you start treatment for autism?',\n",
       " 'The simple answer is as early as possible. Treatment can commence before a child receives an official diagnosis if autism is strongly suspected. In early childhood, the brain is more ‘plastic’ or able to be changed than at older ages, offering the greatest potential for long-term change. There are now play-based early intervention programs for ASD, such as the Early Start Denver Model, that target toddlers as young as 18 months. Studies show improvements in learning and language as well as reduced symptoms of autism, with these benefits maintained when the children were followed-up two years later. There is research to suggest children progress faster when treatment commences before the age of four, but all young people with ASD, no matter what age, can benefit from science-based interventions.',\n",
       " 'Is autism a condition that affects only males?',\n",
       " 'Autism spectrum disorder is more common in males, along with a number of other developmental disorders, such as ADHD and learning disabilities. Overall, statistics show that ASD is about 4 times more common among boys than girls. That said, ASD often escapes detection in girls and young women. Girls appear to be more skilled at masking their symptoms, copying the behaviour of friends and classmates and finding ways to fit in. Unfortunately, this often comes at the cost of severe anxiety and depression. It’s not uncommon for girls with ASD not to receive a diagnosis until they reach adulthood. With better recognition of autism in females, there may come a time when the male to female ratio moves closer to 2 or 3 to 1.',\n",
       " 'Does autism often occur with other disorders?',\n",
       " 'Yes, autism often occurs alongside other conditions, including intellectual disability, seizure disorder (epilepsy), language delay, attention deficit hyperactivity disorder (ADHD) and behaviour disorders such as oppositional defiant disorder, as well as anxiety and genetic disorders such as Fragile X and Down Syndrome. Sometimes these other conditions will have a greater impact on a child’s ability to function at school and home than the autism itself. Intellectual disability and autism spectrum disorder frequently occur together. A child with ASD and an intellectual disability will have problems with thinking, memory and learning and take longer to learn new skills and behaviours than a child without this diagnosis. With the right support, however, all children can learn.',\n",
       " 'What is the difference between autism and learning disabilities?',\n",
       " 'Autism and learning disabilities can occur together, however autism spectrum disorder is not a learning disability. Learning disabilities, also referred to as specific learning disorders, are usually identified once a child is in school and are more commonly associated with ADHD (which also can co-occur with autism). They refer to serious and ongoing problems in one of three areas — reading, writing and mathematics. A well-known learning disorder is dyslexia, which affects reading and spelling and often runs in families. While not all children with ASD will be diagnosed with a specific learning disorder, it’s not uncommon for even very bright children with ASD to have an uneven pattern of skills, where they are gifted at maths but struggle with reading or writing, or vice versa.',\n",
       " 'What is Autism?',\n",
       " 'Autism, also known as Autism Spectrum Disorder (ASD), is a life-long condition (Autism Awareness Australia, 2018). People with ASD often experience difficulties with communication, social interaction and restricted/repetitive interests and behaviours (Autism Awareness Australia, 2018). While there is no single known cause associated with autism, the numbers of children diagnosed has steadily increased over the years (Autism Awareness Australia, 2018). However, the thing is, there is no one way that autism can affect a person. Every individual on the autism spectrum will present differently. There is a saying, “if you’ve met one person with autism, then you’ve met one person with autism.” ASD is the acronym for ‘Autism Spectrum Disorder’. This umbrella term includes autistic disorder (also known as “classic autism”), Asperger’s disorder, and pervasive developmental disorder not otherwise specified (also known as “atypical autism”) according to the Fourth Edition of the Diagnostic and Statistical Manual of Mental Disorders (DSM) issued in 1992 (Autism Awareness Australia, 2018). The DSM was published by the American Psychiatric Association and serves as the primary manual used by clinicians in the U.S., Australia, and many other countries to provide the formal criteria for various diagnoses, including autism (Autism Awareness Australia, 2018).',\n",
       " 'What are the causes?',\n",
       " 'Currently, there is no single known cause for autism, however, recent research has identified strong genetic links (Autism Awareness Australia, 2018). We do know though that autism is NOT caused by an individual’s upbringing, their social or economic circumstances, nor is it caused by vaccines or bad parenting!',\n",
       " 'What are evidence-based therapies?',\n",
       " 'Evidence-based therapy means that there has been some conclusive research to prove the effects of a therapy on its potential users (Autism Awareness Australia, 2018). Whilst many treatments claim to have evidence proving they work, in many cases, there has actually been no extensive top level research done (Autism Awareness Australia, 2018). At Rockmelon, our content is completely evidence-based. All content has been developed with the help of a team of clinicians, parents and experts in the autism field from around the world.',\n",
       " 'How common is autism?',\n",
       " 'Recent studies have found that 1 in 59 children have an ASD diagnosis (Centers for Disease Control, 2018) Autism is around 4.5 times more common in boys than girls, however around 1 in 189 girls have an ASD diagnosis (Centers for Disease Control, 2018).',\n",
       " 'What is ASD?',\n",
       " 'ASD is the acronym for ‘Autism Spectrum Disorder’. This umbrella term includes autistic disorder (also known as “classic autism”), Asperger’s disorder, and pervasive developmental disorder not otherwise specified (also known as “atypical autism”) according to the Fourth Edition of the Diagnostic and Statistical Manual of Mental Disorders (DSM) issued in 1992 (Autism Awareness Australia, 2018). The DSM was published by the American Psychiatric Association and serves as the primary manual used by clinicians in the U.S., Australia, and many other countries to provide the formal criteria for various diagnoses, including autism (Autism Awareness Australia, 2018).  “Most people find the diagnosis process quite confronting. It’s not much fun having someone point out all the things that your child can’t do, things that typical children just pick up naturally. But think of this assessment as a benchmark, against which you can measure your child’s progress once they start in an intervention program.” – Seana Smith, mother of four and co-author, Australian autism handbook If you suspect that your child has a developmental delay it is vital to get a full assessment and diagnosis from a qualified and reliable professional or team of professionals using proper assessment tools (Autism Awareness Australia, 2018). While the diagnostic criteria for autism under the Fifth Edition of the Diagnostic and Statistical Manual of Mental Disorders (DSM-5) are consistent, the requirements of who can formally make a diagnosis can differ from country to country (Autism Awareness Australia, 2018). For instance, some countries require that a child be diagnosed by a multi-disciplinary panel, while other countries allow a single specialist (e.g. developmental paediatrician) to make the diagnosis on their own (Autism Awareness Australia, 2018). In each country, different states might also have different requirements. ',\n",
       " 'What therapies are available for ASD?',\n",
       " 'There are a number of different therapies available to help assist a child with autism reach their fullest potential. If you are new to the world of autism, you might find yourself floating in a pool of different therapy terms – from occupational therapy to speech pathology, to speech and language therapy to cognitive behaviour therapy. ',\n",
       " 'How can I help my child with autism?',\n",
       " 'If you suspect your child may have a developmental delay, the best thing you can do is start investigating as soon as possible (Autism Awareness Australia, 2018). If you think your child may have a delay or you are in the process of getting a diagnosis there is no harm in getting started early. It is the ‘early’ in early intervention that makes all the difference. Rockmelon CONNECT+LEARN has been designed to help parents who have a child with additional needs. Children with autism can learn, it is just a matter of teaching a little differently. Rockmelon CONNECT+LEARN provides you with all the necessary tools and information parents need to help deliver better outcomes for their children.',\n",
       " 'What are the early signs of autism?',\n",
       " 'Some of the common traits associated with autism are difficulties with communication, social interaction, restricted/repetitive interests and behaviours, behavioural challenges and sensory issues (Autism Awareness Australia, 2018). One child might display all of these, another might display one or two, and another might display none at all. Often, one of the first things parents report noticing is a lack of communication skills. These early signs can present differently in every single child. Remember, some children are just late to talk and it doesn’t immediately mean they have autism. If you are concerned that your child may have a developmental delay, the best thing you can do is get in contact with your family doctor or paediatrician. Don’t wait for a diagnosis to start working with your child to develop some of the skills they may need help with.',\n",
       " 'How can I help my child with autism?',\n",
       " 'If you suspect your child may have a developmental delay, the best thing you can do is start investigating as soon as possible (Autism Awareness Australia, 2018). If you think your child may have a delay or you are in the process of getting a diagnosis there is no harm in getting started early. It is the ‘early’ in early intervention that makes all the difference. Rockmelon CONNECT+LEARN has been designed to help parents who have a child with additional needs. Children with autism can learn, it is just a matter of teaching a little differently. Rockmelon CONNECT+LEARN provides you with all the necessary tools and information parents need to help deliver better outcomes for their children.',\n",
       " 'How early can you start treatment for autism?',\n",
       " 'The simple answer is as early as possible. Treatment can commence before a child receives an official diagnosis if autism is strongly suspected. In early childhood, the brain is more ‘plastic’ or able to be changed than at older ages, offering the greatest potential for long-term change. There are now play-based early intervention programs for ASD, such as the Early Start Denver Model, that target toddlers as young as 18 months. Studies show improvements in learning and language as well as reduced symptoms of autism, with these benefits maintained when the children were followed-up two years later. There is research to suggest children progress faster when treatment commences before the age of four, but all young people with ASD, no matter what age, can benefit from science-based interventions.',\n",
       " 'Is autism a condition that affects only males?',\n",
       " 'Autism spectrum disorder is more common in males, along with a number of other developmental disorders, such as ADHD and learning disabilities. Overall, statistics show that ASD is about 4 times more common among boys than girls. That said, ASD often escapes detection in girls and young women. Girls appear to be more skilled at masking their symptoms, copying the behaviour of friends and classmates and finding ways to fit in. Unfortunately, this often comes at the cost of severe anxiety and depression. It’s not uncommon for girls with ASD not to receive a diagnosis until they reach adulthood. With better recognition of autism in females, there may come a time when the male to female ratio moves closer to 2 or 3 to 1.',\n",
       " 'Does autism often occur with other disorders? ',\n",
       " 'Yes, autism often occurs alongside other conditions, including intellectual disability, seizure disorder (epilepsy), language delay, attention deficit hyperactivity disorder (ADHD) and behaviour disorders such as oppositional defiant disorder, as well as anxiety and genetic disorders such as Fragile X and Down Syndrome. Sometimes these other conditions will have a greater impact on a child’s ability to function at school and home than the autism itself. . Intellectual disability and autism spectrum disorder frequently occur together. A child with ASD and an intellectual disability will have problems with thinking, memory and learning and take longer to learn new skills and behaviours than a child without this diagnosis. With the right support, however, all children can learn.',\n",
       " 'What is the difference between autism and learning disabilities?',\n",
       " 'Autism and learning disabilities can occur together, however autism spectrum disorder is not a learning disability. Learning disabilities, also referred to as specific learning disorders, are usually identified once a child is in school and are more commonly associated with ADHD (which also can co-occur with autism). They refer to serious and ongoing problems in one of three areas — reading, writing and mathematics. A well-known learning disorder is dyslexia, which affects reading and spelling and often runs in families. While not all children with ASD will be diagnosed with a specific learning disorder, it’s not uncommon for even very bright children with ASD to have an uneven pattern of skills, where they are gifted at maths but struggle with reading or writing, or vice versa.',\n",
       " 'What is autism?',\n",
       " 'Autism is a neurodevelopmental condition which is usually diagnosed in the first 3 years of life. Generally parents become concerned when their child has delays in speech development, limited social relatedness, and restricted interests and activities. The child may avoid direct eye contact and exhibit odd behaviors such as focusing on parts of objects (e.g. the spinning wheel of a toy car). There may be unusual motor movements such as hand flapping, self stimulation or walking on toes. Although the cause of autism is unknown, it is generally believed that etiology may be due to multiple factors. Many genetic, environmental, metabolic and neurological conditions that affect the normal functioning of the brain are being researched. The diagnosis of autism requires disturbances in each of three domains: (1) social relatedness, (2) communication/play, and (3) restricted interests and activities. [] Social relatedness includes marked impairment in non-verbal communication, peer relationships and social-emotional reciprocity. [] Communication/play includes either a delay or total lack of spoken language and lack of developmentally-appropriate make-believe or social play. [] Restricted interests and activities includes encompassing preoccupations, adherence to non-functional routines or rituals, stereotypies and motor mannerisms. Treatment planning is complex since each child has different strengths and deficits. Evidence that earlier detection and provision of services improves long term prognosis makes early diagnosis particularly important to improve the child’s adaptive skills and future functioning. The diverse expression of these disorders both across and within individuals presents particular challenges for clinical diagnosis and treatment.',\n",
       " 'What are early signs of autism?',\n",
       " 'Parents and relatives should be concerned about their infant or toddler if they notice any of the following developmental delays or behavioral problems and discuss concerns with their child’s pediatrician to obtain appropriate referrals for evaluation: [] lack of or delay in development of spoken language . [] repetitive use of language and/or motor mannerisms (e.g., hand-flapping, twirling objects). [] little or no eye contact. [] lack of interest in peer relationships. [] lack of spontaneous or make-believe play. [] persistent fixation on parts of objects.',\n",
       " 'What is autism?',\n",
       " 'Autism is a neurodevelopmental condition which is usually diagnosed in the first 3 years of life. Generally parents become concerned when their child has delays in speech development, limited social relatedness, and restricted interests and activities. The child may avoid direct eye contact and exhibit odd behaviors such as focusing on parts of objects (e.g. the spinning wheel of a toy car). There may be unusual motor movements such as hand flapping, self stimulation or walking on toes. Although the cause of autism is unknown, it is generally believed that etiology may be due to multiple factors. Many genetic, environmental, metabolic and neurological conditions that affect the normal functioning of the brain are being researched. The diagnosis of autism requires disturbances in each of three domains: (1) social relatedness, (2) communication/play, and (3) restricted interests and activities. [] Social relatedness includes marked impairment in non-verbal communication, peer relationships and social-emotional reciprocity. [] Communication/play includes either a delay or total lack of spoken language and lack of developmentally-appropriate make-believe or social play. [] Restricted interests and activities includes encompassing preoccupations, adherence to non-functional routines or rituals, stereotypies and motor mannerisms. Treatment planning is complex since each child has different strengths and deficits. Evidence that earlier detection and provision of services improves long term prognosis makes early diagnosis particularly important to improve the child’s adaptive skills and future functioning. The diverse expression of these disorders both across and within individuals presents particular challenges for clinical diagnosis and treatment.',\n",
       " 'What are early signs of autism?',\n",
       " 'Parents and relatives should be concerned about their infant or toddler if they notice any of the following developmental delays or behavioral problems and discuss concerns with their child’s pediatrician to obtain appropriate referrals for evaluation: [] lack of or delay in development of spoken language . [] repetitive use of language and/or motor mannerisms (e.g., hand-flapping, twirling objects). [] little or no eye contact. [] lack of interest in peer relationships. [] lack of spontaneous or make-believe play. [] persistent fixation on parts of objects.',\n",
       " 'What are some symptoms of autism that parents and caregivers can look for ? ',\n",
       " 'Children diagnosed with autism tend to process and respond to information in the environment in unique ways. In some cases, parents are frightened because they exhibit aggressive and/or self-injurious behaviors which are difficult to manage. [] Insistence on sameness in routines (O) [] Difficulty in expressing needs verbally, using gestures or pointing instead of words (C) [] Repeating words or phrases in place of normal, responsive language (C) [] Laughing (and/or crying) for no apparent reason; showing distress for reasons not apparent to others (S) [] Prefers to be alone; aloof manner evident to strangers and family members (S) [] Tantrums and low frustration tolerance (S) [] Difficulty in initiating social contact with others (S) [] Uncomfortable with physical contact even when given with affection such as a hug (S) [] Little or no eye contact even when spoken to directly (S) [] Unresponsive to normal teaching methods (S) [] Plays with toys as objects (example bangs a toy car as a block rather than as a moving vehicle) (S) [] Focus on spinning objects such as a fan or the propeller of a toy helicopter (O) [] Obsessive attachment to particular objects (O) [] Apparent over-sensitivity or under-sensitivity to pain (S) [] No real fears of danger despite obvious risks of harm. (S) [] Noticeable physical over-activity or extreme under-activity (S) [] Impaired fine motor and gross motor skills (S) [] Non-responsive to verbal instructions; often appears as if child is deaf although hearing tests in normal range (C) Legend: Communication (C), Obsessive-Compulsive Behavior (O), Social (S).',\n",
       " \"What is the difference between autism and Asperger's disorder?\",\n",
       " 'Unlike children with autism, individuals with Asperger’s disorder do not present with delays in language acquisition or with marked unusual behaviors and environmental responsiveness during the first years of life. Consequently parents often have no concerns about their child’s early development. A child with Asperger\\'s may be diagnosed later than 3 years old because they are achieving their developmental milestones at a normal rate and are only referred for evaluation because parents observe that they are behaving differently from same aged peers. They may appear socially awkward, lack awareness of conventional social rules, or show limited empathy to others. Social interaction is affected because of diminished eye contact, disengagement in conversations, and inability to pick up social cues or understand the meaning of gestures Speech patterns may be unusual and lack inflection or may be formal, but excessively loud or high pitched. Children with Asperger\\'s may not understand the subtleties of language, such as irony and humor. Frequently, they may not recognize the give-and-take nature of a conversation and this translates into difficulty initiating and/or maintaining conversations. Their communication is sometimes described as “one way” so they appear to be “talking at” others instead of to them. For example, a child diagnosed with Asperger’s disorder had social problems due to his restricted and circumscribed interests. In his conversations with peers, he delivered monologues on his favorite subject of planets in a slow methodical way. He was so involved in talking about the planets that he did not notice the frustration of his peers. Attempts to interject comments to initiate conversation were missed and the child continued to “lecture”. Consequently the other children eventually walked away feeling unfulfilled by the lack of connection and bored by the persistence of the same topic. Another distinction between Asperger\\'s syndrome and autism concerns cognitive ability. While some individuals with autism experience intellectual disability, by definition a person with Asperger\\'s cannot possess a \"clinically significant\" cognitive delay, and most possess average intelligence. The outcome in Asperger’s disorder generally appears to be better than that for autism, although this may, in part, relate to better cognitive and/or verbal abilities. ',\n",
       " 'Are there treatments available for autism?',\n",
       " \"There are no specific treatments to “cure” autism. Each child with an autism spectrum disorder has a unique constellation of developmental delays, speech deficits, social and cognitive impairments. Therefore, comprehensive treatment plans need to be developed to target each child's unique profile of strengths and functional impairments. \",\n",
       " 'Are there medication treatments for autism?',\n",
       " 'There are no medication treatments that treat the core symptoms of autism. However, often children with autism exhibit disturbing repetitive, stereotypical or self injurious behaviors that can be distressing to both the child and the parent. In cases when a child may be hitting himself repetitively, has mood instability or is aggressive to other children or family members, medication intervention may be warranted. The FDA has approved use of the medication risperidone to target aberrant behaviors of autism such as severe mood instability and aggression. There are other medications that are currently being studied to help reduce problem behaviors in autism but there are no other FDA approved treatments. Pharmacological interventions may increase the ability of persons with ASD to profit from educational and other interventions, and to remain in less restrictive environments through the management of severe and challenging accompanying behaviors. Frequent targets for medication include features such as aggression, self-injurious behavior, hyperactivity, inattention, anxiety, compulsive-like behaviors, other repetitive or stereotypic behaviors, and sleep disturbances. Sometimes SSRIs are used to address symptoms of mood or anxiety in children and adolescents with autism. ',\n",
       " 'Why do children with autism have difficulty learning in a regular classroom setting?',\n",
       " 'There are many reasons that a child diagnosed with autism spectrum disorders is not able to learn in a regular classroom setting. These include but are not limited to the following reasons: [] coexisting learning disabilities. [] coexisting intellectual disability. [] speech and communication delays. [] aggression to self or others. [] affective Instability. [] require individual supervision to participate in the classroom. [] social reciprocity problems. Therefore special efforts need to be made by parents and caregivers to explore options so that the child’s abilities are maximized. Availability of resources differs by community so it is important to contact a child and adolescent psychiatrist or pediatrician to discuss the options available in your community. ',\n",
       " 'What is the difference between autism and pervasive developmental disorder, not otherwise specified?',\n",
       " 'Autism is a diagnosis classified under the broad term of pervasive developmental disorders. It is the most severe pervasive developmental disorder in which there is language and social impairments and pattern of restrictive and stereotyped behaviors, interests and activities. For a diagnosis of autism (autistic disorder), the following criteria must be met: A. a total of six (or more) items from (1), (2), and (3), with at least two from (1), and one each from (2) and (3): 1. qualitative impairment in social interaction, as manifested by at least two of the following: a. marked impairment in the use of multiple nonverbal behaviors such as eye-to-eye gaze, facial expression, body postures, and gestures to regulate social interaction b. failure to develop peer relationships appropriate to developmental level c. a lack of spontaneous seeking to share enjoyment, interests, or achievements with other people (e.g., by a lack of showing, bringing, or pointing out objects of interest) d. lack of social or emotional reciprocity 2. qualitative impairments in communication as manifested by at least one of the following: a. delay in, or total lack of, the development of spoken language (not accompanied by an attempt to compensate through alternative modes of communication such as gesture or mime) b. in individuals with adequate speech, marked impairment in the ability to initiate or sustain a conversation with others c. stereotyped and repetitive use of language or idiosyncratic language d. lack of varied, spontaneous make-believe play or social imitative play appropriate to developmental level 3. restricted repetitive and stereotyped patterns of behavior, interests, and activities, as manifested by at least one of the following: a. encompassing preoccupation with one or more stereotyped and restricted patterns of interest that is abnormal either in intensity or focus b. apparently inflexible adherence to specific, nonfunctional routines or rituals c. stereotyped and repetitive motor manners (e.g., hand or finger flapping or twisting, or complex whole-body movements) d. persistent preoccupation with parts of objects B. Delays or abnormal functioning in at least one of the following areas, with onset prior to age 3 years: (1) social interaction, (2) language as used in social communication, or (3) symbolic or imaginative play. C. The disturbance is not better accounted for by Rett’s disorder or childhood disintegrative disorder. The diagnosis of pervasive developmental disorder, not otherwise specified (PDD, NOS) is a diagnosis characterized by severe and persistent impairment in responding appropriately in social interaction that is associated with either 1) impairment in verbal or nonverbal communication skills, OR 2) stereotyped behavior, restricted interests and activities. This diagnosis is made when the symptoms or characteristics do not meet full criteria for a specific pervasive developmental disorder, schizotypal personality disorder, avoidant personality disorder or other psychiatric disorder. Although, DSM-IV-TR does not offer specific diagnostic criteria for PDDNOS, there are at least five subgroups of individuals within PDDNOS: 1. atypical autism: young children who have not yet developed full –blown autistic disorder; individuals who “almost but not quite” meet the full criteria for autistic disorder (i.e., broader autism phenotype or lesser variant autism; patients who have a late onset (i.e., after age 3 years) of autistic disorder. 2. residual autism: individuals who had a history of having autistic disorder but presently do not meet the criteria for autistic disorder (i.e., still having some autistic features subsequent to effective interventions and/or natural development) 3. atypical Asperger\\'s disorder: young children who have not yet developed full-blown Asperger\\'s disorder and individuals who ‘almost but not quite” meet the full criteria for Asperger\\'s disorder. 4. Mixed features of atypical autism and atypical Asperger\\'s disorder 5. Comorbid autism: children with a medical or neurological disorder (e.g., tuberous sclerosis) associated with some \"autistic features\" The differential diagnosis between PDDNOS and other mental disorders can be a very challenging task for even experienced practitioners because PDDNOS has a vague definition, diverse subtypes, and unclear diagnostic boundaries. It is unclear whether this difference in diagnosis has clinical relevance in terms of prognosis or treatment. In summary, the difference between Autism and PDDNOS is mainly determined by the quantitative measure of the diagnostic criteria. The treatment of patients with PDDNOS, including atypical autism is similar to the interventions for children with autism. However, it is important to note that special education systems in most U.S. states do not have an educational category specifically for students with PDDNOS. Therefore many students with this diagnosis are placed in programs for students with other disorders such as intellectual disability, emotional disturbance, or behavior disorder, consequently not receiving programming that meets their unique educational needs. It is essential for the parents and the child and adolescent psychiatrists to work closely with the schools to ensure that the child diagnosed with PDDNOs receives necessary educational services.',\n",
       " 'How is autism diagnosed in young children?',\n",
       " 'The diagnosis of autism is based on an expert clinician’s careful observations of a child’s behavior. The clinician engages the child in a set of play activities that are designed to probe for autism symptoms, and the diagnosis is based on how many symptoms are present. A certain number of symptoms in two categories are required: difficulties in socially interacting and communicating with others, and the presence of restricted and repetitive behaviors. In addition to observing behaviors, other medical information is also typically obtained, such as genetic testing. ',\n",
       " 'What are early signs of autism?',\n",
       " 'Symptoms of autism can be observed as early as 12-18 months of age. Symptoms include: [] reduced interest in people [] lack of gestures such as pointing and showing [] lack of engagement in social play, such as “patty cake” [] failure to consistently orient when the child’s name is called For some children, symptoms are not apparent until they’re in more demanding social situations, such as at preschool. Some children may engage more easily with familiar adults such as their parents, but have difficulty when engaging with peers. ',\n",
       " 'Why do people diagnosed with autism spectrum disorder (ASD) sometimes have a difficult time making eye contact?',\n",
       " 'Researchers recently have found that people diagnosed with ASD have a hard time making eye contact. In one studyTrusted Source, the subcortical system of the brain was shown to exhibit a high activation, which researchers believe may be the basis of people with autism avoiding eye contact in daily life. This pathway is involved in facial recognition and detection. In infants, the more this pathway is used, the better the visual cortex develops. This can help give the person diagnosed with autism and their loved ones an improved ability to recognize social cues and communicate with one another. ',\n",
       " 'How does visual processing impact someone with ASD?',\n",
       " 'Researchers have found that learning is more effective when our vision is linked to the information coming into the brain. Because vision is our dominant sense, improving our visual information processing can help us with movement, orientation, and understanding the relationship between our eyes, brain, and body. People with ASD, especially children, may or may not be able to communicate their visual difficulties. Some, however, may [display certain] behaviors, which can be indicative of wider vision problems. These behaviors include, but aren’t limited to: [] eye tics or blinking [] dilated pupils [] erratic eye movements [] poor eye contact or avoiding eye contact [] avoiding visual attention, especially reading and near work [] frequent loss of place when reading [] rereading letters or words [] closing or blocking one eye when reading [] looking out of the corner of the eye [] difficulty copying from far away [] holding a book too close to the eyes [] overly interested in shadows, patterns, or lights [] bumping or running into objects [] confusion going up or down stairs [] rocking',\n",
       " 'Do individuals on the autism spectrum avoid social contact?',\n",
       " 'Individuals on the autism spectrum are often keen to make friends but may find this difficult.',\n",
       " 'Can individuals on the autism spectrum lead independent and successful lives?',\n",
       " 'Given appropriate education, many will grow up to be successful contributors to society.',\n",
       " 'Is autism is the result of bad parenting?',\n",
       " 'There is clear evidence from research that autism is\\xa0not\\xa0caused by bad parenting but from a difference in the way the brain develops before the child is born.',\n",
       " \"Do all individuals on the autism spectrum have special talent or 'savant' skills?\",\n",
       " \"It is estimated that 10% of individuals on the autism spectrum may have special abilities in areas like music, art, mathematical calculations, memory and manual dexterity. The majority however, may have areas of high performance that relate to their special interests or obsessions. These skills are often referred to as 'splinter skills', as they are often not consistent with skills in other areas of development.\",\n",
       " 'Can autism be cured?',\n",
       " 'There is currently no documented cure for autism. Individuals on the spectrum respond very well to structured\\xa0early intervention,\\xa0education\\xa0and\\xa0vocational placements\\xa0that focus on the unique learning style of students with autism.',\n",
       " 'Do people with autism make eye contact?',\n",
       " 'When\\xa0individuals on the autism spectrum\\xa0feel relaxed and confident with the communication partner, eye contact can be quite spontaneous. It is NEVER a good idea to force a person on the spectrum to have eye contact with you.',\n",
       " 'Can people with autism talk?',\n",
       " 'Communication is more than talking. Some students\\xa0on the autism spectrum\\xa0will develop speech seemingly effortlessly, but will require help to communicate appropriately with their peers. Others will require assistance to communicate their basic needs and wants, using a combination of words, gestures, and augmentative communication systems such as PECS.',\n",
       " 'Can autism be outgrown?',\n",
       " \"Children do not 'outgrow' autism but symptoms may lessen or change as the child develops and receives\\xa0appropriate interventions.\",\n",
       " 'Do individuals on the autism spectrum\\xa0not have feelings and thus are unable to show affection?',\n",
       " 'Individuals on the autism spectrum\\xa0can and do give affection. However, due to differences in sensory processing and social understanding, the display of affection may appear different from typical people. Understanding and acceptance of these differences is the key.',\n",
       " 'What is the purpose of a diagnostic assessment in adulthood?',\n",
       " 'The purpose of a diagnostic assessment is to provide individuals with a diagnostic label that will help them understand what is contributing to their lack of success with appropriate tasks of adulthood and will guide intervention. A diagnosis may provide access to funds or programs (e.g., disability benefits), promote a more positive self-understanding, provide opportunities to address co-existing concerns (e.g., sensory or organizational), and facilitate better relationships (e.g., spousal and work relationships). It may also improve health (e.g., awareness of food sensitivities), provide opportunities to affiliate with those who also have similar struggles, enable individuals to receive specialist treatment, and alert them to the presence of, or potential for, mental health problems.',\n",
       " 'Who is qualified to diagnose a youth or adult with ASD?',\n",
       " 'Medical doctors (GPs, psychiatrists) and psychologists are permitted to give a formal diagnosis. Social workers, occupational therapists, and speech- language pathologists may provide a professional opinion about the likelihood that an individual has the disorder. However, this impression must be confirmed by one of the previously mentioned professionals for this to be a formal diagnosis. Unfortunately, it can be difficult to find professionals who have experience diagnosing older youth and adults on the spectrum. Specialized ASD organizations such as Autism Ontario, Aspergers Society of Ontario, and Autism Society Canada have on-line listings of professionals in Ontario and across Canada.',\n",
       " 'Is a diagnostic assessment covered under OHIP?',\n",
       " 'A diagnosis provided by a medical doctor (e.g., psychiatrist) or a psychologist employed in a healthcare setting is covered under OHIP. The services of psychologists in community settings are covered under some employee benefits plans, but not by OHIP. These employee benefit plans may not fund the entire cost of a diagnostic assessment. Individuals in postsecondary education receiving OSAP can apply for special financial assistance for diagnostic assessments.',\n",
       " 'Is it useful for an older adult (40+) to be diagnosed with ASD?',\n",
       " 'Sometimes it can be useful for an older adult to receive a diagnosis. If they are functioning well without a formal diagnosis, or if a diagnostic assessment would not mean any change in their self- perception, services available to them, or treatment approach used, a full assessment may not be necessary.',\n",
       " 'Should I do anything to prepare for the assessment?',\n",
       " 'The assessor may want to see any previous assessments you have had, if any. As a part of the assessment, developmental milestones will be discussed. Understandably, in adulthood these may be difficult for parents or other family members to remember. It is helpful to think of these beforehand and gather any records, such as report cards. Make a list of the characteristics, problems, or behaviours that are concerning you before the appointment. As well, write out any questions that you may have for the assessor.',\n",
       " 'Do I require a formal diagnosis to receive appropriate services?',\n",
       " 'Although some ASD services in Ontario require a diagnosis before you can receive clinical services from them, many do not. Begin to explore those that do not require a diagnosis. Reading the literature on ASD or attending workshops can be helpful. Finally, begin to explore strategies that may be useful in interacting with an individual with ASD (for example, presenting information visually) and try them out. The success or lack of success of these interventions is useful in helping better understand your needs and is important information for the diagnostic assessment. .',\n",
       " 'What is involved in the assessment process?',\n",
       " 'The assessment process depends on the professional completing the assessment and the individual being assessed. Some doctors may not make a diagnosis immediately and will prefer instead to gather detailed information. Those who are familiar with ASD may feel confident making a diagnosis after one appointment. During the interview(s), the assessor will want to know the characteristics that are concerning and the adult’s medical and developmental history. Standardized tests may be a part of an assessment, especially if the diagnostician is a psychologist. Parents, family members or spouses may also be asked questions and to complete standardized questionnaires.',\n",
       " 'What are the clinical issues that should be assessed in adult ASD?',\n",
       " 'When a person is referred for an ASD assessment, the assessor looks not only at the specific characteristics of the ASD, but also considers features of other alternative or concurrent disorders. Psychologists will review history and current behaviours and concerns, as well as administer a variety of measures to determine a diagnosis. Specific concerns to be addressed in adult assessment may include: [] Intellectual/Cognitive ability: . assesses intellectual abilities; specifically, verbal and perceptual processing abilities; [] Academic ability: provides information about individual academic achievement overall, and identifies areas of academic strengths and challenges; [] Memory and attention: examines ability to remember or recognize information in short- and long- term memory, as well as working memory, and determines an individual’s ability to attend; [] Functional or Life-skills: assessment of functional abilities or daily living skills, with suggestions for areas in need of development; [] Executive Functioning: examines ability to plan, initiate, organize activities and tasks, self-monitor, and regulate behaviour and emotion; [] Mental Health: assessment of anxiety and depression relative to age and gender-matched peers, other mental health concerns such as obsessive and compulsive behaviours, and ability to identify and express emotions; [] Sensory Concerns: to gather information about sensory seeking and avoiding behaviours and specific sensory-related behaviours or concerns (and may result in referral for an occupational therapy (OT) consultation); [] Disorder-specific characteristics: assessing characteristics of specific neuro-developmental disorders such as Asperger’s Disorder, Autistic Disorder, or Attention Deficit Hyperactivity Disorder (ADHD).',\n",
       " 'I do not usually do well in testing situations. What should I do about this?',\n",
       " 'Many adults with ASD do not function optimally in a testing situation for various reasons such as anxiety, inability to focus, or sensory distractions. Tell the individual that is assessing you what your experience has been, and if there are any strategies that have helped to address this problem in the past. A good assessment will usually contain a statement by the assessor about whether they feel the test results are representative of the individual’s true abilities.',\n",
       " 'Is it possible that more than one person in the family has a form of ASD?',\n",
       " 'Studies are increasingly pointing to a genetic basis for ASD. We are seeing multiple occurrences of the disorder in the same generation or across generations in families, with varying degrees of severity. Addressing this openly, as a family, may sometimes be stressful or, alternatively, bring feelings of relief and greater understanding from family members. If you know or suspect there is a history of ASD or other similar symptoms in the family, this is useful information for the diagnostician to know.',\n",
       " 'Does it matter if the person is diagnosed with a specific ASD (such as Autism or Asperger’s) as opposed to ASD generally?',\n",
       " 'It is important to remember that eligibility for certain services may be in part determined by the specific ASD diagnosis an adult has been given. Knowing the adult has some form of ASD is most important initially; over time, the specific labels used may change, and it isn’t necessary to re- establish that a person has an ASD unless they feel the original diagnosis given did not reflect their real ASD profile. In such cases, the label can be “fine-tuned” if needed.',\n",
       " 'The person with suspected ASD already has another diagnosis. Will that diagnosis remain if they are identified with ASD?',\n",
       " 'Sometimes, a label that is given before a diagnosis of an ASD addresses some of the specific problems that may be evident (for example, a learning disability). This label may however not account for the many behavioural, learning, or emotional characteristics that ASD encompasses. Many people have concurrent diagnoses of an ASD and a Learning Disorder or some other disorder. It is helpful to think of the individual as having the diagnosis that is most inclusive of all the symptoms that he or she presents. Therefore, if a person has a diagnosis of an ASD and has some obsessive or compulsive features, these may be subsumed under the label of the ASD rather than the person also receiving an OCD diagnosis. If an individual has symptoms that are not fully explained by a diagnosis of ASD (such as severe depression or severe anxiety), these may be kept. All diagnoses may need specialized and focussed attention in the individual’s treatment plan.',\n",
       " 'Who should I tell about the diagnosis?',\n",
       " 'Any professional involved with the adult should know that they have been diagnosed with an ASD. Sometimes, if the person is mildly affected by ASD or Asperger Syndrome, it may not be necessary to tell others. Usually, however, telling people helps them understand the person better and interact more effectively with them.',\n",
       " 'It was recommended there be further assessments by other professionals after the diagnosis. Is this necessary?',\n",
       " 'A question that should be asked before agreeing to any assessment is: “What specifically can this process add to the treatment plan or approach?” Searching for assessment services may also delay active treatment. The major benefit of multiple assessments is that specific issues and concerns can be looked at from a multi-disciplinary perspective. Therefore, a person who has significant sensory processing issues may benefit from an OT assessment or consultation after they receive their diagnosis. If they need therapy to address anxiety or depression, however, they should not delay that therapy until after they see the OT.',\n",
       " 'I am a female with suspected ASD, but professionals and others have tended to discount my suspicions. What should I do?',\n",
       " 'While diagnoses of ASD in males continue to increase, the referrals and diagnoses for women have not followed this pattern and females may be diagnosed later in life, especially if they are considered “high functioning”. There are a few possible reasons for this, including socialization to a “gender role”, better abilities to cope with stressful situations, and better developed social skills. Signs and symptoms of an ASD may be less obvious; therefore, it is important to see a diagnostician who is familiar with the presentation of ASD in females. .',\n",
       " 'I have just been diagnosed. What’s next?',\n",
       " 'When anyone is diagnosed, the most important next step is for professionals and family members involved with the person to learn about the methods of support and intervention used with individuals with ASD and apply them to their interactions with this person. Local agencies specializing in developmental disabilities in general or ASD in particular, and resources on the Internet, are excellent places to look for this information. The diagnosis will also allow parents of adults to find support groups with those in similar situations.',\n",
       " 'What causes ASD?',\n",
       " 'The cause is unknown at present but it is generally accepted that it is caused by variations in brain structure or function. There is evidence to suggest that genetics plays an important role in the cause of ASD; it is likely to be multiple genes. Genes may create a “susceptibility” to developing ASD but researchers have not yet identified a single \"trigger\" that causes ASD to develop. There is no medical or genetic screening currently available. ',\n",
       " 'How common is ASD?',\n",
       " 'ASD affects 1 in 100 individuals (Fernell and Gillberg, 2010) in Australia and more males than females. The male to female ratio is approximately 4:1 (Freitag, 2007; Abrahams and Geschwind, 2008). ',\n",
       " 'Do all individuals with ASD have intellectual disability?',\n",
       " 'Some individuals with ASD have an intellectual disability whilst some have average or above average intelligence. Often individuals with ASD show an uneven pattern of skills having areas of particular strength and other areas where support may be required. ',\n",
       " 'How do individuals with ASD communicate?',\n",
       " 'Individuals with ASD vary greatly in their communication skills. Some individuals are highly articulate and effective communicators, often well above their chronological age. Some individuals may never develop language. Others may develop simple language or some may not develop speech but may communicate with devices, signing, pictures or writing. Those who do communicate verbally may still have difficulties with the subtleties of language such as tone of voice, knowing when to stop talking and adapting their language to suit their audience. ',\n",
       " 'How does ASD affect a person during their life?',\n",
       " 'ASD is a lifelong condition. Most individuals will require varying degrees of support throughout their lives. The supports are unique to the needs and age of the individual. Such supports work on the areas that can best support the person to fulfil and maximise their potential. Using evidence based interventions and supports are important to ensure the success of the programs as these interventions have been researched and have shown positive outcomes. Fact sheet: Autism and Evidence Based Practice explains the evidence based approach.',\n",
       " 'What is the DSM-5?',\n",
       " 'The American Psychiatric Association publishes the Diagnostic and Statistical Manual of Mental Disorders (DSM) to guide healthcare professionals diagnosing mental health conditions. The manual’s fifth edition – DSM-5 – took effect in May 2013.',\n",
       " 'Why was the new edition needed?',\n",
       " 'The American Psychiatric Association periodically updates the DSM to reflect new understanding of mental health conditions and the best ways to identify them. The goals for updating the criteria for diagnosing autism included: [] More accurate diagnosis [] Identification of symptoms that may warrant treatment or support services [] Assessment of severity level.',\n",
       " 'How does the DSM-5 change the way autism is diagnosed?',\n",
       " 'Six major changes included: 1. Four previously separate categories of autism consolidated into one umbrella diagnosis of “autism spectrum disorder.” The previous categories were: [] Autistic disorder [] Asperger syndrome [] Childhood disintegrative disorder [] Pervasive developmental disorder-not otherwise specified (PDD-NOS) 2. Consolidation of three previous categories of autism symptoms [] Social impairment [] Language/communication impairment and [] Repetitive/restricted behaviors into two categories of symptoms [] Persistent deficits in social communication/interaction and [] Restricted, repetitive patterns of behaviour. 3. The addition of sensory issues as a symptom under the restricted/repetitive behavior category. This includes hyper- or hypo-reactivity to stimuli (lights, sounds, tastes, touch, etc.) or unusual interests in stimuli (staring at lights, spinning objects, etc.) 4. A severity assessment scale (levels 1-3) based on level of support needed for daily function. 5. Additional assessment for: [] Any known genetic causes of autism (e.g. fragile X syndrome, Rett syndrome) [] Language level [] Intellectual disability and [] The presence of autism-associated medical conditions (e.g. seizures, anxiety, gastrointestinal disorders, disrupted sleep) 6. Creation of a new diagnosis of social communication disorder, for disabilities in social communication without repetitive, restricted behaviors. Read the full text of the DSM-5 criteria for autism spectrum disorder and social communication disorder.',\n",
       " 'What are the new criteria for diagnosing autism?',\n",
       " 'The DSM-5 criteria for autism fall under two categories: In addition, clinicians are asked to rate the severity of these problems, based on the level of daily support they require. Read the full text of the DSM-5 criteria for autism spectrum disorder.',\n",
       " 'How will these DSM-5 changes affect people already diagnosed with Asperger syndrome, PDD-NOS or other previous autism categories?',\n",
       " 'The DSM-5 states, “Individuals with a well-established DSM-IV diagnoses of autistic disorder, Asperger’s disorder or pervasive developmental disorder not otherwise specified should be given the diagnosis of autism spectrum disorder.”',\n",
       " 'What if I or my child want to keep the diagnosis of Asperger syndrome?',\n",
       " 'Many people strongly identify with their diagnosis of Asperger syndrome. Healthcare providers can still indicate a diagnosis of Asperger syndrome (or another previously used autism category) in a patient’s medical record, alongside the current DSM-5 coding for “autism spectrum disorder.” Colleges and school districts may vary in their policies for educational records.',\n",
       " 'What is the new diagnosis of social communication disorder? Who will it affect?',\n",
       " 'This new diagnosis applies to people who have persistent problems with the social use of language, but don’t have restricted interests or repetitive behaviors. Some people who would have previously received a diagnosis of PDD-NOS may now receive a diagnosis of social communication disorder. However, this should apply only to newly diagnosed people. It should not be applied retroactively to someone already diagnosed with PDD-NOS under the DSM-IV criteria.',\n",
       " 'Is social communication disorder on the autism spectrum?',\n",
       " 'No. Social communication disorder is considered a communication disorder. People who have the symptoms of social communication disorder in addition to restricted, repetitive behaviors may receive a diagnosis of autism instead.',\n",
       " 'Will insurance companies cover treatments for social communication disorder? Will schools provide special education services?',\n",
       " 'Because this is a new diagnosis, it is unclear what challenges people will have in accessing insurance coverage and special education services. If you or your child is diagnosed with social communication disorder and have difficulty obtaining coverage or services, email our advocacy team.',\n",
       " 'WHAT ARE AUTISM SPECTRUM DISORDERS?',\n",
       " 'Autism spectrum disorders (ASDs) represent a range of brain disorders that are characterized by restricted patterns of behavior and impairments in social communication and interactions. These disorders share common origins and features, but are classified as spectrum disorders because symptoms and severity vary among individuals.',\n",
       " 'WHAT ARE THE SYMPTOMS OF AUTISM SPECTRUM DISORDERS?',\n",
       " \"Symptoms/behaviors of ASDs can range from mild to severe, and may seem to appear gradually or suddenly. Atypical development may be observed from birth, or more commonly, become noticeable during the 12- to 36-month period. Symptoms include: Social Deficits - Children with autism have difficulty in social interactions. They may avoid eye contact and interactions with people and resist or passively accept attention. They are often unable to read social cues or exhibit emotional reciprocity. Thus, they are unable to predict or understand other peoples’ behavior. They may also have difficulty controlling emotion, may be disruptive or aggressive at times, or may lose control, especially when frustrated or presented with a new situation or environment. Head-banging, hair-pulling and arm-biting may occur. Communication Difficulties - Communication skills are affected in children with autism, but difficulties vary. Some children may have good basic language skills, but exhibit difficulty initiating or sustaining conversations, such as not giving others the opportunity to respond. Others may experience delays or regression in language development; still others remain mute or may use language in unusual ways, such as repeating a phrase, or parroting what they hear (echolalia). Body language is also often hard to read in children with autism. Facial expressions, tone of voice and gestures often do not match verbal content and emotions. They have difficulty expressing what they want or need. They may also appear deaf, not responding to their names or attempts at conversation. Repetitive Behaviors - Patterns of behavior, interests and activities may be restricted, repetitive or stereotyped. For example, a child may spend long periods of time arranging specific toys in a particular manner, rather than playing with the toys. Intense preoccupation with certain topics, such as obsessively studying maps, may also be seen. Odd repetitive motions, either extreme or subtle, such as arm-flapping, freezing, rocking back and forth or walking on their toes may also occur. Often, people with autism demand consistency in their environment. A minor change in routine may be tremendously upsetting. Sensory Difficulties - In children with autism, the brain seems unable to balance the senses appropriately. Many autistic children are highly attuned or even painfully sensitive to certain sounds, textures, tastes or smells. Some seem oblivious to cold or pain, but react hysterically to things that wouldn't bother other children. In some people, the senses are even scrambled. For example, touching a certain texture may induce a gagging response. Unusual Abilities - In rare cases, some children with ASDs display remarkable abilities, such as drawing detailed, realistic pictures at a young age or playing an instrument without training. Some can memorize difficult lists of items, such as statistics or names (this is called islets of intelligence or savant skills).\",\n",
       " 'WHAT IS AUTISTIC DISORDER?',\n",
       " 'Autistic disorder, commonly referred to as autism, is the most prevalent ASD and severely impairs a child’s social interaction and communication abilities.',\n",
       " \"WHAT IS ASPERGER'S SYNDROME?\",\n",
       " \"Asperger's Syndrome is the second most common ASD and is a milder form of autism. Children with Asperger’s Syndrome exhibit higher language development than children with autism and often have normal intellectual ability combined with a disinterest in social communication. Children with Asperger’s may not initiate or sustain a conversation and do not compensate for their limited language by using nonverbal means of communication, thus limiting their peer relationships. Similar to autism, children with Asperger’s do not share enjoyment or interests with others.\",\n",
       " \"WHAT ARE THE OTHER ASD (BESIDES AUTISM AND ASPERGER'S SYNDROME)?\",\n",
       " 'Other disorders in the spectrum include pervasive developmental disorder not otherwise specified (PDDNOS) and two rarer disorders—childhood disintegrative disorder (CDD) and Rett’s syndrome. Children with PDDNOS demonstrate symptoms similar to autistic disorder, but do not meet all criteria for the disorder. Children with CDD, which affects more boys than girls, develop normally until approximately the first two years of life (average onset of symptoms is between 3 and 4 years) but they then regress in most areas and continue worsening. Specifically, they experience a pronounced loss in motor, language, social and intellectual skills. They also lose bowel and bladder control. Seizures may even occur.',\n",
       " 'WHAT IS RETT SYNDROME?',\n",
       " 'Rett syndrome is a genetic disorder almost exclusively found in females. After early normal development, autistic symptoms begin to develop between 6 and 18 months, which typically include shunning social contact, talking cessation, unique motor behaviors, and a regression in skills. A single gene mutation has been identified as a cause of Rett syndrome, a finding that may enable researchers to develop improved diagnostics, earlier interventions and better treatments for the condition.',\n",
       " 'WHO DEVELOPS AUTISM SPECTRUM DISORDERS (ASD)?',\n",
       " 'ASDs are usually evident by the age of 3, though diagnosis may be made as early as 12 to 18 months, and as late as 4 to 6 years (or later). According to the Center for Disease Control (CDC), about 1 in 59 children have an autism spectrum disorder. ASDs are three to four times more common in boys than in girls. However, girls with these disorders tend to have more severe symptoms and lower intelligence. Some children will need ongoing supervision, while others, with the right support, may pursue higher education and fulfilling jobs. These disorders affect people of all racial, ethnic and socioeconomic groups.',\n",
       " 'HOW ARE ASD DIAGNOSED?',\n",
       " 'To date, no biological diagnostic tests exist that detect autism. But scientists are hopeful that advanced imaging techniques and differences in blood levels of proteins in autistic versus normal children may have implications for diagnosis. Already, improved diagnostic procedures have allowed clinicians to diagnose children at a younger age. Formal diagnosis involves parental input and structured and systematic screening instruments, such as the Modified Checklist for Autism in Toddlers (M-CHAT) and the Autism Behavioral Checklist (ABC) for older children. The Childhood Autism Rating Scale (CARS) and the Autism Diagnostic Inventory-Revised (ADI-R) are used, as well. These tools measure the prevalence of symptoms. Symptoms may be present from birth, or may occur after months of normal development. However, no two children with these disorders behave the same way. Children as young as 18 months may be diagnosed, but have different clinical features than an older child with autism. Between 18 months and 36 months, symptoms may include: Limited pretend play Lack of pointing to demonstrate interest Reduced gaze following Less frequent demonstration of repetitive, stereotypic behaviors In children with autism between 2 years and 3 years of age, the following features may be observed: Communication difficulties Socialization deficits with caregivers Perceptual sensitivity Other difficult behaviors',\n",
       " 'WHAT ARE THE CAUSES OF AUTISM SPECTRUM DISORDERS (ASD)?',\n",
       " 'Some combination of genetic, biological and environmental factors is believed to cause ASDs. Researchers are exploring several genes which are believed to contribute to the development of these disorders as well as several brain regions that have been linked to the disorders. Abnormal brain development during the first months of life is being studied to determine if structural abnormalities, such as in the mirror neuron systems, may be caused by genetic and/or environmental factors. Researchers are also exploring the effects of genetic imprinting in which a gene’s expression is determined by which parent donates the gene copy. Certain neurotransmitters, such as serotonin, dopamine, and epinephrine, may also function abnormally. In some cases, scientists are exploring the possibility that a faulty immune response to a virus, elevated concentrations of proteins in the blood at birth, dysregulation of specific neuropeptides or a major stress during pregnancy may lead to the disorder.',\n",
       " 'HOW ARE ASD TREATED?',\n",
       " 'There is no one treatment for ASDs; however, it is widely accepted that the earliest interventions allow the best outcomes. Treatments generally address both cognitive and behavioral functioning. They may include a combination of medications (for challenging behaviors), behavioral therapy, psycho-education, family support groups, educational interventions, speech and language therapy, occupational therapy and specialized training to develop and improve acquisition of necessary skills. Research has found that a newer class of atypical antipsychotic medications may better treat the serious behavioral disturbances in children with autism who are between 5 and 17 years old. Applied behavioral analysis may be an effective adjunctive treatment in reinforcing desirable and reducing undesirable behaviors. Other work focuses on improving social communication in children with autism. Some have found that structured multidisciplinary behavioral programs are more successful. Parental involvement, a predictable schedule, regular behavior reinforcement and active engagement of attention in highly structured activities to enhance a strength or ability may all contribute to creating an effective treatment program.',\n",
       " 'Do vaccines cause autism spectrum disorder (ASD)? ',\n",
       " 'Many studies that have looked at whether there is a relationship between vaccines and autism spectrum disorder (ASD). To date, the studies continue to show that vaccines are not associated with ASD. However, CDC knows that some parents and others still have concerns. To address these concerns, CDC is part of the Inter-Agency Autism Coordinating Committee (IACC)external icon, which is working with the National Vaccine Advisory Committee (NVAC)external icon on this issue. The job of the NVAC is to advise and make recommendations regarding the National Vaccine Program. Communication between the IACC and NVAC will allow each group to share skills and knowledge, improve coordination, and promote better use of research resources on vaccine topics. For more information about vaccines and ASD, see: Immunization Safety Office Mercury and Vaccines (Thimerosal) Measles, Mumps, and Rubella (MMR) Vaccines Safety Thimerosal in Seasonal Influenza Vaccine Timeline: Thimerosal in Vaccines (1999–2010) Vaccine Safety: Concerns about Autism Chart of CDC’s Vaccine and ASD Research pdf icon[130 KB, 2 Pages, 508] ',\n",
       " 'Is there an ASD epidemic?   ',\n",
       " 'More people than ever before are being diagnosed with an ASD. It is unclear exactly how much of this increase is due to a broader definition of ASD and better efforts in diagnosis. However, a true increase in the number of people with an ASD cannot be ruled out. We believe the increase in the diagnosis of ASD is likely due to a combination of these factors. CDC is working with partners to study the prevalence of ASD over time, so that we can find out if the number of children with these disorders is rising, dropping, or staying the same. We do know that ASD are more common than we thought before and should be considered an important public health concern. There is still a lot to learn about ASD. In addition, increased concern in the communities, continued demand for services, and reports estimating a prevalence of about 1.7 percent show the need for a coordinated and serious national response to improve the lives of people with ASD. Learn more about the number of people with ASD » ',\n",
       " 'Can adults be diagnosed with an ASD? ',\n",
       " 'Yes, adults can be diagnosed with an ASD. Diagnosis includes looking at the person’s medical history, watching the person’s behavior, and giving the person some psychological tests. But, it can be more challenging to diagnose an adult because it is not always possible to know about the person’s development during the first few years of life, and a long history of other diagnoses may complicate an ASD diagnosis. Because the focus of ASD has been on children, we still have much to learn about the prevalence and causes of ASD across the lifespan. Behavioral interventions can be effective for adults coping with a new diagnosis of autism.   ',\n",
       " 'What are mitochondrial diseases or disorders? ',\n",
       " 'Mitochondria are tiny parts of almost every cell in your body. Mitochondria are like the power house of the cells. They turn sugar and oxygen into energy that the cells need to work. In mitochondrial diseases, the mitochondria cannot efficiently turn sugar and oxygen into energy, so the cells do not work correctly. There are many types of mitochondrial disease, and they can affect different parts of the body: the brain, kidneys, muscles, heart, eyes, ears, and others. Mitochondrial diseases can affect one part of the body or can affect many parts. They can affect those part(s) mildly or very seriously. Not everyone with a mitochondrial disease will show symptoms. However, when discussing the group of mitochondrial diseases that tend to affect children, symptoms usually appear in the toddler and preschool years. Mitochondrial diseases and disorders are the same thing. ',\n",
       " 'Is there a relationship between mitochondrial disease and autism? ',\n",
       " 'A child with a mitochondrial disease: may also have an autism spectrum disorder, may have some of the symptoms/signs of autism, or may not have any signs or symptoms related to autism. A child with autism may or may not have a mitochondrial disease. When a child has both autism and a mitochondrial disease, they sometimes have other problems as well, including epilepsy, problems with muscle tone, and/or movement disorders. More research is needed to find out how common it is for people to have autism and a mitochondrial disorder. Right now, it seems rare. In general, more research about mitochondrial disease and autism is needed. ',\n",
       " 'What is regressive encephalopathy? ',\n",
       " 'Encephalopathy is a medical term for a disease or disorder of the brain. It usually means a slowing down of brain function. Regression happens when a person loses skills that they used to have like walking or talking or even being social. Regressive encephalopathy means there is a disease or disorder in the brain that makes a person lose skills they once had. We know that sometimes children with mitochondrial diseases seem to be developing as they should, but around toddler or preschool age, they regress. The disease was there all the time, but something happens that “sets it off”. This could be something like malnutrition, an illness such as flu, a high fever, dehydration, or it could be something else. ',\n",
       " 'Is there a relationship between autism and encephalopathy? ',\n",
       " 'Most children with an autism spectrum disorder do not and have not had an encephalopathy. Some children with an autism spectrum disorder have had regression and some have had a regressive encephalopathy. ',\n",
       " 'What do we know about the relationship between mitochondrial disease and other disorders related to the brain? ',\n",
       " 'Different parts of the brain have different functions. The area of the brain that is damaged by a mitochondrial disease determines how the person is impacted. This means that a person could have seizures; trouble talking or interacting with people; difficulty eating; muscle weakness, or other problems. They could have one issue or several. ',\n",
       " 'Do vaccines cause or worsen mitochondrial diseases? ',\n",
       " 'As of now, there are no scientific studies that say vaccines cause or worsen mitochondrial diseases. We do know that certain illnesses that can be prevented by vaccines, such as the flu, can trigger the regression that is related to a mitochondrial disease. More research is needed to determine if there are rare cases where underlying mitochondrial disorders are triggered by anything related to vaccines. However, we know that for most children, vaccines are a safe and important way to prevent them from getting life-threatening diseases. ',\n",
       " 'Are all children routinely tested for mitochondrial diseases? What about children with autism? ',\n",
       " 'Children are not routinely tested for mitochondrial diseases. This includes children with autism and other developmental delays. Testing is not easy and may involve getting multiple samples of blood, and often samples of muscle. Doctors decide whether testing for mitochondrial diseases should be done based on a child’s signs and symptoms. ',\n",
       " 'Should I have my child tested for a mitochondrial disease? ',\n",
       " 'If you are worried that your child might have a mitochondrial disease, talk to your child’s doctor. ',\n",
       " 'Autism is a neuropsychiatric disorder. True or false?',\n",
       " \"True. Autism spectrum disorder (ASD), often referred to as simply autism, is a developmental disability that impacts how people communicate verbally and nonverbally, and how they interact, behave, and learn. People with ASD don't look different, but the way they interact with the world around them is different. The way people with ASD learn, think, and problem solve can vary from being gifted in math, art, music, or visual skills, to being severely challenged both mentally and physically. Many people with ASD can live independently, while some need assistance in daily living.\",\n",
       " 'Who is more likely to develop autism? Boys or girls?',\n",
       " 'Boys. Boys are diagnosed with autism four times more often than girls. One in 68 children in the U.S. is diagnosed with ASD, and this spans all races, regions, and socio-economic statuses. Approximately 40% of those diagnosed with autism are non-verbal. About 25%-30% of children with autism may speak some words around age 12 to 18 months, but then lose them. Others may gain the ability to speak later in childhood.',\n",
       " 'Autism is almost always genetic. True or false?',\n",
       " 'False. The National Institutes of Health states there is a genetic component that predisposes people to develop autism, but there is also an environmental component. The incidence of autism over the last 20 years has risen so rapidly that genetics cannot be the sole cause.',\n",
       " 'Asperger syndrome is also on the spectrum of autism disorders. True or false?',\n",
       " 'True. A condition also on the spectrum of autism disorders is Asperger syndrome (AS), which is characterized by social impairment, communication difficulties, and restrictive, repetitive, and stereotyped patterns of behavior. Autism spectrum disorders (ASDs) are a type of neurodevelopmental disorder that is present from infancy or early childhood. Ideally, these disorders will be screened for and diagnosed before the child is 2 yeas old but many are often not detected until later in life. Other types of ASDs include autistic disorder, childhood disintegrative disorder, and pervasive developmental disorder not otherwise specified (usually referred to as PDD-NOS).',\n",
       " 'There are no treatments for autism. True or false?',\n",
       " \"False. While there are no treatments to cure autism or medications to treat core symptoms, there are some medications that can help some people with ASD function better in daily life. Medications may be used to manage high energy levels, to help a child focus, to treat depression, or to manage seizures. However, not all medications affect children in the same way so it is important to work with a doctor who has experience in treating children with ASD to determine the right medication and to monitor your child's progress and manage any adverse side effects.\",\n",
       " 'Autism includes a broad spectrum of symptoms and disorders. True or false?',\n",
       " 'True. The term \"autism\" is generally used to describe a group of complex developmental brain disorders known as Pervasive Developmental Disorders (PDD). These disorders include Asperger Syndrome, Rett Syndrome, and Childhood Disintegrative Disorder. Many parents and professionals refer to this group as Autism Spectrum Disorders.',\n",
       " \"Mothers were originally blamed for their child's autism. True or false?\",\n",
       " 'True. In the past mothers were blamed for their child\\'s autism. Women were called \"refrigerator mothers\" and accused of being to emotionally frigid with their children, causing the autism. This caused many mothers to feel guilty and doubt their parenting skills. Fortunately, this theory of parenting causing autism has been widely discredited.',\n",
       " 'Symptoms of autism are usually the same in every child. True or false?',\n",
       " 'False. Symptoms of autism vary from child to child. Some symptoms may appear in one child but not in another. Some symptoms children with autism may exhibit include: - Difficulty making friends. Many children with ASD avoid eye contact or want to be alone. - Repetition of words or phrases (echolalia). - Difficulty adapting to changes in the daily routine. - Repetition of actions over and over again, and a strong desire to adhere to strict routines so they know what to expect. - Flapping their hand, rocking their bodies, or spinning in circles. - Unusual reactions to sensory perceptions (the way things sound, look, feel, taste, or smell). ',\n",
       " 'How is autism diagnosed in young children?',\n",
       " 'The diagnosis of autism is based on an expert clinician’s careful observations of a child’s behavior. The clinician engages the child in a set of play activities that are designed to probe for autism symptoms, and the diagnosis is based on how many symptoms are present. A certain number of symptoms in two categories are required: difficulties in socially interacting and communicating with others, and the presence of restricted and repetitive behaviors. In addition to observing behaviors, other medical information is also typically obtained, such as genetic testing. ',\n",
       " 'What are early signs of autism?',\n",
       " 'Symptoms of autism can be observed as early as 12-18 months of age. Symptoms include: [] reduced interest in people [] lack of gestures such as pointing and showing [] lack of engagement in social play, such as “patty cake” [] failure to consistently orient when the child’s name is called For some children, symptoms are not apparent until they’re in more demanding social situations, such as at preschool. Some children may engage more easily with familiar adults such as their parents, but have difficulty when engaging with peers. ',\n",
       " 'Why do people diagnosed with autism spectrum disorder (ASD) sometimes have a difficult time making eye contact?',\n",
       " 'Researchers recently have found that people diagnosed with ASD have a hard time making eye contact. In one studyTrusted Source, the subcortical system of the brain was shown to exhibit a high activation, which researchers believe may be the basis of people with autism avoiding eye contact in daily life. This pathway is involved in facial recognition and detection. In infants, the more this pathway is used, the better the visual cortex develops. This can help give the person diagnosed with autism and their loved ones an improved ability to recognize social cues and communicate with one another. ',\n",
       " 'How does visual processing impact someone with ASD?',\n",
       " 'Researchers have found that learning is more effective when our vision is linked to the information coming into the brain. Because vision is our dominant sense, improving our visual information processing can help us with movement, orientation, and understanding the relationship between our eyes, brain, and body. People with ASD, especially children, may or may not be able to communicate their visual difficulties. Some, however, may [display certain] behaviors, which can be indicative of wider vision problems. These behaviors include, but aren’t limited to: [] eye tics or blinking [] dilated pupils [] erratic eye movements [] poor eye contact or avoiding eye contact [] avoiding visual attention, especially reading and near work [] frequent loss of place when reading [] rereading letters or words [] closing or blocking one eye when reading [] looking out of the corner of the eye [] difficulty copying from far away [] holding a book too close to the eyes [] overly interested in shadows, patterns, or lights [] bumping or running into objects [] confusion going up or down stairs [] rocking',\n",
       " 'What is psychotherapy?',\n",
       " \"Psychotherapy is a type of personal counseling used to treat mental health problems, psychological disorders or difficulties coping with life's stressors. The service is provided by a psychologist, clinical social worker or other mental health professional.\",\n",
       " 'What is CARD Individual psychotherapy Therapy?',\n",
       " 'Individual therapy services at CARD typically focus on helping school-age children and adolescents with an autism spectrum disorder (ASD) to manage anger, anxiety, depression, or to cope with issues related to growing up with an ASD. What is CARD Cognitive-behavioral therapy (CBT)?. CBT is a research-based approach that focuses on teaching specific coping skills and on understanding the relationship between thoughts, feelings and behaviors. This approach is often used during individual therapy sessions. CBT strategies can be modified to enhance the understanding of the relationship between thoughts, feelings and behaviors in children and adolescents with an ASD. In addition, caregivers are often active participants in this type of therapy, and are provided with information about incorporating therapeutic strategies outside the clinical setting. What is CARD Family psychotherapy Therapy?. Family therapy at CARD often focuses on helping caregivers to understand and cope with their child’s diagnosis and challenges. These services typically incorporate psycho-education and help parents to recognize and manage the impact of a child’s diagnosis on parent and family functioning. What is CARD Group psychotherapy Therapy?. CARD offers group therapy for school-age children and adolescents. Groups focus on improving social skills and managing anxiety or emotional distress. These services incorporate a variety of strategies, including direct instruction, experiential learning, CBT techniques and parent training.',\n",
       " 'What are psychotherapy Therapy elements?',\n",
       " 'Emotion identification [] Relaxation training [] Identifying maladaptive thought patterns that might provoke and cultivate upset feelings, while generating alternative, adaptive thoughts to assist with coping [] Learning to face fears and decrease phobias [] Education about ASD [] Learning to cope with having an ASD or having a family member with an ASD [] Social skills instruction',\n",
       " 'What are ASD Symptoms?',\n",
       " \"Some children show signs of autism spectrum disorder in early infancy, such as reduced eye contact, lack of response to their name or indifference to caregivers. Other children may develop normally for the first few months or years of life, but then suddenly become withdrawn or aggressive or lose language skills they've already acquired. Signs usually are seen by age 2 years. Each child with autism spectrum disorder is likely to have a unique pattern of behavior and level of severity — from low functioning to high functioning. Some children with autism spectrum disorder have difficulty learning, and some have signs of lower than normal intelligence. Other children with the disorder have normal to high intelligence — they learn quickly, yet have trouble communicating and applying what they know in everyday life and adjusting to social situations. Because of the unique mixture of symptoms in each child, severity can sometimes be difficult to determine. It's generally based on the level of impairments and how they impact the ability to function.\",\n",
       " 'What are ASD Social communication and interaction?',\n",
       " \"A child or adult with autism spectrum disorder may have problems with social interaction and communication skills, including any of these signs: [] Fails to respond to his or her name or appears not to hear you at times [] Resists cuddling and holding, and seems to prefer playing alone, retreating into his or her own world [] Has poor eye contact and lacks facial expression [] Doesn't speak or has delayed speech, or loses previous ability to say words or sentences [] Can't start a conversation or keep one going, or only starts one to make requests or label items [] Speaks with an abnormal tone or rhythm and may use a singsong voice or robot-like speech [] Repeats words or phrases verbatim, but doesn't understand how to use them [] Doesn't appear to understand simple questions or directions [] Doesn't express emotions or feelings and appears unaware of others' feelings [] Doesn't point at or bring objects to share interest [] Inappropriately approaches a social interaction by being passive, aggressive or disruptive [] Has difficulty recognizing nonverbal cues, such as interpreting other people's facial expressions, body postures or tone of voice\",\n",
       " 'What are ASD Patterns of behaviour?',\n",
       " \"A child or adult with autism spectrum disorder may have limited, repetitive patterns of behavior, interests or activities, including any of these signs: [] Performs repetitive movements, such as rocking, spinning or hand flapping [] Performs activities that could cause self-harm, such as biting or head-banging [] Develops specific routines or rituals and becomes disturbed at the slightest change [] Has problems with coordination or has odd movement patterns, such as clumsiness or walking on toes, and has odd, stiff or exaggerated body language [] Is fascinated by details of an object, such as the spinning wheels of a toy car, but doesn't understand the overall purpose or function of the object [] Is unusually sensitive to light, sound or touch, yet may be indifferent to pain or temperature [] Doesn't engage in imitative or make-believe play [] Fixates on an object or activity with abnormal intensity or focus [] Has specific food preferences, such as eating only a few foods, or refusing foods with a certain texture As they mature, some children with autism spectrum disorder become more engaged with others and show fewer disturbances in behavior. Some, usually those with the least severe problems, eventually may lead normal or near-normal lives. Others, however, continue to have difficulty with language or social skills, and the teen years can bring worse behavioral and emotional problems. \",\n",
       " 'When to see a doctor?',\n",
       " 'Babies develop at their own pace, and many don\\'t follow exact timelines found in some parenting books. But children with autism spectrum disorder usually show some signs of delayed development before age 2 years. If you\\'re concerned about your child\\'s development or you suspect that your child may have autism spectrum disorder, discuss your concerns with your doctor. The symptoms associated with the disorder can also be linked with other developmental disorders. Signs of autism spectrum disorder often appear early in development when there are obvious delays in language skills and social interactions. Your doctor may recommend developmental tests to identify if your child has delays in cognitive, language and social skills, if your child: [] Doesn\\'t respond with a smile or happy expression by 6 months [] Doesn\\'t mimic sounds or facial expressions by 9 months [] Doesn\\'t babble or coo by 12 months [] Doesn\\'t gesture — such as point or wave — by 14 months [] Doesn\\'t say single words by 16 months [] Doesn\\'t play \"make-believe\" or pretend by 18 months [] Doesn\\'t say two-word phrases by 24 months [] Loses language skills or social skills at any age',\n",
       " 'What are ASD Causes?',\n",
       " 'Autism spectrum disorder has no single known cause. Given the complexity of the disorder, and the fact that symptoms and severity vary, there are probably many causes. Both genetics and environment may play a role. [] Genetics. Several different genes appear to be involved in autism spectrum disorder. For some children, autism spectrum disorder can be associated with a genetic disorder, such as Rett syndrome or fragile X syndrome. For other children, genetic changes (mutations) may increase the risk of autism spectrum disorder. Still other genes may affect brain development or the way that brain cells communicate, or they may determine the severity of symptoms. Some genetic mutations seem to be inherited, while others occur spontaneously. [] Environmental factors. Researchers are currently exploring whether factors such as viral infections, medications or complications during pregnancy, or air pollutants play a role in triggering autism spectrum disorder. No link between vaccines and autism spectrum disorder One of the greatest controversies in autism spectrum disorder centers on whether a link exists between the disorder and childhood vaccines. Despite extensive research, no reliable study has shown a link between autism spectrum disorder and any vaccines. In fact, the original study that ignited the debate years ago has been retracted due to poor design and questionable research methods. Avoiding childhood vaccinations can place your child and others in danger of catching and spreading serious diseases, including whooping cough (pertussis), measles or mumps.',\n",
       " 'What are ASD Risk factors?',\n",
       " \"The number of children diagnosed with autism spectrum disorder is rising. It's not clear whether this is due to better detection and reporting or a real increase in the number of cases, or both. Autism spectrum disorder affects children of all races and nationalities, but certain factors increase a child's risk. These may include: [] Your child's sex. Boys are about four times more likely to develop autism spectrum disorder than girls are. [] Family history. Families who have one child with autism spectrum disorder have an increased risk of having another child with the disorder. It's also not uncommon for parents or relatives of a child with autism spectrum disorder to have minor problems with social or communication skills themselves or to engage in certain behaviors typical of the disorder. [] Other disorders. Children with certain medical conditions have a higher than normal risk of autism spectrum disorder or autism-like symptoms. Examples include fragile X syndrome, an inherited disorder that causes intellectual problems; tuberous sclerosis, a condition in which benign tumors develop in the brain; and Rett syndrome, a genetic condition occurring almost exclusively in girls, which causes slowing of head growth, intellectual disability and loss of purposeful hand use. [] Extremely preterm babies. Babies born before 26 weeks of gestation may have a greater risk of autism spectrum disorder. [] Parents' ages. There may be a connection between children born to older parents and autism spectrum disorder, but more research is necessary to establish this link.\",\n",
       " 'What are ASD Complications?',\n",
       " 'Problems with social interactions, communication and behavior can lead to: [] Problems in school and with successful learning [] Employment problems [] Inability to live independently [] Social isolation [] Stress within the family [] Victimization and being bullied',\n",
       " 'What are ASD Preventions?',\n",
       " \"There's no way to prevent autism spectrum disorder, but there are treatment options. Early diagnosis and intervention is most helpful and can improve behavior, skills and language development. However, intervention is helpful at any age. Though children usually don't outgrow autism spectrum disorder symptoms, they may learn to function well.\",\n",
       " 'What causes autism?',\n",
       " 'Genetic inheritance is involved in the development of autism spectrum disorders (ASD). Genetic factors likely interact with environmental variables to result in the expression of autism. Neurobiological research indicates that autism is likely the result of genetically determined abnormalities in brain development. This abnormal brain development may start before the child is born. It has been difficult for genetics researchers to locate a specific chromosome(s) involved in autism but recent studies have identified several genetic mechanisms that each lead to autism.',\n",
       " 'How many people have autism?',\n",
       " 'The original estimates of the prevalence of autism indicated that it occurred in around 2 per 10,000 people. However, recent estimates place the prevalence as high as or higher than 1 per 68 for all autism spectrum disorders combined according to The Centers for Disease Control and Prevention (CDC). It is likely that the increased prevalence of autism is due to increased awareness of the disorder by the population at large as well as by physicians and other providers of service to children and better diagnostic tools that more accurately covers the entire autism spectrum. There is some evidence that suggests that mental retardation is being given as a primary diagnosis less often than in the past. The increased prevalence of autism coincides with this decrease. However, a true increase in the prevalence of autism across time is certainly possible.',\n",
       " 'What are some of the behaviors exhibited by a child who may have an autism spectrum disorder?',\n",
       " 'Though the presentation of symptoms with autism can vary quite a bit, there are specific behaviors necessary for diagnosing it. Impairment in reciprocal social interaction must be present. We often envision a child with autism as avoiding eye contact or perhaps as using people as they would inanimate objects. Communicative deficits also must be present for an ASD to be diagnosed. There are well-documented specific problems in communication such as incorrect usage of pronouns, but the range of impairment in this area is great and can include the absence of any functional communication skill. Repetitive behaviors and/or marked adherence to specific routines also must be present for an ASD to be diagnosed. Stereotypic behavior is quite prevalent in persons with autism and recent research indicates that though these repetitive behaviors occur during typical development, they tend to persist in children with autism beyond the developmental stages at which they are usually replaced by more functional behavior. Symbolic play deficits have also been noted to be common in children with autism.',\n",
       " 'My child is 3 and not talking yet, does this mean he has autism?',\n",
       " 'No. There are a variety of disorders that are related to limited speech development but any child that is not talking by the age of 3 should have a developmental assessment immediately. Most children are babbling before they reach their first birthday and use single words to communicate by 18 months. Any child that does not display these behaviors or who has and subsequently loses a communicative or social skill should be screened for an autism spectrum disorder as soon as possible.',\n",
       " 'What kinds of tests need to be done to diagnose autism?',\n",
       " \". There are no definitive diagnostic tests for autism. The soundest means of determining diagnosis is a thorough review of the child's developmental history and observation of their behavior in structured and unstructured situations. The diagnostic tools most often turned to by pediatricians, who are the front line of noting developmental problems, are the Diagnostic and Statistical Manual of Mental Disorders (DSM) and the International Classification of Diseases (ICD). When a pediatrician suspects autism or another developmental disorder, they should refer the child's family to a specialist in childhood development. When a child is referred to a specialist for formal testing, a caregiver interview instrument is often the first diagnostic tool used. Two tools require clinicians to receive competency-based training to implement them. One is the Autism Diagnostic Interview (ADI), developed by a panel of autism experts headed by Catherine Lord in 1994, and the other is the Diagnostic Interview for Social and Communication Disorders (DISCO), developed by Lorna Wing and colleagues in the UK. A structured observation of the child should also be conducted and the currently accepted gold standard for this is the Autism Observation Diagnostic Schedule (ADOS). Clinicians are also required to pass competency-based trainings to administer this tool.\",\n",
       " 'What treatment has been proven effective for treating autism?',\n",
       " 'A recent study by Sallows and Graupner (2005) has replicated the results of Lovaas and colleagues. They indicated that a positive treatment outcome was best predicted by a child\\'s pre-intervention language, imitation, and social skills. Another study by Howard, Sparkman, Cohen, Green, and Stanislaw (2005), compared intensive behavior analytic intervention to standard early intervention services provided to children with developmental impairment and to \"eclectic\" treatment. It was found that, after over a year of service delivery, children in the intensive behavioral treatment group had gained substantially more skills than either of the two comparison groups. It can be concluded from this study that ABA services alone are superior to eclectic intervention that combines ABA with unproven treatments.',\n",
       " 'What is Applied Behavior Analysis?',\n",
       " \"Applied Behavior Analysis or ABA is the application of the empirically validated principles of behavior to build skills through directed instruction and to treat problem behaviors by determining the function of them and arranging for effective intervention that addresses the behavior's function. ABA is an approach to analyzing each individual's skill deficits and problem behaviors. Though autism is a disorder that involves specific general impairments, each child brings with them a distinct set of difficulties. No single treatment package can be used for all children and ABA is a method for examining the needs of each person. Specific instruction can then be tailored to a child's unique situation.\",\n",
       " 'Why ABA?',\n",
       " 'No single \"treatment package\" will serve every child\\'s needs and no individual can claim to own ABA. ABA, for the treatment of autism, is the application of the principles of learning to 1) build skills and 2) treat problem behavior. It works because each person\\'s behavior is assessed to determine what skills they have not mastered and what types of problem behavior interfere with learning and social functioning. For skill deficits, direct instruction is provided until the skill is mastered. For problem behavior, specific analysis of why the behavior occurs is used to develop treatment to eliminate the behavior or teach the person to use other more appropriate behavior to serve the same function.',\n",
       " 'Who is qualified to provide ABA services?',\n",
       " 'The person who supervises the implementation of an ABA program should be a \"behavior analyst.\" There is a Behavior Analyst Certification Board® (BACB®) and the criteria for becoming a Board Certified Behavior Analyst® or BCBA® are listed at www.bacb.com (see the consumer information section, click on \"Standards for becoming a BCBA or BCABA®\"). This certification process is relatively new and if a person were to meet the academic and experiential . requirements to sit for the BACB\\'s certification exam then such persons might be seen as having the appropriate background for supervising a program in Applied Behavior Analysis. In brief, a professional would need a Master\\'s or PhD in a human service discipline such as psychology, education, or special education and they should have a number of graduate courses specifically in behavior analysis. Another necessary qualification is substantial relevant supervised experience in working with persons with autism. Beyond that, a BCBA or BCABA must remain abreast of developments in the field by obtaining a minimum of 36 hours of continuing education across every 3 years.',\n",
       " 'Does ABA always work?',\n",
       " 'This is a difficult question to answer. Though ABA has been shown to be effective, many of the aspects of applying the principles of behavior analysis in the treatment of autism have not been investigated thoroughly. For example, how many hours per week are necessary to produce a change is not known. Additionally, some skills are very difficult to teach and the best instructional strategies are not known. It is, however, quite likely that the proficiency of the providers of service, both direct care therapists or teachers and their supervisors will play a significant role in the progress that any child makes.',\n",
       " 'Does the MMR vaccine cause autism?',\n",
       " \"Scientific evidence indicates that there is no correlation between autism and vaccines though millions of dollars, which might otherwise have gone to funding important research, have been spent investigating this notion. Andrew Wakefield and 12 colleagues published a study in The Lancet tentatively suggesting a link. However, it was discovered that Wakefield was paid over $100,000 by a group of lawyers and parents seeking to sue vaccine manufacturers for damages caused by the MMR injection prior to conducting his research. Additionally, participants were deliberately rather than randomly selected for the study. It is likely they were chosen to suggest a link because they had autism and gastrointestinal difficulties. This link has not been supported by subsequent scientific investigation. Madsen and colleagues (2002) conducted a large scale study in Denmark in which over half a million children born between 1991 and 1998 were studied. Nearly 100,000 were not vaccinated with the MMR vaccine. The prevalence of autism in this group was compared to that observed in the over 400,000 children who did receive the MMR vaccine. If the vaccine was related to autism a difference in prevalence would be apparent, however, prevalence was identical across the groups. This study provides overwhelming evidence against the hypothesis that MMR vaccination causes autism. The CDC, the American Academy of Pediatrics, the National Academy of Sciences Institute of Medicine, the World Health Organization, and the UK's Medical Research Council have all concluded that there is no evidence that the MMR is related to autism.\",\n",
       " 'Does mercury used in vaccines cause autism?',\n",
       " \"Thimerosal is a preservative that has been used in some vaccines since the 1930s (CDC, retrieved June 2005). Thimerosal consists of 49% ethylmercury and some have suggested, partly because of the known effects of methylmercury (an environmental contaminant often found in fish) as a toxic substance, that thimerosal delivered in vaccines causes autism to develop in some children. Much is known about the effects of the more dangerous methylmercury. Massive systemic damage can occur through excessive methylmercury exposure. The Food and Drug Administration (EPA, retrieved June 2005) has advised pregnant women, nursing mothers, and young children limit their intake of certain types of fish, like tuna, that tend to contain high levels of methylmercury in order to prevent excessive methylmercury consumption. Much less is known about ethylmercury, however, the CDC reports that the cumulative exposure to ethylmercury that occurred when thimerosal was used as a preservative in vaccines was less than the FDA and World Health Organization recommended maximum safe exposure to methylmercury. However, the EPA's more stringent guideline . for methylmercury exposure was exceeded. Therefore, given the heightened concern over mercury exposure, the suggested link between thimerosal and autism, and technology that exists for eliminating ethylmercury from vaccines, thimerosal has been removed from all vaccines in the U.S. with the exception of certain flu vaccines. Research into this putative link to autism was, and still is, clearly warranted.\",\n",
       " 'Is there evidence for thimerosal causing autism?',\n",
       " 'The most definitive study to date was conducted by Danish researchers (Hviid et al., 2003). It looked at thousands of children who received either vaccines containing thimerosal or vaccines without this preservative and found that the rates of autism were identical in the two groups. If thimerosal was causing autism, a difference should have been found. Thimerosal had been removed from the vaccines of other developed countries such as Canada and Denmark prior to it being removed from vaccines in the U.S., however, no decrease in the prevalence of autism has been detected in these countries (NYTimes, retrieved 06/25/05). In 2003 the American Academy of Pediatrics, an organization that called for the removal of thimerosal from vaccines in July 1999, summarizes the evidence of harm from it as follows, \"No scientific data link thimerosal used as a preservative in vaccines with any pediatric neurologic disorder, including autism. Despite this, the Centers for Disease Control and Prevention, American Academy of Pediatrics, National Institutes of Health, and US Public Health Service have continued to investigate this issue to put theoretic concerns about this mercury-containing compound to rest.\"',\n",
       " 'Why do concerns about mercury in vaccines persist?',\n",
       " 'Concerns about the thimerosal-autism link persist for a number of reasons. Methylmercury is unquestionably a toxic substance and there is warranted concern about exposure to many toxins present in the environment. Known links between toxin exposure and disease such as cancer should prompt close scrutiny by our government and the scientific community. On the other hand, reports in popular media also propagate the putative link and often present anecdotal information as just as valid as scientific evidence. Moreover, inaccuracies in reporting are often overlooked or viewed as insignificant. For example, Rolling Stone magazine recently published an article written by Robert F. Kennedy Jr. accusing the U.S. government of concealing evidence linking thimerosal-containing vaccines to autism. Particularly concerning is the lack of accuracy in his presented evidence. The following disclaimer was posted on June 20, 2005 on the Rolling Stone website acknowledging some of these inaccuracies: \"NOTE: This story has been updated to correct several inaccuracies in the original, published version. As originally reported, American preschoolers received only three vaccinations before 1989, but the article failed to note that they were innoculated a total of eleven times with those vaccines, including boosters. The article also misstated the level of ethylmercury received by infants injected with all their shots by the age of 6 months. It was 187 micrograms - an amount 40 percent, not 187 times, greater than the EPA\\'s limit for daily exposure to methylmercury. Finally, because of an editing error, the article misstated the contents of the rotavirus vaccine approved by the CDC. It did not contain thimerosal. Salon and Rolling Stone regret the errors. An earlier version of this story stated that the Institute of Medicine convened a second panel to review the work of the Immunization Safety Review Committee that had found no evidence of a link between thimerosal and autism. In fact, the IOM convened the second panel to address continuing concerns about the Vaccine Safety Datalink Data Sharing program, including those raised by critics of the IOM\\'s earlier work. But the panel was not charged with reviewing the committee\\'s findings. The story also inadvertently omitted a word and transposed two sentences in a quote by Dr. John Clements, and incorrectly stated that Dr. Sam Katz held a patent with Merck on the measles vaccine. In fact, Dr. Katz was part of a team that developed the vaccine and brought it to licensure, but he never held the patent. Salon and Rolling Stone regret the errors.\"',\n",
       " 'Will there be any resolution?',\n",
       " '. Because thimerosal was removed from vaccines several years ago and the prevalence of autism has continued to increase, then thimerosal in vaccines was not a cause of autism.',\n",
       " 'What’s overview of Autism Spectrum Disorder?',\n",
       " 'Autism spectrum disorder (ASD) is a developmental disorder that affects communication and behavior. Although autism can be diagnosed at any age, it is said to be a “developmental disorder” because symptoms generally appear in the first two years of life. According to the Diagnostic and Statistical Manual of Mental Disorders (DSM-5), a guide created by the American Psychiatric Association used to diagnose mental disorders, people with ASD have: [] Difficulty with communication and interaction with other people [] Restricted interests and repetitive behaviors [] Symptoms that hurt the person’s ability to function properly in school, work, and other areas of life Autism is known as a “spectrum” disorder because there is wide variation in the type and severity of symptoms people experience. ASD occurs in all ethnic, racial, and economic groups. Although ASD can be a lifelong disorder, treatments and services can improve a person’s symptoms and ability to function. The American Academy of Pediatrics recommends that all children be screened for autism. All caregivers should talk to their doctor about ASD screening or evaluation.',\n",
       " 'What are signs and symptoms of ASD?',\n",
       " 'People with ASD have difficulty with social communication and interaction, restricted interests, and repetitive behaviors. The list below gives some examples of the types of behaviors that are seen in people diagnosed with ASD. Not all people with ASD will show all behaviors, but most will show several. ',\n",
       " 'What are ASD social communication / interaction behaviors?',\n",
       " 'Making little or inconsistent eye contact [] Tending not to look at or listen to people [] Rarely sharing enjoyment of objects or activities by pointing or showing things to others [] Failing to, or being slow to, respond to someone calling their name or to other verbal attempts to gain attention [] Having difficulties with the back and forth of conversation [] Often talking at length about a favorite subject without noticing that others are not interested or without giving others a chance to respond [] Having facial expressions, movements, and gestures that do not match what is being said [] Having an unusual tone of voice that may sound sing-song or flat and robot-like [] Having trouble understanding another person’s point of view or being unable to predict or understand other people’s actions. ',\n",
       " 'What are ASD restrictive / repetitive behaviors?',\n",
       " 'Repeating certain behaviors or having unusual behaviors. For example, repeating words or phrases, a behavior called echolalia [] Having a lasting intense interest in certain topics, such as numbers, details, or facts [] Having overly focused interests, such as with moving objects or parts of objects [] Getting upset by slight changes in a routine [] Being more or less sensitive than other people to sensory input, such as light, noise, clothing, or temperature People with ASD may also experience sleep problems and irritability. Although people with ASD experience many challenges, they may also have many strengths, including: [] Being able to learn things in detail and remember information for long periods of time [] Being strong visual and auditory learners [] Excelling in math, science, music, or art. ',\n",
       " 'What are ASD Causes and Risk Factors?',\n",
       " 'While scientists don’t know the exact causes of ASD, research suggests that genes can act together with influences from the environment to affect development in ways that lead to ASD. Although scientists are still trying to understand why some people develop ASD and others don’t, some risk factors include: [] Having a sibling with ASD [] Having older parents [] Having certain genetic conditions—people with conditions such as Down syndrome, fragile X syndrome, and Rett syndrome are more likely than others to have ASD [] Very low birth weight. ',\n",
       " 'How to diagnose ASD?',\n",
       " 'Doctors diagnose ASD by looking at a person’s behavior and development. ASD can usually be reliably diagnosed by the age of two. It is important for those with concerns to seek out assessment as soon as possible so that a diagnosis can be made, and treatment can begin. ',\n",
       " 'What How are ASD diagnosis in Young Children?',\n",
       " 'Diagnosis in young children is often a two-stage process. Stage 1: General Developmental Screening During Well-Child Checkups Every child should receive well-child check-ups with a pediatrician or an early childhood health care provider. The American Academy of Pediatrics recommends that all children be screened for developmental delays at their 9-, 18-, and 24- or 30-month well-child visits and specifically for autism at their 18- and 24-month well-child visits. Additional screening might be needed if a child is at high risk for ASD or developmental problems. Those at high risk include children who have a family member with ASD, have some ASD behaviors, have older parents, have certain genetic conditions, or who were born at a very low birth weight. Parents’ experiences and concerns are very important in the screening process for young children. Sometimes the doctor will ask parents questions about the child’s behaviors and combine those answers with information from ASD screening tools, and with his or her observations of the child. Read more about screening instruments on the Centers for Disease Control and Prevention (CDC) website. Children who show developmental problems during this screening process will be referred for a second stage of evaluation. Stage 2: Additional Evaluation This second evaluation is with a team of doctors and other health professionals who are experienced in diagnosing ASD. This team may include: [] A developmental pediatrician—a doctor who has special training in child development [] A child psychologist and/or child psychiatrist—a doctor who has specialized training in brain development and behavior [] A neuropsychologist—a doctor who focuses on evaluating, diagnosing, and treating neurological, medical, and neurodevelopmental disorders [] A speech-language pathologist—a health professional who has special training in communication difficulties The evaluation may assess: [] Cognitive level or thinking skills [] Language abilities [] Age-appropriate skills needed to complete daily activities independently, such as eating, dressing, and toileting Because ASD is a complex disorder that sometimes occurs along with other illnesses or learning disorders, the comprehensive evaluation may include: [] Blood tests [] Hearing test The outcome of the evaluation will result in a formal diagnosis and recommendations for treatment. ',\n",
       " 'What How are ASD diagnosis in older children and adolescents?',\n",
       " 'ASD symptoms in older children and adolescents who attend school are often first recognized by parents and teachers and then evaluated by the school’s special education team. The school’s team may perform an initial evaluation and then recommend these children visit their primary health care doctor or doctors who specialize in ASD for additional testing. Parents may talk with these specialists about their child’s social difficulties including problems with subtle communication. These subtle communication issues may include problems understanding tone of voice, facial expressions, or body language. Older children and adolescents may have trouble understanding figures of speech, humor, or sarcasm. Parents may also find that their child has trouble forming friendships with peers. ',\n",
       " 'What How are ASD diagnosis in adults?',\n",
       " 'Diagnosing ASD in adults is often more difficult than diagnosing ASD in children. In adults, some ASD symptoms can overlap with symptoms of other mental-health disorders, such as anxiety or attention-deficit/hyperactivity disorder (ADHD). Adults who notice the signs and symptoms of ASD should talk with a doctor and ask for a referral for an ASD evaluation. While testing for ASD in adults is still being refined, adults can be referred to a neuropsychologist, psychologist, or psychiatrist who has experience with ASD. The expert will ask about concerns, such as: [] Social interaction and communication challenges [] Sensory issues [] Repetitive behaviors [] Restricted interests Information about the adult’s developmental history will help in making an accurate diagnosis, so an ASD evaluation may include talking with parents or other family members. Getting a correct diagnosis of ASD as an adult can help a person understand past difficulties, identify his or her strengths, and obtain the right kind of help. Studies are now underway to determine the types of services and supports that are most helpful for improving the functioning and community integration of transition-age youth and adults with ASD. Changes to the diagnosis of ASD In 2013, a revised version of the Diagnostic and Statistical Manual of Mental Disorders (DSM) was released. This revision changed the way autism is classified and diagnosed. Using the previous version of the DSM, people could be diagnosed with one of several separate conditions: [] Autistic disorder [] Asperger’s’ syndrome [] Pervasive developmental disorder not otherwise specified (PDD-NOS) In the current revised version of the DSM (the DSM-5), these separate conditions have been combined into one diagnosis called “autism spectrum disorder.” Using the DSM-5, for example, people who were previously diagnosed as having Asperger’s syndrome would now be diagnosed as having autism spectrum disorder. Although the “official” diagnosis of ASD has changed, there is nothing wrong with continuing to use terms such as Asperger’s syndrome to describe oneself or to identify with a peer group. Treatments and Therapies Treatment for ASD should begin as soon as possible after diagnosis. Early treatment for ASD is important as proper care can reduce individuals’ difficulties while helping them learn new skills and make the most of their strengths. The wide range of issues facing people with ASD means that there is no single best treatment for ASD. Working closely with a doctor or health care professional is an important part of finding the right treatment program. Medication A doctor may use medication to treat some symptoms that are common with ASD. With medication, a person with ASD may have fewer problems with: [] Irritability [] Aggression [] Repetitive behavior [] Hyperactivity [] Attention problems [] Anxiety and depression Read more about the latest news and information on medication warnings, patient medication guides, or newly approved medications at the Food and Drug Administration’s (FDA) website at https://www.fda.gov/. Behavioral, psychological, and educational therapy People with ASD may be referred to doctors who specialize in providing behavioral, psychological, educational, or skill-building interventions. These programs are typically highly structured and intensive and may involve parents, siblings, and other family members. Programs may help people with ASD: [] Learn life-skills necessary to live independently [] Reduce challenging behaviors [] Increase or build upon strengths [] Learn social, communication, and language skills',\n",
       " 'What is autism spectrum disorder?',\n",
       " 'Autism spectrum disorder (ASD) refers to a group of complex neurodevelopment disorders characterized by repetitive and characteristic patterns of behavior and difficulties with social communication and interaction. The symptoms are present from early childhood and affect daily functioning. The term “spectrum” refers to the wide range of symptoms, skills, and levels of disability in functioning that can occur in people with ASD. Some children and adults with ASD are fully able to perform all activities of daily living while others require substantial support to perform basic activities. The Diagnostic and Statistical Manual of Mental Disorders (DSM-5, published in 2013) includes Asperger syndrome, childhood disintegrative disorder, and pervasive developmental disorders not otherwise specified (PDD-NOS) as part of ASD rather than as separate disorders. A diagnosis of ASD includes an assessment of intellectual disability and language impairment. ASD occurs in every racial and ethnic group, and across all socioeconomic levels. However, boys are significantly more likely to develop ASD than girls. The latest analysis from the Centers for Disease Control and Prevention estimates that 1 in 68 children has ASD.',\n",
       " 'What are some common signs of ASD?',\n",
       " 'Even as infants, children with ASD may seem different, especially when compared to other children their own age. They may become overly focused on certain objects, rarely make eye contact, and fail to engage in typical babbling with their parents. In other cases, children may develop normally until the second or even third year of life, but then start to withdraw and become indifferent to social engagement. The severity of ASD can vary greatly and is based on the degree to which social communication, insistence of sameness of activities and surroundings, and repetitive patterns of behavior affect the daily functioning of the individual. Social impairment and communication difficulties Many people with ASD find social interactions difficult. The mutual give-and-take nature of typical communication and interaction is often particularly challenging. Children with ASD may fail to respond to their names, avoid eye contact with other people, and only interact with others to achieve specific goals. Often children with ASD do not understand how to play or engage with other children and may prefer to be alone. People with ASD may find it difficult to understand other people’s feelings or talk about their own feelings. People with ASD may have very different verbal abilities ranging from no speech at all to speech that is fluent, but awkward and inappropriate. Some children with ASD may have delayed speech and language skills, may repeat phrases, and give unrelated answers to questions. In addition, people with ASD can have a hard time using and understanding non-verbal cues such as gestures, body language, or tone of voice. For example, young children with ASD might not understand what it means to wave goodbye. People with ASD may also speak in flat, robot-like or a sing-song voice about a narrow range of favorite topics, with little regard for the interests of the person to whom they are speaking. Repetitive and characteristic behaviors Many children with ASD engage in repetitive movements or unusual behaviors such as flapping their arms, rocking from side to side, or twirling. They may become preoccupied with parts of objects like the wheels on a toy truck. Children may also become obsessively interested in a particular topic such as airplanes or memorizing train schedules. Many people with ASD seem to thrive so much on routine that changes to the daily patterns of life — like an unexpected stop on the way home from school — can be very challenging. Some children may even get angry or have emotional outbursts, especially when placed in a new or overly stimulating environment.',\n",
       " 'What disorders are related to ASD?',\n",
       " 'Certain known genetic disorders are associated with an increased risk for autism, including Fragile X syndrome (which causes intellectual disability) and tuberous sclerosis (which causes benign tumors to grow in the brain and other vital organs) — each of which results from a mutation in a single, but different, gene. Recently, researchers have discovered other genetic mutations in children diagnosed with autism, including some that have not yet been designated as named syndromes. While each of these disorders is rare, in aggregate, they may account for 20 percent or more of all autism cases. People with ASD also have a higher than average risk of having epilepsy. Children whose language skills regress early in life — before age 3 — appear to have a risk of developing epilepsy or seizure-like brain activity. About 20 to 30 percent of children with ASD develop epilepsy by the time they reach adulthood. Additionally, people with both ASD and intellectual disability have the greatest risk of developing seizure disorder.',\n",
       " 'How is ASD diagnosed?',\n",
       " 'ASD symptoms can vary greatly from person to person depending on the severity of the disorder. Symptoms may even go unrecognized for young children who have mild ASD or less debilitating handicaps. Autism spectrum disorder is diagnosed by clinicians based on symptoms, signs, and testing according to the Diagnostic and Statistical Manual of Mental Disorders-V, a guide created by the American Psychiatric Association used to diagnose mental disorders. Children should be screened for developmental delays during periodic checkups and specifically for autism at 18- and 24-month well-child visits. Very early indicators that require evaluation by an expert include: no babbling or pointing by age 1 no single words by age 16 months or two-word phrases by age 2 no response to name loss of language or social skills previously acquired poor eye contact excessive lining up of toys or objects no smiling or social responsiveness Later indicators include: impaired ability to make friends with peers impaired ability to initiate or sustain a conversation with others absence or impairment of imaginative and social play repetitive or unusual use of language abnormally intense or focused interest preoccupation with certain objects or subjects inflexible adherence to specific routines or rituals If screening instruments indicate the possibility of ASD, a more comprehensive evaluation is usually indicated. A comprehensive evaluation requires a multidisciplinary team, including a psychologist, neurologist, psychiatrist, speech therapist, and other professionals who diagnose and treat children with ASD. The team members will conduct a thorough neurological assessment and in-depth cognitive and language testing. Because hearing problems can cause behaviors that could be mistaken for ASD, children with delayed speech development should also have their hearing tested.',\n",
       " 'What causes ASD?',\n",
       " 'Scientists believe that both genetics and environment likely play a role in ASD. There is great concern that rates of autism have been increasing in recent decades without full explanation as to why. Researchers have identified a number of genes associated with the disorder. Imaging studies of people with ASD have found differences in the development of several regions of the brain. Studies suggest that ASD could be a result of disruptions in normal brain growth very early in development. These disruptions may be the result of defects in genes that control brain development and regulate how brain cells communicate with each other. Autism is more common in children born prematurely. Environmental factors may also play a role in gene function and development, but no specific environmental causes have yet been identified. The theory that parental practices are responsible for ASD has long been disproved. Multiple studies have shown that vaccination to prevent childhood infectious diseases does not increase the risk of autism in the population.',\n",
       " 'What role do genes play?',\n",
       " 'Twin and family studies strongly suggest that some people have a genetic predisposition to autism. Identical twin studies show that if one twin is affected, then the other will be affected between 36 to 95 percent of the time. There are a number of studies in progress to determine the specific genetic factors associated with the development of ASD. In families with one child with ASD, the risk of having a second child with the disorder also increases. Many of the genes found to be associated with autism are involved in the function of the chemical connections between brain neurons (synapses). Researchers are looking for clues about which genes contribute to increased susceptibility. In some cases, parents and other relatives of a child with ASD show mild impairments in social communication skills or engage in repetitive behaviors. Evidence also suggests that emotional disorders such as bipolar disorder and schizophrenia occur more frequently than average in the families of people with ASD. In addition to genetic variations that are inherited and are present in nearly all of a person’s cells, recent research has also shown that de novo, or spontaneous, gene mutations can influence the risk of developing autism spectrum disorder. De novo mutations are changes in sequences of deoxyribonucleic acid or DNA, the hereditary material in humans, which can occur spontaneously in a parent’s sperm or egg cell or during fertilization. The mutation then occurs in each cell as the fertilized egg divides. These mutations may affect single genes or they may be changes called copy number variations, in which stretches of DNA containing multiple genes are deleted or duplicated. Recent studies have shown that people with ASD tend to have more copy number de novo gene mutations than those without the disorder, suggesting that for some the risk of developing ASD is not the result of mutations in individual genes but rather spontaneous coding mutations across many genes. De novo mutations may explain genetic disorders in which an affected child has the mutation in each cell but the parents do not and there is no family pattern to the disorder. Autism risk also increases in children born to older parents. There is still much research to be done to determine the potential role of environmental factors on spontaneous mutations and how that influences ASD risk.',\n",
       " 'Do symptoms of autism change over time?',\n",
       " 'For many children, symptoms improve with age and behavioral treatment. During adolescence, some children with ASD may become depressed or experience behavioral problems, and their treatment may need some modification as they transition to adulthood. People with ASD usually continue to need services and supports as they get older, but depending on severity of the disorder, people with ASD may be able to work successfully and live independently or within a supportive environment.',\n",
       " 'How is autism treated?',\n",
       " 'There is no cure for ASD. Therapies and behavioral interventions are designed to remedy specific symptoms and can substantially improve those symptoms. The ideal treatment plan coordinates therapies and interventions that meet the specific needs of the individual. Most health care professionals agree that the earlier the intervention, the better. Educational/behavioral interventions: Early behavioral/educational interventions have been very successful in many children with ASD. In these interventions therapists use highly structured and intensive skill-oriented training sessions to help children develop social and language skills, such as applied behavioral analysis, which encourages positive behaviors and discourages negative ones. In addition, family counseling for the parents and siblings of children with ASD often helps families cope with the particular challenges of living with a child with ASD. Medications: While medication can’t cure ASD or even treat its main symptoms, there are some that can help with related symptoms such as anxiety, depression, and obsessive-compulsive disorder. Antipsychotic medications are used to treat severe behavioral problems. Seizures can be treated with one or more anticonvulsant drugs. Medication used to treat people with attention deficit disorder can be used effectively to help decrease impulsivity and hyperactivity in people with ASD. Parents, caregivers, and people with autism should use caution before adopting any unproven treatments.',\n",
       " 'What research is being done?',\n",
       " 'The mission of the National Institute of Neurological Disorders and Stroke (NINDS) is to seek fundamental knowledge about the brain and nervous system and to use that knowledge to reduce the burden of neurological disease. The NINDS is a component of the National Institutes of Health (NIH), the leading supporter of biomedical research in the world. NINDS and several other NIH Institutes and Centers support research on autism spectrum disorder. Nearly 20 years ago the NIH formed the Autism Coordinating Committee (NIH/ACC) to enhance the quality, pace, and coordination of efforts at the NIH to find a cure for autism. The NIH/ACC has been instrumental in promoting research to understand and advance ASD. The NIH/ACC also participates in the broader Federal Interagency Autism Coordinating Committee (IACC), composed of representatives from various U.S. Department of Health and Human Services agencies, the Department of Education, and other governmental organizations, as well as public members, including individuals with ASD and representatives of patient advocacy organizations. One responsibility of the IACC is to develop a strategic plan for ASD research, which guides research programs supported by NIH and other participating organizations. NINDS and several other NIH institutes support autism research through the Autism Centers of Excellence (ACE), a trans-NIH initiative that supports large-scale multidisciplinary studies on ASD, with the goal of determining the causes of autism and finding new treatments. NINDS currently supports an ACE network focused on ASD and tuberous sclerosis complex (TSC). ASD occurs in approximately half of TSC patients. In particular, the ACE investigators are studying whether certain brain imaging and activity measures in infants diagnosed with TSC can predict the development of ASD. Such biomarkers could aid in understanding how and why ASD occurs in some children but not others, and help to identify patients who might benefit from early intervention. Other ACE centers and networks are investigating early brain development and functioning; genetic and non-genetic risk factors, including neurological, physical, behavioral, and environmental factors present in the prenatal period and early infancy; and potential therapies. NINDS funds additional research aimed at better understanding the factors that lead to ASD, including other studies on genetic disorders associated with ASD, such as TSC, Fragile X Syndrome, Phelan-McDermid syndrome (which features such autism-like symptoms as intellectual disability, developmental delays, and problems with developing functional language), and Rett syndrome (a disorder that almost exclusively affects girls and is characterized by slowing development, intellectual disability, and loss of functional use of the hands). Many of these studies use animal models to determine how specific known mutations affect cellular and developmental processes in the brain, yielding insights relevant to understanding ASD due to other causes and discovering new targets for treatments. NINDS researchers are studying aspects of brain function and development that are altered in people with ASD. For example, NINDS-funded researchers are investigating the formation and function of neuronal synapses, the sites of communication between neurons, which may not properly operate in ASD and neurodevelopmental disorders. Other studies use brain imaging in people with and without ASD to identify differences in brain connectivity and activity patterns associated with features of ASD. Researchers hope that understanding these alterations can help identify new opportunities for therapeutic interventions. Additional NINDS researchers are studying the relationship between epilepsy and autism. Through the National Center for Advancing Translational Sciences (NCATS) Rare Disease Clinical Research Network (RDCRN), NINDS and other NIH Institutes and Centers support a research consortium focused on three rare genetic syndromes associated with ASD and intellectual disability, including TSC and syndromes involving mutations in the genesSHANK3 (Phelan-McDermid syndrome) and PTEN. The goals of the consortium are to understand shared mechanisms across these syndromes, which may suggest common approaches to their treatment. NINDS supports autism spectrum disorder research through clinical trials at medical centers across the United States to better our knowledge about ASD treatment and care. Information about participating in clinical studies can be found at the “NIH Clinical Trials and You” website at www.nih.gov/health/clinicaltrials. Additional studies can be found at www.clinicaltrials.gov. People should talk to their doctor before enrolling in a clinical trial. More information about research on ASD supported by NINDS and other NIH Institutes and Centers can be found using NIH RePORTER (projectreporter.nih.gov), a searchable database of current and past research projects supported by NIH and other federal agencies. RePORTER also includes links to publications and resources from these projects.',\n",
       " 'Where can I get more information?',\n",
       " 'For more information on neurological disorders or research programs funded by the National Institute of Neurological Disorders and Stroke, contact the Institute\\'s Brain Resources and Information Network (BRAIN) at: BRAIN P.O. Box 5801 Bethesda, MD 20824 800-352-9424 Information also is available from the following organizations: Centers for Disease Control and Prevention (CDC) U.S. Department of Health and Human Services 1600 Clifton Road Atlanta, GA 30333 inquiry@cdc.gov Tel: 800-311-3435; 404-639-3311; 404-639-3543 National Institute of Child Health and Human Development (NICHD) National Institutes of Health, DHHS 31 Center Drive, Rm. 2A32 MSC 2425 Bethesda, MD 20892-2425 Tel: 301-496-5133 Fax: 301-496-7101 National Institute on Deafness and Other Communication Disorders (NIDCD) National Institutes of Health, DHHS 31 Center Drive, MSC 2320 Bethesda, MD 20892-2320 nidcdinfo@nidcd.nih.gov Tel: 301-496-7243; 800-241-1044; 800-241-1055 (TTY) National Institute of Environmental Health Sciences (NIEHS) National Institutes of Health, DHHS 111 T.W. Alexander Drive Research Triangle Park, NC 27709 webcenter@niehs.nih.gov Tel: 919-541-3345 National Institute of Mental Health (NIMH) National Institutes of Health, DHHS 6001 Executive Blvd. Rm. 8184, MSC 9663 Bethesda, MD 20892-9663 nimhinfo@nih.gov Tel: 301-443-4513; 866-415-8051; 301-443-8431 (TTY) Fax: 301-443-4279 Association for Science in Autism Treatment P.O. Box 1447 Hoboken, NJ 07030 info@asatonline.org Autism National Committee (AUTCOM) P.O. Box 429 Forest Knolls, CA 94933 Autism Network International (ANI) P.O. Box 35448 Syracuse, NY 13235-5448 jisincla@syr.edu Autism Research Institute (ARI) 4182 Adams Avenue San Diego, CA 92116 Tel: 619-281-7165; 866-366-3361 Fax: 619-563-6840 Autism Science Foundation 28 West 39th Street Suite 502 New York, NY 10018 contactus@autismsciencefoundation.org Tel: 212-391-3913 Fax: 212-228-3557 Autism Society of America 4340 East-West Highway Suite 350 Bethesda, MD 20814 Tel: 301-657-0881; 800-3AUTISM (328-8476) Fax: 301-657-0869 Autism Speaks, Inc. 1 East 33rd Street 4th Floor New York, NY 10016 contactus@autismspeaks.org Tel: 212-252-8584; 888-288-4762 Fax: 212-252-8676 MAAP Services for Autism, Asperger Syndrome, and PDD P.O. Box 524 Crown Point, IN 46308 info@aspergersyndrome.org Tel: 219-662-1311 Fax: 219-662-1315 \"Autism Spectrum Disorder Fact Sheet\", NINDS, Publication date September 2015. NIH Publication No. 15-1877 Back to Autism Spectrum Disorder Information Page See a list of all NINDS disorders Publicaciones en Español Autismo top Prepared by: Office of Communications and Public Liaison National Institute of Neurological Disorders and Stroke National Institutes of Health Bethesda, MD 20892 NINDS health-related material is provided for information purposes only and does not necessarily represent endorsement by or an official position of the National Institute of Neurological Disorders and Stroke or any other Federal agency. Advice on the treatment or care of an individual patient should be obtained through consultation with a physician who has examined that patient or is familiar with that patient\\'s medical history. All NINDS-prepared information is in the public domain and may be freely copied. Credit to the NINDS or the NIH is appreciated.',\n",
       " 'What Causes Autism?',\n",
       " 'While the exact cause of autism is unknown, physicians do know that there is a genetic link in some cases. Most likely, something occurs in the child’s brain development before he or she is born that results in the condition. Some argue that immunizations, diet, allergies or hormones could contribute to a child developing autism, but this is not true. All children should be immunized to protect them from preventable and potentially deadly illnesses.',\n",
       " 'How Do I Know if My Child Has Autism?',\n",
       " 'There are no clear-cut criteria for autism, so it is can be a challenge to make a formal diagnosis because every case is different. However, there are some key signs to look out for, including: Age 6 months: If your child does not smile back at you or sustain eye contact for more than a few moments. The child may not turn to you when you call his or her name. 12 months: If your child does not imitate faces and clapping, or gestures such as waving. He or she will not follow a pointing command from a parent, and will not use pointing to signal things he or she wants. In general, communication and social interaction delays, and repetitive interests and behavior, can all signal possible autism. The Centers for Disease Control and Prevention’s “Act Early” Web site gives detailed information on child development by age.',\n",
       " 'What are autism spectrum disorders?',\n",
       " 'Autism spectrum disorders (ASD) are a group of complex brain development disorders. This umbrella term covers conditions such as autism and Asperger syndrome. These disorders are characterized by difficulties in social interaction and communication and a restricted and repetitive repertoire of interests and activities.',\n",
       " 'How common are autism spectrum disorders?',\n",
       " 'Reviews estimate that 1 child in 160 has an autism spectrum disorder. This estimate represents an average figure, and reported prevalence varies substantially across studies. Some recent studies have, however, reported rates that are substantially higher.',\n",
       " 'Do people with an autism spectrum disorder always suffer from intellectual disability?',\n",
       " 'The level of intellectual functioning is extremely variable in persons with an autism spectrum disorder, ranging from profound impairment to superior non-verbal cognitive skills. It is estimated that around 50% of persons with ASD also suffer from an intellectual disability.',\n",
       " 'How early can an autism spectrum disorder be recognized in children?',\n",
       " 'Identifying an autism spectrum disorder is difficult before the age of about 12 months but diagnosis is generally possible by the age of 2 years. Characteristic features of the onset include delay in the development or temporary regression in language and social skills and repetitive stereotyped patterns of behaviour.',\n",
       " 'What can parents do to help their child with an autism spectrum disorder?',\n",
       " 'Parents have an essential role in providing support to a child with an autism spectrum disorder. They can help to ensure access to health services and education, and offer nurturing and stimulating environments as their child grows up. Recently, it has been shown that parents can also help deliver psychosocial and behavioural treatments to their own children.',\n",
       " 'What causes autism spectrum disorders?',\n",
       " 'Scientific evidence suggests that various factors, both genetic and environmental, contribute to the onset of autism spectrum disorders by influencing early brain development.',\n",
       " 'Are childhood vaccines responsible for autism spectrum disorders?',\n",
       " 'Available epidemiological data show that there is no evidence of a link between measles-mumps-rubella (MMR) vaccine and autism spectrum disorders. Previous studies suggesting a causal link were found to be seriously flawed. There is also no evidence to suggest that any other childhood vaccine may increase the risk of autism spectrum disorders. In addition, evidence reviews commissioned by WHO concluded that there was no association between the use of vaccine preservatives such as thiomersal and autism spectrum disorders.']"
      ]
     },
     "execution_count": 20,
     "metadata": {},
     "output_type": "execute_result"
    }
   ],
   "source": [
    "train_list"
   ]
  },
  {
   "cell_type": "markdown",
   "metadata": {},
   "source": [
    "### Training/Learning:"
   ]
  },
  {
   "cell_type": "code",
   "execution_count": 21,
   "metadata": {},
   "outputs": [
    {
     "name": "stdout",
     "output_type": "stream",
     "text": [
      "List Trainer: [####################] 100%\n"
     ]
    }
   ],
   "source": [
    "trainer.train(train_list)"
   ]
  },
  {
   "cell_type": "markdown",
   "metadata": {},
   "source": [
    "### Now user can interact with our trained/learnt ASD FAQ Bot"
   ]
  },
  {
   "cell_type": "code",
   "execution_count": 22,
   "metadata": {
    "scrolled": true
   },
   "outputs": [
    {
     "name": "stdout",
     "output_type": "stream",
     "text": [
      "Autism spectrum disorders (ASDs) represent a range of brain disorders that are characterized by restricted patterns of behavior and impairments in social communication and interactions. These disorders share common origins and features, but are classified as spectrum disorders because symptoms and severity vary among individuals.\n"
     ]
    }
   ],
   "source": [
    "response = chatbot.get_response(\"What is autism spectrum disorder?\")\n",
    "print(response)"
   ]
  },
  {
   "cell_type": "code",
   "execution_count": 23,
   "metadata": {
    "scrolled": true
   },
   "outputs": [
    {
     "name": "stdout",
     "output_type": "stream",
     "text": [
      "The Center for Disease Control and Prevention’s (CDC) Autism and Developmental Disabilities Monitoring (ADDM) Network released data in 2007 that found about 1 in 150 8-year-old children in the areas of the United States they monitor had an ASD1 For more on the numbers: Prevalence of ASDs, from the CDC. Autism occurs throughout the world in families of all racial, ethnic and social backgrounds. Boys are four times more likely to have autism than girls2. The MIND Institute in California found that the number of cases of autism is on the rise. This is probably a national trend.\n"
     ]
    }
   ],
   "source": [
    "response = chatbot.get_response(\"How common is autism spectrum disorder?\")\n",
    "print(response)"
   ]
  },
  {
   "cell_type": "markdown",
   "metadata": {},
   "source": [
    "# 6 Workshop"
   ]
  },
  {
   "cell_type": "markdown",
   "metadata": {},
   "source": [
    "# 6.1. Supervised learning chatterbot"
   ]
  },
  {
   "cell_type": "code",
   "execution_count": null,
   "metadata": {
    "scrolled": true
   },
   "outputs": [
    {
     "name": "stdout",
     "output_type": "stream",
     "text": [
      "Training ai.yml: [####################] 100%\n",
      "Training botprofile.yml: [####################] 100%\n",
      "Training computers.yml: [####################] 100%\n",
      "Training conversations.yml: [####################] 100%\n",
      "Training emotion.yml: [####################] 100%\n",
      "Training food.yml: [####################] 100%\n",
      "Training gossip.yml: [####################] 100%\n",
      "Training greetings.yml: [####################] 100%\n",
      "Training health.yml: [####################] 100%\n",
      "Training history.yml: [####################] 100%\n",
      "Training humor.yml: [####################] 100%\n",
      "Training literature.yml: [####################] 100%\n",
      "Training money.yml: [####################] 100%\n",
      "Training movies.yml: [####################] 100%\n",
      "Training politics.yml: [####################] 100%\n",
      "Training psychology.yml: [####################] 100%\n",
      "Training science.yml: [####################] 100%\n",
      "Training sports.yml: [####################] 100%\n",
      "Training trivia.yml: [####################] 100%\n",
      "What is autism?\n",
      "Bot: Autism spectrum disorder is an umbrella term used for various brain development disorders. They are characterized and thus categorized by difficulties in social interaction, verbal and nonverbal communication, and repetitive behaviors. Autistic disorder, Rett Syndrome, childhood disintegrative disorder, PDD-NOS (pervasive developmental disorder-not otherwise specified) and Asperger Syndrome can be listed under this umbrella. There are many characteristics that define autism spectrum disorder (ASD) as mental inabilities, struggles with motor functions and other mental and health issues that come along. Besides these, some individuals with autism may show extraordinary skills in math, art, music. Autism is thought to take its roots from early brain development stages. Its symptoms generally occur between the age of 12 and 18 months. Some children may develop normally and don’t show the signs until they reach the age 2. They start to develop autism by losing skills, which is called “regression”. Early intervention and various therapy methods are important for a comfortable life.\n",
      "Is my answer correct or not? (Reply Yes or No)\n",
      "Yes\n",
      "List Trainer: [####################] 100%\n",
      "Where is Singapore?\n",
      "Bot: Singapore in located in Asia\n",
      "Is my answer correct or not? (Reply Yes or No)\n",
      "Yes\n",
      "List Trainer: [####################] 100%\n",
      "Where is Malaysia?\n",
      "Bot: Good.\n",
      "Is my answer correct or not? (Reply Yes or No)\n",
      "No\n",
      "Can you tell me what I should had said?\n",
      "Malaysia is located north of Singapore\n",
      "List Trainer: [####################] 100%\n",
      "Where is Malaysia?\n",
      "Bot: Malaysia is located north of Singapore\n",
      "Is my answer correct or not? (Reply Yes or No)\n",
      "Yes\n",
      "List Trainer: [####################] 100%\n"
     ]
    }
   ],
   "source": [
    "# Build a supervised learning chatterbot\n",
    "# Requirement: Every time the FAQ bot responses, the user need to provide feedback on \n",
    "# whether the answer is good or not.\n",
    "#     If good, FAQ bot learns (stores) the response.\n",
    "#     If not good, user inputs a new answer for the learning bot to learn.\n",
    "\n",
    "learning_bot = ChatBot('Supervised Learning Bot')\n",
    "trainer = ChatterBotCorpusTrainer(learning_bot)\n",
    "trainer.train(\"chatterbot.corpus.english\")\n",
    "supervised_trainer = ListTrainer(learning_bot)\n",
    "# =========code start==========\n",
    "while(True):\n",
    "    question = input()\n",
    "    response = learning_bot.get_response(question)\n",
    "    print(\"Bot: \" + str(response))\n",
    "    print(\"Is my answer correct or not? (Reply Yes or No)\")\n",
    "    correct = input()\n",
    "    if(correct.lower() == \"yes\"):\n",
    "        train_list = [question, str(response)]\n",
    "        supervised_trainer.train(train_list)\n",
    "    else:\n",
    "        print(\"Can you tell me what I should had said?\")\n",
    "        correction = input()\n",
    "        supervised_trainer.train([question, correction])\n",
    "# =========code end============\n"
   ]
  },
  {
   "cell_type": "markdown",
   "metadata": {},
   "source": [
    "---\n",
    "`The end is called the new start.` --- ISS : **I** **S**(elf) **S**(tudy)"
   ]
  },
  {
   "cell_type": "code",
   "execution_count": null,
   "metadata": {},
   "outputs": [],
   "source": []
  }
 ],
 "metadata": {
  "kernelspec": {
   "display_name": "Python3 (iss-is-py35)",
   "language": "python",
   "name": "iss-is-py35"
  },
  "language_info": {
   "codemirror_mode": {
    "name": "ipython",
    "version": 3
   },
   "file_extension": ".py",
   "mimetype": "text/x-python",
   "name": "python",
   "nbconvert_exporter": "python",
   "pygments_lexer": "ipython3",
   "version": "3.5.5"
  }
 },
 "nbformat": 4,
 "nbformat_minor": 4
}
