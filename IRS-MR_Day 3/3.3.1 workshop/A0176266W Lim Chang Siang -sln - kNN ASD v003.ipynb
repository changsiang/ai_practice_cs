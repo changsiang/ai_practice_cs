{
 "cells": [
  {
   "cell_type": "markdown",
   "metadata": {},
   "source": [
    "# [Workshop] Analogical Reasoning using kNN"
   ]
  },
  {
   "cell_type": "markdown",
   "metadata": {},
   "source": [
    "# 0. Installation"
   ]
  },
  {
   "cell_type": "code",
   "execution_count": 1,
   "metadata": {},
   "outputs": [],
   "source": [
    "# !pip install scikit-learn==0.23.1"
   ]
  },
  {
   "cell_type": "markdown",
   "metadata": {},
   "source": [
    "# 1. Import Library"
   ]
  },
  {
   "cell_type": "code",
   "execution_count": 2,
   "metadata": {},
   "outputs": [],
   "source": [
    "from sklearn.model_selection import train_test_split\n",
    "from sklearn.neighbors import KNeighborsClassifier\n",
    "from sklearn.neighbors import KNeighborsClassifier\n",
    "from sklearn import preprocessing # processing.scale // for scaling continuous variable\n",
    "import matplotlib.pyplot as plt\n",
    "import numpy as np\n",
    "import pandas as pd"
   ]
  },
  {
   "cell_type": "markdown",
   "metadata": {},
   "source": [
    "# 2. Check Data"
   ]
  },
  {
   "cell_type": "code",
   "execution_count": 3,
   "metadata": {
    "scrolled": true
   },
   "outputs": [
    {
     "name": "stdout",
     "output_type": "stream",
     "text": [
      "   Case_No  A1  A2  A3  A4  A5  A6  A7  A8  A9  A10  Age_Mons  Qchat-10-Score  \\\n",
      "0        1   0   0   0   0   0   0   1   1   0    1        28               3   \n",
      "1        2   1   1   0   0   0   1   1   0   0    0        36               4   \n",
      "2        3   1   0   0   0   0   0   1   1   0    1        36               4   \n",
      "3        4   1   1   1   1   1   1   1   1   1    1        24              10   \n",
      "4        5   1   1   0   1   1   1   1   1   1    1        20               9   \n",
      "\n",
      "  Sex       Ethnicity Jaundice Family_mem_with_ASD Who completed the test  \\\n",
      "0   f  middle eastern      yes                  no          family member   \n",
      "1   m  White European      yes                  no          family member   \n",
      "2   m  middle eastern      yes                  no          family member   \n",
      "3   m        Hispanic       no                  no          family member   \n",
      "4   f  White European       no                 yes          family member   \n",
      "\n",
      "  Class/ASD Traits   \n",
      "0                No  \n",
      "1               Yes  \n",
      "2               Yes  \n",
      "3               Yes  \n",
      "4               Yes  \n"
     ]
    }
   ],
   "source": [
    "# Loading the dataset\n",
    "# ASD_data = pd.read_csv('./data.csv')\n",
    "ASD_data = pd.read_csv('./Toddler Autism dataset.csv')\n",
    "\n",
    "# Print the first 5 rows of the dataframe.\n",
    "print(ASD_data.head())"
   ]
  },
  {
   "cell_type": "code",
   "execution_count": 4,
   "metadata": {},
   "outputs": [
    {
     "name": "stdout",
     "output_type": "stream",
     "text": [
      "   Case_No  A1  A2  A3  A4  A5  A6  A7  A8  A9  A10  Age_Mons  Qchat_10_Score  \\\n",
      "0        1   0   0   0   0   0   0   1   1   0    1        28               3   \n",
      "1        2   1   1   0   0   0   1   1   0   0    0        36               4   \n",
      "2        3   1   0   0   0   0   0   1   1   0    1        36               4   \n",
      "3        4   1   1   1   1   1   1   1   1   1    1        24              10   \n",
      "4        5   1   1   0   1   1   1   1   1   1    1        20               9   \n",
      "\n",
      "  Sex       Ethnicity Jaundice Family_mem_with_ASD Who_completed_the_test  \\\n",
      "0   f  middle eastern      yes                  no          family member   \n",
      "1   m  White European      yes                  no          family member   \n",
      "2   m  middle eastern      yes                  no          family member   \n",
      "3   m        Hispanic       no                  no          family member   \n",
      "4   f  White European       no                 yes          family member   \n",
      "\n",
      "  Class_ASD_Traits_  \n",
      "0                No  \n",
      "1               Yes  \n",
      "2               Yes  \n",
      "3               Yes  \n",
      "4               Yes  \n"
     ]
    }
   ],
   "source": [
    "# Replace special \n",
    "ASD_data.columns=ASD_data.columns.str.replace('-','_')\n",
    "ASD_data.columns=ASD_data.columns.str.replace('/','_')\n",
    "ASD_data.columns=ASD_data.columns.str.replace(' ','_')\n",
    "print(ASD_data.head())"
   ]
  },
  {
   "cell_type": "code",
   "execution_count": 5,
   "metadata": {},
   "outputs": [
    {
     "name": "stdout",
     "output_type": "stream",
     "text": [
      "(1054, 19)\n"
     ]
    }
   ],
   "source": [
    "# observing the shape of the data\n",
    "print(ASD_data.shape)"
   ]
  },
  {
   "cell_type": "markdown",
   "metadata": {},
   "source": [
    "# 3. Data Preprocessing"
   ]
  },
  {
   "cell_type": "markdown",
   "metadata": {},
   "source": [
    "## 3.1. Choose appropriate features "
   ]
  },
  {
   "cell_type": "code",
   "execution_count": 6,
   "metadata": {},
   "outputs": [],
   "source": [
    "Sex = pd.Categorical(pd.Categorical(ASD_data['Sex']).codes)\n",
    "Ethnicity = pd.Categorical(pd.Categorical(ASD_data['Ethnicity']).codes)\n",
    "Jaundice = pd.Categorical(pd.Categorical(ASD_data['Jaundice']).codes)\n",
    "Family_mem_with_ASD = pd.Categorical(pd.Categorical(ASD_data['Family_mem_with_ASD']).codes)\n",
    "Class_ASD_Traits_ = pd.Categorical(pd.Categorical(ASD_data['Class_ASD_Traits_']).codes)\n",
    "\n",
    "ASD_data['Sex'] = Sex\n",
    "ASD_data['Ethnicity'] = Ethnicity\n",
    "ASD_data['Jaundice'] = Jaundice\n",
    "ASD_data['Family_mem_with_ASD'] = Family_mem_with_ASD\n",
    "ASD_data['Class_ASD_Traits_'] = Class_ASD_Traits_\n",
    "# ASD_data['Age_Mons'] = (ASD_data['Age_Mons'] - min(ASD_data['Age_Mons'])) / (max(ASD_data['Age_Mons']) - min(ASD_data['Age_Mons']))\n",
    "\n",
    "# Check the data and think why we drop these variables?\n",
    "X = ASD_data.drop(['Case_No', 'Who_completed_the_test', 'Qchat_10_Score', 'Class_ASD_Traits_'], axis=1)\n"
   ]
  },
  {
   "cell_type": "code",
   "execution_count": 7,
   "metadata": {},
   "outputs": [
    {
     "data": {
      "text/plain": [
       "0       0\n",
       "1       1\n",
       "2       1\n",
       "3       1\n",
       "4       0\n",
       "       ..\n",
       "1049    0\n",
       "1050    1\n",
       "1051    1\n",
       "1052    1\n",
       "1053    1\n",
       "Name: Sex, Length: 1054, dtype: category\n",
       "Categories (2, int64): [0, 1]"
      ]
     },
     "execution_count": 7,
     "metadata": {},
     "output_type": "execute_result"
    }
   ],
   "source": [
    "ASD_data['Sex']"
   ]
  },
  {
   "cell_type": "code",
   "execution_count": 8,
   "metadata": {},
   "outputs": [
    {
     "data": {
      "text/html": [
       "<div>\n",
       "<style scoped>\n",
       "    .dataframe tbody tr th:only-of-type {\n",
       "        vertical-align: middle;\n",
       "    }\n",
       "\n",
       "    .dataframe tbody tr th {\n",
       "        vertical-align: top;\n",
       "    }\n",
       "\n",
       "    .dataframe thead th {\n",
       "        text-align: right;\n",
       "    }\n",
       "</style>\n",
       "<table border=\"1\" class=\"dataframe\">\n",
       "  <thead>\n",
       "    <tr style=\"text-align: right;\">\n",
       "      <th></th>\n",
       "      <th>A1</th>\n",
       "      <th>A2</th>\n",
       "      <th>A3</th>\n",
       "      <th>A4</th>\n",
       "      <th>A5</th>\n",
       "      <th>A6</th>\n",
       "      <th>A7</th>\n",
       "      <th>A8</th>\n",
       "      <th>A9</th>\n",
       "      <th>A10</th>\n",
       "      <th>Age_Mons</th>\n",
       "      <th>Sex</th>\n",
       "      <th>Ethnicity</th>\n",
       "      <th>Jaundice</th>\n",
       "      <th>Family_mem_with_ASD</th>\n",
       "    </tr>\n",
       "  </thead>\n",
       "  <tbody>\n",
       "    <tr>\n",
       "      <th>0</th>\n",
       "      <td>0</td>\n",
       "      <td>0</td>\n",
       "      <td>0</td>\n",
       "      <td>0</td>\n",
       "      <td>0</td>\n",
       "      <td>0</td>\n",
       "      <td>1</td>\n",
       "      <td>1</td>\n",
       "      <td>0</td>\n",
       "      <td>1</td>\n",
       "      <td>28</td>\n",
       "      <td>0</td>\n",
       "      <td>8</td>\n",
       "      <td>1</td>\n",
       "      <td>0</td>\n",
       "    </tr>\n",
       "    <tr>\n",
       "      <th>1</th>\n",
       "      <td>1</td>\n",
       "      <td>1</td>\n",
       "      <td>0</td>\n",
       "      <td>0</td>\n",
       "      <td>0</td>\n",
       "      <td>1</td>\n",
       "      <td>1</td>\n",
       "      <td>0</td>\n",
       "      <td>0</td>\n",
       "      <td>0</td>\n",
       "      <td>36</td>\n",
       "      <td>1</td>\n",
       "      <td>5</td>\n",
       "      <td>1</td>\n",
       "      <td>0</td>\n",
       "    </tr>\n",
       "    <tr>\n",
       "      <th>2</th>\n",
       "      <td>1</td>\n",
       "      <td>0</td>\n",
       "      <td>0</td>\n",
       "      <td>0</td>\n",
       "      <td>0</td>\n",
       "      <td>0</td>\n",
       "      <td>1</td>\n",
       "      <td>1</td>\n",
       "      <td>0</td>\n",
       "      <td>1</td>\n",
       "      <td>36</td>\n",
       "      <td>1</td>\n",
       "      <td>8</td>\n",
       "      <td>1</td>\n",
       "      <td>0</td>\n",
       "    </tr>\n",
       "    <tr>\n",
       "      <th>3</th>\n",
       "      <td>1</td>\n",
       "      <td>1</td>\n",
       "      <td>1</td>\n",
       "      <td>1</td>\n",
       "      <td>1</td>\n",
       "      <td>1</td>\n",
       "      <td>1</td>\n",
       "      <td>1</td>\n",
       "      <td>1</td>\n",
       "      <td>1</td>\n",
       "      <td>24</td>\n",
       "      <td>1</td>\n",
       "      <td>0</td>\n",
       "      <td>0</td>\n",
       "      <td>0</td>\n",
       "    </tr>\n",
       "    <tr>\n",
       "      <th>4</th>\n",
       "      <td>1</td>\n",
       "      <td>1</td>\n",
       "      <td>0</td>\n",
       "      <td>1</td>\n",
       "      <td>1</td>\n",
       "      <td>1</td>\n",
       "      <td>1</td>\n",
       "      <td>1</td>\n",
       "      <td>1</td>\n",
       "      <td>1</td>\n",
       "      <td>20</td>\n",
       "      <td>0</td>\n",
       "      <td>5</td>\n",
       "      <td>0</td>\n",
       "      <td>1</td>\n",
       "    </tr>\n",
       "    <tr>\n",
       "      <th>...</th>\n",
       "      <td>...</td>\n",
       "      <td>...</td>\n",
       "      <td>...</td>\n",
       "      <td>...</td>\n",
       "      <td>...</td>\n",
       "      <td>...</td>\n",
       "      <td>...</td>\n",
       "      <td>...</td>\n",
       "      <td>...</td>\n",
       "      <td>...</td>\n",
       "      <td>...</td>\n",
       "      <td>...</td>\n",
       "      <td>...</td>\n",
       "      <td>...</td>\n",
       "      <td>...</td>\n",
       "    </tr>\n",
       "    <tr>\n",
       "      <th>1049</th>\n",
       "      <td>0</td>\n",
       "      <td>0</td>\n",
       "      <td>0</td>\n",
       "      <td>0</td>\n",
       "      <td>0</td>\n",
       "      <td>0</td>\n",
       "      <td>0</td>\n",
       "      <td>0</td>\n",
       "      <td>0</td>\n",
       "      <td>1</td>\n",
       "      <td>24</td>\n",
       "      <td>0</td>\n",
       "      <td>5</td>\n",
       "      <td>0</td>\n",
       "      <td>1</td>\n",
       "    </tr>\n",
       "    <tr>\n",
       "      <th>1050</th>\n",
       "      <td>0</td>\n",
       "      <td>0</td>\n",
       "      <td>1</td>\n",
       "      <td>1</td>\n",
       "      <td>1</td>\n",
       "      <td>0</td>\n",
       "      <td>1</td>\n",
       "      <td>0</td>\n",
       "      <td>1</td>\n",
       "      <td>0</td>\n",
       "      <td>12</td>\n",
       "      <td>1</td>\n",
       "      <td>7</td>\n",
       "      <td>1</td>\n",
       "      <td>0</td>\n",
       "    </tr>\n",
       "    <tr>\n",
       "      <th>1051</th>\n",
       "      <td>1</td>\n",
       "      <td>0</td>\n",
       "      <td>1</td>\n",
       "      <td>1</td>\n",
       "      <td>1</td>\n",
       "      <td>1</td>\n",
       "      <td>1</td>\n",
       "      <td>1</td>\n",
       "      <td>1</td>\n",
       "      <td>1</td>\n",
       "      <td>18</td>\n",
       "      <td>1</td>\n",
       "      <td>8</td>\n",
       "      <td>1</td>\n",
       "      <td>0</td>\n",
       "    </tr>\n",
       "    <tr>\n",
       "      <th>1052</th>\n",
       "      <td>1</td>\n",
       "      <td>0</td>\n",
       "      <td>0</td>\n",
       "      <td>0</td>\n",
       "      <td>0</td>\n",
       "      <td>0</td>\n",
       "      <td>0</td>\n",
       "      <td>1</td>\n",
       "      <td>0</td>\n",
       "      <td>1</td>\n",
       "      <td>19</td>\n",
       "      <td>1</td>\n",
       "      <td>5</td>\n",
       "      <td>0</td>\n",
       "      <td>1</td>\n",
       "    </tr>\n",
       "    <tr>\n",
       "      <th>1053</th>\n",
       "      <td>1</td>\n",
       "      <td>1</td>\n",
       "      <td>0</td>\n",
       "      <td>0</td>\n",
       "      <td>1</td>\n",
       "      <td>1</td>\n",
       "      <td>0</td>\n",
       "      <td>1</td>\n",
       "      <td>1</td>\n",
       "      <td>0</td>\n",
       "      <td>24</td>\n",
       "      <td>1</td>\n",
       "      <td>6</td>\n",
       "      <td>1</td>\n",
       "      <td>1</td>\n",
       "    </tr>\n",
       "  </tbody>\n",
       "</table>\n",
       "<p>1054 rows × 15 columns</p>\n",
       "</div>"
      ],
      "text/plain": [
       "      A1  A2  A3  A4  A5  A6  A7  A8  A9  A10  Age_Mons Sex Ethnicity  \\\n",
       "0      0   0   0   0   0   0   1   1   0    1        28   0         8   \n",
       "1      1   1   0   0   0   1   1   0   0    0        36   1         5   \n",
       "2      1   0   0   0   0   0   1   1   0    1        36   1         8   \n",
       "3      1   1   1   1   1   1   1   1   1    1        24   1         0   \n",
       "4      1   1   0   1   1   1   1   1   1    1        20   0         5   \n",
       "...   ..  ..  ..  ..  ..  ..  ..  ..  ..  ...       ...  ..       ...   \n",
       "1049   0   0   0   0   0   0   0   0   0    1        24   0         5   \n",
       "1050   0   0   1   1   1   0   1   0   1    0        12   1         7   \n",
       "1051   1   0   1   1   1   1   1   1   1    1        18   1         8   \n",
       "1052   1   0   0   0   0   0   0   1   0    1        19   1         5   \n",
       "1053   1   1   0   0   1   1   0   1   1    0        24   1         6   \n",
       "\n",
       "     Jaundice Family_mem_with_ASD  \n",
       "0           1                   0  \n",
       "1           1                   0  \n",
       "2           1                   0  \n",
       "3           0                   0  \n",
       "4           0                   1  \n",
       "...       ...                 ...  \n",
       "1049        0                   1  \n",
       "1050        1                   0  \n",
       "1051        1                   0  \n",
       "1052        0                   1  \n",
       "1053        1                   1  \n",
       "\n",
       "[1054 rows x 15 columns]"
      ]
     },
     "execution_count": 8,
     "metadata": {},
     "output_type": "execute_result"
    }
   ],
   "source": [
    "X"
   ]
  },
  {
   "cell_type": "markdown",
   "metadata": {},
   "source": [
    "## 3.2 Choose target"
   ]
  },
  {
   "cell_type": "code",
   "execution_count": 9,
   "metadata": {},
   "outputs": [],
   "source": [
    "Y_classification = ASD_data.Class_ASD_Traits_"
   ]
  },
  {
   "cell_type": "markdown",
   "metadata": {},
   "source": [
    "# 4. Build KNN Model"
   ]
  },
  {
   "cell_type": "markdown",
   "metadata": {},
   "source": [
    "## 4.1 Split the dataset into training set and test set"
   ]
  },
  {
   "cell_type": "code",
   "execution_count": 10,
   "metadata": {},
   "outputs": [
    {
     "name": "stdout",
     "output_type": "stream",
     "text": [
      "(843, 15)\n",
      "(211, 15)\n"
     ]
    }
   ],
   "source": [
    "X_train, X_test, y_train, y_test = train_test_split(X, Y_classification, test_size=1 / 5, random_state=1,\n",
    "                                                    stratify=Y_classification)\n",
    "print(X_train.shape)\n",
    "print(X_test.shape)"
   ]
  },
  {
   "cell_type": "markdown",
   "metadata": {},
   "source": [
    "## 4.2 Build KNN Model (k=?)"
   ]
  },
  {
   "cell_type": "code",
   "execution_count": 11,
   "metadata": {},
   "outputs": [
    {
     "name": "stdout",
     "output_type": "stream",
     "text": [
      "Score in training set: 0.957\n",
      "Score in test set: 0.948\n"
     ]
    }
   ],
   "source": [
    "knn_classifier=KNeighborsClassifier(n_neighbors=5)\n",
    "knn_classifier.fit(X_train, y_train)\n",
    "\n",
    "print('Score in training set: {:.3f}'.format(knn_classifier.score(X_train, y_train)))\n",
    "print('Score in test set: {:.3f}'.format(knn_classifier.score(X_test, y_test)))"
   ]
  },
  {
   "cell_type": "markdown",
   "metadata": {},
   "source": [
    "## 4.3. Use grid search to optimize the parameters"
   ]
  },
  {
   "cell_type": "code",
   "execution_count": 12,
   "metadata": {},
   "outputs": [
    {
     "name": "stdout",
     "output_type": "stream",
     "text": [
      "The best k (train score) is 3\n",
      "The best k (test  score) is 5\n"
     ]
    }
   ],
   "source": [
    "test_scores = []\n",
    "train_scores = []\n",
    "\n",
    "# Grid search and find the optimal parameter (N neighborhoods)\n",
    "for i in range(2, 20):\n",
    "    knn_classifier=KNeighborsClassifier(n_neighbors=i)\n",
    "    knn_classifier.fit(X_train, y_train)\n",
    "\n",
    "    train_scores.append(knn_classifier.score(X_train, y_train))\n",
    "    test_scores.append(knn_classifier.score(X_test, y_test))\n",
    "\n",
    "# Print the best model index\n",
    "max_train_score = max(train_scores)\n",
    "print('The best k (train score) is', train_scores.index(max_train_score)+2)\n",
    "\n",
    "max_test_score = max(test_scores)\n",
    "print('The best k (test  score) is', test_scores.index(max_test_score)+2)"
   ]
  },
  {
   "cell_type": "code",
   "execution_count": 13,
   "metadata": {
    "scrolled": true
   },
   "outputs": [
    {
     "name": "stdout",
     "output_type": "stream",
     "text": [
      "k = 2 - Train Accuracy = 0.935\n",
      "k = 3 - Train Accuracy = 0.963\n",
      "k = 4 - Train Accuracy = 0.944\n",
      "k = 5 - Train Accuracy = 0.957\n",
      "k = 6 - Train Accuracy = 0.945\n",
      "k = 7 - Train Accuracy = 0.955\n",
      "k = 8 - Train Accuracy = 0.943\n",
      "k = 9 - Train Accuracy = 0.938\n",
      "k = 10 - Train Accuracy = 0.936\n",
      "k = 11 - Train Accuracy = 0.936\n",
      "k = 12 - Train Accuracy = 0.938\n",
      "k = 13 - Train Accuracy = 0.935\n",
      "k = 14 - Train Accuracy = 0.930\n",
      "k = 15 - Train Accuracy = 0.929\n",
      "k = 16 - Train Accuracy = 0.928\n",
      "k = 17 - Train Accuracy = 0.928\n",
      "k = 18 - Train Accuracy = 0.923\n",
      "k = 19 - Train Accuracy = 0.923\n"
     ]
    }
   ],
   "source": [
    "for i in range(0, len(train_scores)):\n",
    "    print('k = {0} - Train Accuracy = {1:.3f}'.format(i+2, train_scores[i]))"
   ]
  },
  {
   "cell_type": "code",
   "execution_count": 14,
   "metadata": {},
   "outputs": [
    {
     "name": "stdout",
     "output_type": "stream",
     "text": [
      "k = 2 - Test Accuracy = 0.891\n",
      "k = 3 - Test Accuracy = 0.929\n",
      "k = 4 - Test Accuracy = 0.934\n",
      "k = 5 - Test Accuracy = 0.948\n",
      "k = 6 - Test Accuracy = 0.938\n",
      "k = 7 - Test Accuracy = 0.948\n",
      "k = 8 - Test Accuracy = 0.934\n",
      "k = 9 - Test Accuracy = 0.943\n",
      "k = 10 - Test Accuracy = 0.938\n",
      "k = 11 - Test Accuracy = 0.929\n",
      "k = 12 - Test Accuracy = 0.934\n",
      "k = 13 - Test Accuracy = 0.934\n",
      "k = 14 - Test Accuracy = 0.934\n",
      "k = 15 - Test Accuracy = 0.929\n",
      "k = 16 - Test Accuracy = 0.934\n",
      "k = 17 - Test Accuracy = 0.934\n",
      "k = 18 - Test Accuracy = 0.924\n",
      "k = 19 - Test Accuracy = 0.919\n"
     ]
    }
   ],
   "source": [
    "for i in range(0, len(test_scores)):\n",
    "    print('k = {0} - Test Accuracy = {1:.3f}'.format(i+2, test_scores[i]))"
   ]
  },
  {
   "cell_type": "code",
   "execution_count": 15,
   "metadata": {},
   "outputs": [
    {
     "name": "stdout",
     "output_type": "stream",
     "text": [
      "Score in training set: 0.963\n",
      "Score in test set: 0.929\n"
     ]
    }
   ],
   "source": [
    "knn_classifier=KNeighborsClassifier(n_neighbors=3) # k = 3\n",
    "knn_classifier.fit(X_train, y_train)\n",
    "\n",
    "print('Score in training set: {:.3f}'.format(knn_classifier.score(X_train, y_train)))\n",
    "print('Score in test set: {:.3f}'.format(knn_classifier.score(X_test, y_test)))"
   ]
  },
  {
   "cell_type": "code",
   "execution_count": 16,
   "metadata": {},
   "outputs": [
    {
     "name": "stdout",
     "output_type": "stream",
     "text": [
      "Score in training set: 0.928\n",
      "Score in test set: 0.934\n"
     ]
    }
   ],
   "source": [
    "knn_classifier=KNeighborsClassifier(n_neighbors=17) # k = 17\n",
    "knn_classifier.fit(X_train, y_train)\n",
    "\n",
    "print('Score in training set: {:.3f}'.format(knn_classifier.score(X_train, y_train)))\n",
    "print('Score in test set: {:.3f}'.format(knn_classifier.score(X_test, y_test)))"
   ]
  },
  {
   "cell_type": "markdown",
   "metadata": {},
   "source": [
    "# 5. Visualize the performance"
   ]
  },
  {
   "cell_type": "code",
   "execution_count": 17,
   "metadata": {},
   "outputs": [
    {
     "data": {
      "image/png": "[encoded data removed]",
      "text/plain": [
       "<Figure size 432x288 with 1 Axes>"
      ]
     },
     "metadata": {
      "needs_background": "light"
     },
     "output_type": "display_data"
    }
   ],
   "source": [
    "# Visualize the result of KNN with LinearDiscriminantAnalysis\n",
    "from sklearn.discriminant_analysis import LinearDiscriminantAnalysis\n",
    "\n",
    "lda = LinearDiscriminantAnalysis(n_components=1)\n",
    "\n",
    "X_new = lda.fit_transform(X_test, y_test)\n",
    "\n",
    "y_test_new = y_test.apply(lambda x:x + np.random.uniform(-0.1,0.1))\n",
    "\n",
    "plt.scatter(X_new[knn_classifier.predict(X_test) == 1], y_test_new[knn_classifier.predict(X_test) == 1], marker='o', c='orange', s=5)\n",
    "plt.scatter(X_new[knn_classifier.predict(X_test) == 0], y_test_new[knn_classifier.predict(X_test) == 0], marker='o', c='blue', s=5)\n",
    "\n",
    "plt.legend(['predicted ASD', 'predicted Not ASD'], loc='best')\n",
    "plt.show()"
   ]
  },
  {
   "cell_type": "code",
   "execution_count": 18,
   "metadata": {},
   "outputs": [
    {
     "data": {
      "image/png": "[encoded data removed]",
      "text/plain": [
       "<Figure size 432x288 with 1 Axes>"
      ]
     },
     "metadata": {
      "needs_background": "light"
     },
     "output_type": "display_data"
    }
   ],
   "source": [
    "from sklearn.decomposition import PCA\n",
    "pca = PCA(n_components=2)\n",
    "X_new = pca.fit_transform(X)\n",
    "color = []\n",
    "for y in Y_classification:\n",
    "    color.append('orange' if y == 1 else 'b')\n",
    "plt.scatter(X_new[:, 0], X_new[:, 1], marker='o', c=color) # Orange: ASD; Blue Not ASD;\n",
    "plt.show()"
   ]
  },
  {
   "cell_type": "markdown",
   "metadata": {},
   "source": [
    "---"
   ]
  },
  {
   "cell_type": "markdown",
   "metadata": {},
   "source": [
    "# 6. Workshop"
   ]
  },
  {
   "cell_type": "code",
   "execution_count": 60,
   "metadata": {},
   "outputs": [
    {
     "name": "stdout",
     "output_type": "stream",
     "text": [
      "      A1  A2  A3  A4  A5  A6  A7  A8  A9  A10  ...  Ethnicity_5  Ethnicity_6  \\\n",
      "0      0   0   0   0   0   0   1   1   0    1  ...            0            0   \n",
      "1      1   1   0   0   0   1   1   0   0    0  ...            1            0   \n",
      "2      1   0   0   0   0   0   1   1   0    1  ...            0            0   \n",
      "3      1   1   1   1   1   1   1   1   1    1  ...            0            0   \n",
      "4      1   1   0   1   1   1   1   1   1    1  ...            1            0   \n",
      "...   ..  ..  ..  ..  ..  ..  ..  ..  ..  ...  ...          ...          ...   \n",
      "1049   0   0   0   0   0   0   0   0   0    1  ...            1            0   \n",
      "1050   0   0   1   1   1   0   1   0   1    0  ...            0            0   \n",
      "1051   1   0   1   1   1   1   1   1   1    1  ...            0            0   \n",
      "1052   1   0   0   0   0   0   0   1   0    1  ...            1            0   \n",
      "1053   1   1   0   0   1   1   0   1   1    0  ...            0            1   \n",
      "\n",
      "      Ethnicity_7  Ethnicity_8  Ethnicity_9  Ethnicity_10  Jaundice_0  \\\n",
      "0               0            1            0             0           0   \n",
      "1               0            0            0             0           0   \n",
      "2               0            1            0             0           0   \n",
      "3               0            0            0             0           1   \n",
      "4               0            0            0             0           1   \n",
      "...           ...          ...          ...           ...         ...   \n",
      "1049            0            0            0             0           1   \n",
      "1050            1            0            0             0           0   \n",
      "1051            0            1            0             0           0   \n",
      "1052            0            0            0             0           1   \n",
      "1053            0            0            0             0           0   \n",
      "\n",
      "      Jaundice_1  Family_ASD_Hx_0  Family_ASD_Hx_1  \n",
      "0              1                1                0  \n",
      "1              1                1                0  \n",
      "2              1                1                0  \n",
      "3              0                1                0  \n",
      "4              0                0                1  \n",
      "...          ...              ...              ...  \n",
      "1049           0                0                1  \n",
      "1050           1                1                0  \n",
      "1051           1                1                0  \n",
      "1052           0                0                1  \n",
      "1053           1                0                1  \n",
      "\n",
      "[1054 rows x 28 columns]\n"
     ]
    }
   ],
   "source": [
    "# kNN is very sensitive to the distance between two samples, which has mutiple variables/features\n",
    "# Therefore, we have to carefully preprocess our training samples. \n",
    "# In earlier code example, \n",
    "# (1) Scaling part is missing, e.g. feature: ASD_data['Age_Mons']\n",
    "from sklearn.preprocessing import StandardScaler\n",
    "scaler = StandardScaler()\n",
    "ASD_data['Age_Mons'] = scaler.fit_transform(ASD_data[['Age_Mons']])\n",
    "# (2) For multi-values categorical variable, we should use dummy encoding (one-hot vector), which is also missing. \n",
    "import pandas as pd\n",
    "encode_sex = pd.get_dummies(ASD_data['Sex'], prefix='Sex')\n",
    "encode_ethnicity = pd.get_dummies(ASD_data['Ethnicity'], prefix='Ethnicity')\n",
    "encode_jaundice = pd.get_dummies(ASD_data['Jaundice'], prefix='Jaundice')\n",
    "encode_asd_hx = pd.get_dummies(ASD_data['Family_mem_with_ASD'], prefix='Family_ASD_Hx')\n",
    "encoded_parameters = [encode_sex, encode_ethnicity, encode_jaundice, encode_asd_hx]\n",
    "for param in encoded_parameters:\n",
    "    for col in param:\n",
    "        ASD_data[col] = param[col]\n",
    "# You should enhance above code, then re-fit the kNN model to improve the classification accuracy.\n",
    "#\n",
    "#\n",
    "#\n",
    "# Chang Siang: Drop the columns that has been convered to one-hot encoding columns\n",
    "X = X = ASD_data.drop(['Case_No', 'Who_completed_the_test', 'Qchat_10_Score', 'Class_ASD_Traits_', \n",
    "                       'Sex', 'Ethnicity', 'Jaundice', 'Family_mem_with_ASD'], axis=1)\n",
    "# Print to inspect the data visually\n",
    "print(X)"
   ]
  },
  {
   "cell_type": "code",
   "execution_count": 61,
   "metadata": {},
   "outputs": [
    {
     "name": "stdout",
     "output_type": "stream",
     "text": [
      "The best k (train score) is 3\n",
      "The best k (test  score) is 5\n"
     ]
    }
   ],
   "source": [
    "# Run kNN again\n",
    "test_scores = []\n",
    "train_scores = []\n",
    "\n",
    "# Grid search and find the optimal parameter (N neighborhoods)\n",
    "for i in range(2, 20):\n",
    "    knn_classifier=KNeighborsClassifier(n_neighbors=i)\n",
    "    knn_classifier.fit(X_train, y_train)\n",
    "\n",
    "    train_scores.append(knn_classifier.score(X_train, y_train))\n",
    "    test_scores.append(knn_classifier.score(X_test, y_test))\n",
    "\n",
    "# Print the best model index\n",
    "max_train_score = max(train_scores)\n",
    "print('The best k (train score) is', train_scores.index(max_train_score)+2)\n",
    "\n",
    "max_test_score = max(test_scores)\n",
    "print('The best k (test  score) is', test_scores.index(max_test_score)+2)"
   ]
  },
  {
   "cell_type": "code",
   "execution_count": 62,
   "metadata": {},
   "outputs": [
    {
     "name": "stdout",
     "output_type": "stream",
     "text": [
      "Score in training set: 0.963\n",
      "Score in test set: 0.929\n"
     ]
    }
   ],
   "source": [
    "knn_classifier=KNeighborsClassifier(n_neighbors=3) # k = 3\n",
    "knn_classifier.fit(X_train, y_train)\n",
    "\n",
    "print('Score in training set: {:.3f}'.format(knn_classifier.score(X_train, y_train)))\n",
    "print('Score in test set: {:.3f}'.format(knn_classifier.score(X_test, y_test)))"
   ]
  },
  {
   "cell_type": "markdown",
   "metadata": {},
   "source": [
    "---"
   ]
  },
  {
   "cell_type": "code",
   "execution_count": 63,
   "metadata": {},
   "outputs": [
    {
     "data": {
      "image/png": "[encoded data removed]",
      "text/plain": [
       "<Figure size 432x288 with 1 Axes>"
      ]
     },
     "metadata": {
      "needs_background": "light"
     },
     "output_type": "display_data"
    }
   ],
   "source": [
    "from sklearn.decomposition import PCA\n",
    "pca = PCA(n_components=2)\n",
    "X_new = pca.fit_transform(X)\n",
    "color = []\n",
    "for y in Y_classification:\n",
    "    color.append('orange' if y == 1 else 'b')\n",
    "plt.scatter(X_new[:, 0], X_new[:, 1], marker='o', c=color) # Orange: ASD; Blue Not ASD;\n",
    "plt.show()"
   ]
  },
  {
   "cell_type": "markdown",
   "metadata": {},
   "source": [
    "---\n",
    "`The end is also called then new start.` --- ISS : **I** **S**(elf) **S**(tudy)"
   ]
  },
  {
   "cell_type": "markdown",
   "metadata": {},
   "source": [
    "---"
   ]
  }
 ],
 "metadata": {
  "kernelspec": {
   "display_name": "Python3 (iss-is-py35)",
   "language": "python",
   "name": "iss-is-py35"
  },
  "language_info": {
   "codemirror_mode": {
    "name": "ipython",
    "version": 3
   },
   "file_extension": ".py",
   "mimetype": "text/x-python",
   "name": "python",
   "nbconvert_exporter": "python",
   "pygments_lexer": "ipython3",
   "version": "3.5.5"
  }
 },
 "nbformat": 4,
 "nbformat_minor": 4
}
