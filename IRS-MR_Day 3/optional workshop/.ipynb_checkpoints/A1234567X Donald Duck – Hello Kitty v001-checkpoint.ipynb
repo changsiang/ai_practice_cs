{
 "cells": [
  {
   "cell_type": "markdown",
   "metadata": {},
   "source": [
    "# 0. Installation"
   ]
  },
  {
   "cell_type": "code",
   "execution_count": 1,
   "metadata": {},
   "outputs": [],
   "source": [
    "# Please refer to the workshop slides"
   ]
  },
  {
   "cell_type": "markdown",
   "metadata": {},
   "source": [
    "Installation:\n",
    "\n",
    "go to https://sourceforge.net/projects/pyke/files/pyke/1.1.1/\n",
    "\n",
    "        - download pyke3-1.1.1.zip if your Python version is 3.x\n",
    "        \n",
    "        - download pyke-1.1.1.zip if your Python version is 2.x\n",
    "\n",
    "After unzipping the file, go into the directory and run in **iss ai-vm py36** environment: \n",
    "\n",
    "python setup.py build\n",
    "\n",
    "python setup.py install\t\n",
    "\n",
    "Read documentations about Pyke in http://pyke.sourceforge.net/\n"
   ]
  },
  {
   "cell_type": "markdown",
   "metadata": {},
   "source": [
    "# 1. Import Library"
   ]
  },
  {
   "cell_type": "code",
   "execution_count": 1,
   "metadata": {},
   "outputs": [
    {
     "ename": "ImportError",
     "evalue": "No module named 'pyke'",
     "output_type": "error",
     "traceback": [
      "\u001b[0;31m---------------------------------------------------------------------------\u001b[0m",
      "\u001b[0;31mImportError\u001b[0m                               Traceback (most recent call last)",
      "\u001b[0;32m<ipython-input-1-78ec75f9b41b>\u001b[0m in \u001b[0;36m<module>\u001b[0;34m()\u001b[0m\n\u001b[0;32m----> 1\u001b[0;31m \u001b[0;32mfrom\u001b[0m \u001b[0mpyke\u001b[0m \u001b[0;32mimport\u001b[0m \u001b[0mknowledge_engine\u001b[0m\u001b[0;34m\u001b[0m\u001b[0m\n\u001b[0m\u001b[1;32m      2\u001b[0m \u001b[0;32mimport\u001b[0m \u001b[0mshutil\u001b[0m\u001b[0;34m\u001b[0m\u001b[0m\n\u001b[1;32m      3\u001b[0m \u001b[0;32mimport\u001b[0m \u001b[0mos\u001b[0m\u001b[0;34m\u001b[0m\u001b[0m\n",
      "\u001b[0;31mImportError\u001b[0m: No module named 'pyke'"
     ]
    }
   ],
   "source": [
    "from pyke import knowledge_engine\n",
    "import shutil\n",
    "import os"
   ]
  },
  {
   "cell_type": "markdown",
   "metadata": {},
   "source": [
    "# 2. Compile the rules"
   ]
  },
  {
   "cell_type": "code",
   "execution_count": 120,
   "metadata": {},
   "outputs": [
    {
     "ename": "NameError",
     "evalue": "name '__file__' is not defined",
     "output_type": "error",
     "traceback": [
      "\u001b[1;31m---------------------------------------------------------------------------\u001b[0m",
      "\u001b[1;31mNameError\u001b[0m                                 Traceback (most recent call last)",
      "\u001b[1;32m<ipython-input-120-fb389f42a98c>\u001b[0m in \u001b[0;36m<module>\u001b[1;34m\u001b[0m\n\u001b[0;32m      1\u001b[0m \u001b[1;31m# Build the rule-based system. Compile the rules\u001b[0m\u001b[1;33m\u001b[0m\u001b[1;33m\u001b[0m\u001b[1;33m\u001b[0m\u001b[0m\n\u001b[1;32m----> 2\u001b[1;33m \u001b[0mmy_engine\u001b[0m \u001b[1;33m=\u001b[0m \u001b[0mknowledge_engine\u001b[0m\u001b[1;33m.\u001b[0m\u001b[0mengine\u001b[0m\u001b[1;33m(\u001b[0m\u001b[0m__file__\u001b[0m\u001b[1;33m)\u001b[0m\u001b[1;33m\u001b[0m\u001b[1;33m\u001b[0m\u001b[0m\n\u001b[0m",
      "\u001b[1;31mNameError\u001b[0m: name '__file__' is not defined"
     ]
    }
   ],
   "source": [
    "# Build the rule-based system. Compile the rules\n",
    "my_engine = knowledge_engine.engine(__file__)"
   ]
  },
  {
   "cell_type": "markdown",
   "metadata": {},
   "source": [
    "# 3. Inference"
   ]
  },
  {
   "cell_type": "markdown",
   "metadata": {},
   "source": [
    "## 3.1. FC"
   ]
  },
  {
   "cell_type": "code",
   "execution_count": 117,
   "metadata": {},
   "outputs": [
    {
     "ename": "KeyError",
     "evalue": "'rule_base hellokitty_fc not found'",
     "output_type": "error",
     "traceback": [
      "\u001b[1;31m---------------------------------------------------------------------------\u001b[0m",
      "\u001b[1;31mKeyError\u001b[0m                                  Traceback (most recent call last)",
      "\u001b[1;32m<ipython-input-117-5a3e8c51e803>\u001b[0m in \u001b[0;36m<module>\u001b[1;34m\u001b[0m\n\u001b[0;32m      1\u001b[0m \u001b[1;31m# Activate corresponding ruleflow group 'hellokitty_fc'\u001b[0m\u001b[1;33m\u001b[0m\u001b[1;33m\u001b[0m\u001b[1;33m\u001b[0m\u001b[0m\n\u001b[0;32m      2\u001b[0m \u001b[1;31m#my_engine.reset()\u001b[0m\u001b[1;33m\u001b[0m\u001b[1;33m\u001b[0m\u001b[1;33m\u001b[0m\u001b[0m\n\u001b[1;32m----> 3\u001b[1;33m \u001b[0mmy_engine\u001b[0m\u001b[1;33m.\u001b[0m\u001b[0mactivate\u001b[0m\u001b[1;33m(\u001b[0m\u001b[1;34m'hellokitty_fc'\u001b[0m\u001b[1;33m)\u001b[0m\u001b[1;33m\u001b[0m\u001b[1;33m\u001b[0m\u001b[0m\n\u001b[0m\u001b[0;32m      4\u001b[0m \u001b[1;33m\u001b[0m\u001b[0m\n\u001b[0;32m      5\u001b[0m \u001b[1;31m# Using forward chaining to find out who kills HelloKitty\u001b[0m\u001b[1;33m\u001b[0m\u001b[1;33m\u001b[0m\u001b[1;33m\u001b[0m\u001b[0m\n",
      "\u001b[1;32m~\\AppData\\Local\\Continuum\\anaconda3\\lib\\site-packages\\pyke\\knowledge_engine.py\u001b[0m in \u001b[0;36mactivate\u001b[1;34m(self, *rb_names)\u001b[0m\n\u001b[0;32m    295\u001b[0m         \u001b[0madd\u001b[0m \u001b[0myour\u001b[0m \u001b[0mfacts\u001b[0m \u001b[0mbefore\u001b[0m \u001b[0mdoing\u001b[0m \u001b[0mthis\u001b[0m\u001b[0;31m!\u001b[0m\u001b[1;33m\u001b[0m\u001b[1;33m\u001b[0m\u001b[0m\n\u001b[0;32m    296\u001b[0m         '''\n\u001b[1;32m--> 297\u001b[1;33m         \u001b[1;32mfor\u001b[0m \u001b[0mrb_name\u001b[0m \u001b[1;32min\u001b[0m \u001b[0mrb_names\u001b[0m\u001b[1;33m:\u001b[0m \u001b[0mself\u001b[0m\u001b[1;33m.\u001b[0m\u001b[0mget_rb\u001b[0m\u001b[1;33m(\u001b[0m\u001b[0mrb_name\u001b[0m\u001b[1;33m)\u001b[0m\u001b[1;33m.\u001b[0m\u001b[0mactivate\u001b[0m\u001b[1;33m(\u001b[0m\u001b[1;33m)\u001b[0m\u001b[1;33m\u001b[0m\u001b[1;33m\u001b[0m\u001b[0m\n\u001b[0m\u001b[0;32m    298\u001b[0m \u001b[1;33m\u001b[0m\u001b[0m\n\u001b[0;32m    299\u001b[0m     \u001b[1;32mdef\u001b[0m \u001b[0mlookup\u001b[0m\u001b[1;33m(\u001b[0m\u001b[0mself\u001b[0m\u001b[1;33m,\u001b[0m \u001b[0mkb_name\u001b[0m\u001b[1;33m,\u001b[0m \u001b[0mentity_name\u001b[0m\u001b[1;33m,\u001b[0m \u001b[0mpat_context\u001b[0m\u001b[1;33m,\u001b[0m \u001b[0mpatterns\u001b[0m\u001b[1;33m)\u001b[0m\u001b[1;33m:\u001b[0m\u001b[1;33m\u001b[0m\u001b[1;33m\u001b[0m\u001b[0m\n",
      "\u001b[1;32m~\\AppData\\Local\\Continuum\\anaconda3\\lib\\site-packages\\pyke\\knowledge_engine.py\u001b[0m in \u001b[0;36mget_rb\u001b[1;34m(self, rb_name)\u001b[0m\n\u001b[0;32m    247\u001b[0m     \u001b[1;32mdef\u001b[0m \u001b[0mget_rb\u001b[0m\u001b[1;33m(\u001b[0m\u001b[0mself\u001b[0m\u001b[1;33m,\u001b[0m \u001b[0mrb_name\u001b[0m\u001b[1;33m)\u001b[0m\u001b[1;33m:\u001b[0m\u001b[1;33m\u001b[0m\u001b[1;33m\u001b[0m\u001b[0m\n\u001b[0;32m    248\u001b[0m         \u001b[0mans\u001b[0m \u001b[1;33m=\u001b[0m \u001b[0mself\u001b[0m\u001b[1;33m.\u001b[0m\u001b[0mrule_bases\u001b[0m\u001b[1;33m.\u001b[0m\u001b[0mget\u001b[0m\u001b[1;33m(\u001b[0m\u001b[0mrb_name\u001b[0m\u001b[1;33m)\u001b[0m\u001b[1;33m\u001b[0m\u001b[1;33m\u001b[0m\u001b[0m\n\u001b[1;32m--> 249\u001b[1;33m         \u001b[1;32mif\u001b[0m \u001b[0mans\u001b[0m \u001b[1;32mis\u001b[0m \u001b[1;32mNone\u001b[0m\u001b[1;33m:\u001b[0m \u001b[1;32mraise\u001b[0m \u001b[0mKeyError\u001b[0m\u001b[1;33m(\u001b[0m\u001b[1;34m\"rule_base %s not found\"\u001b[0m \u001b[1;33m%\u001b[0m \u001b[0mrb_name\u001b[0m\u001b[1;33m)\u001b[0m\u001b[1;33m\u001b[0m\u001b[1;33m\u001b[0m\u001b[0m\n\u001b[0m\u001b[0;32m    250\u001b[0m         \u001b[1;32mreturn\u001b[0m \u001b[0mans\u001b[0m\u001b[1;33m\u001b[0m\u001b[1;33m\u001b[0m\u001b[0m\n\u001b[0;32m    251\u001b[0m \u001b[1;33m\u001b[0m\u001b[0m\n",
      "\u001b[1;31mKeyError\u001b[0m: 'rule_base hellokitty_fc not found'"
     ]
    }
   ],
   "source": [
    "# Activate corresponding ruleflow group 'hellokitty_fc'\n",
    "#my_engine.reset()\n",
    "my_engine.activate('hellokitty_fc')\n",
    "\n",
    "# Using forward chaining to find out who kills HelloKitty\n",
    "my_engine.get_kb('hellokitty_facts').dump_specific_facts()"
   ]
  },
  {
   "cell_type": "markdown",
   "metadata": {},
   "source": [
    "## 3.2. BC"
   ]
  },
  {
   "cell_type": "code",
   "execution_count": 111,
   "metadata": {},
   "outputs": [
    {
     "name": "stdout",
     "output_type": "stream",
     "text": [
      "Sam kills the Hellokitty!\n"
     ]
    }
   ],
   "source": [
    "# Activate corresponding ruleflow group 'hellokitty_bc'\n",
    "my_engine.reset()\n",
    "my_engine.activate('hellokitty_bc')\n",
    "#my_engine.get_kb('hellokitty_facts')\n",
    "# Using backward chaining to find out who kills HelloKitty\n",
    "goal, _ = my_engine.prove_1_goal('hellokitty_bc.Kill($creature, Hellokitty, True)')\n",
    "\n",
    "print(goal['creature']+' kills the Hellokitty!')"
   ]
  },
  {
   "cell_type": "markdown",
   "metadata": {},
   "source": [
    "# 4. [Optional] Workshop: Guess the Animal\n"
   ]
  },
  {
   "cell_type": "code",
   "execution_count": null,
   "metadata": {},
   "outputs": [],
   "source": [
    "# Write the krb and kfb files first!\n",
    "    \n",
    "# Build the rule-based system. Compile the rules\n",
    "my_engine = knowledge_engine.engine((os.getcwd(), '.which_animal'))\n",
    "# FC\n",
    "# Activate corresponding ruleflow group 'hellokitty_fc'\n",
    "my_engine.activate('which_animal_fc')\n",
    "\n",
    "# Using forward chaining to find out who kills HelloKitty\n",
    "my_engine.get_kb('which_animal_facts').dump_specific_facts()\n",
    "\n",
    "# BC\n",
    "# Activate corresponding ruleflow group 'hellokitty_bc'\n",
    "my_engine.activate('which_animal_bc')\n",
    "\n",
    "# Using backward chaining to find out who kills HelloKitty\n",
    "goal, _ = my_engine.prove_1_goal() # The goal shoube be confirmed here"
   ]
  },
  {
   "cell_type": "markdown",
   "metadata": {},
   "source": [
    "---\n",
    "`The end is also called the new start.` ISS : **I** **S**(elf) **S**(tudy)"
   ]
  },
  {
   "cell_type": "markdown",
   "metadata": {},
   "source": [
    "---"
   ]
  }
 ],
 "metadata": {
  "kernelspec": {
   "display_name": "Python3 (iss-is-py35)",
   "language": "python",
   "name": "iss-is-py35"
  },
  "language_info": {
   "codemirror_mode": {
    "name": "ipython",
    "version": 3
   },
   "file_extension": ".py",
   "mimetype": "text/x-python",
   "name": "python",
   "nbconvert_exporter": "python",
   "pygments_lexer": "ipython3",
   "version": "3.5.5"
  }
 },
 "nbformat": 4,
 "nbformat_minor": 4
}
